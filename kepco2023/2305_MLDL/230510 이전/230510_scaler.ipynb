{
 "cells": [
  {
   "cell_type": "code",
   "execution_count": 1,
   "id": "ad53de8c-2991-4069-988c-758550aee78f",
   "metadata": {},
   "outputs": [
    {
     "data": {
      "text/plain": [
       "['C:\\\\work2023',\n",
       " 'C:\\\\Users\\\\admin\\\\AppData\\\\Local\\\\Programs\\\\Python\\\\Python311\\\\python311.zip',\n",
       " 'C:\\\\Users\\\\admin\\\\AppData\\\\Local\\\\Programs\\\\Python\\\\Python311\\\\Lib',\n",
       " 'C:\\\\Users\\\\admin\\\\AppData\\\\Local\\\\Programs\\\\Python\\\\Python311\\\\DLLs',\n",
       " '',\n",
       " 'C:\\\\Users\\\\admin\\\\AppData\\\\Roaming\\\\Python\\\\Python311\\\\site-packages',\n",
       " 'C:\\\\Users\\\\admin\\\\AppData\\\\Roaming\\\\Python\\\\Python311\\\\site-packages\\\\win32',\n",
       " 'C:\\\\Users\\\\admin\\\\AppData\\\\Roaming\\\\Python\\\\Python311\\\\site-packages\\\\win32\\\\lib',\n",
       " 'C:\\\\Users\\\\admin\\\\AppData\\\\Roaming\\\\Python\\\\Python311\\\\site-packages\\\\Pythonwin',\n",
       " 'C:\\\\Users\\\\admin\\\\AppData\\\\Local\\\\Programs\\\\Python\\\\Python311',\n",
       " 'C:\\\\Users\\\\admin\\\\AppData\\\\Local\\\\Programs\\\\Python\\\\Python311\\\\Lib\\\\site-packages']"
      ]
     },
     "execution_count": 1,
     "metadata": {},
     "output_type": "execute_result"
    }
   ],
   "source": [
    "import sys\n",
    "sys.path"
   ]
  },
  {
   "cell_type": "code",
   "execution_count": 2,
   "id": "af007e92-fa36-4d91-b564-9baaf349c03b",
   "metadata": {},
   "outputs": [],
   "source": [
    "from sklearn.datasets import load_wine\n",
    "import numpy as np\n",
    "import pandas as pd\n",
    "X = load_wine()['data']\n",
    "y = load_wine()['target']"
   ]
  },
  {
   "cell_type": "code",
   "execution_count": 38,
   "id": "21c874d1-c881-4644-bb7d-81a6dc5b06cc",
   "metadata": {},
   "outputs": [],
   "source": [
    "## one hot 작성함수\n",
    "def make_onehot(x):\n",
    "    col = np.unique(x).size\n",
    "    row = len(x) ## x.shape[0]\n",
    "    onehot = np.zeros((row,col))\n",
    "    for idx, val in enumerate(x):\n",
    "        onehot[idx,val] = 1\n",
    "    return onehot\n",
    "\n",
    "## softmax \n",
    "def softmax(x):\n",
    "    m = np.max(x)\n",
    "    x -= m\n",
    "    return np.exp(x)/np.sum(np.exp(x))\n",
    "\n",
    "def sigmoid(x):\n",
    "    return x/(1+np.exp(-x))\n",
    "\n",
    "\n",
    "\n",
    "class Leejunyoung:\n",
    "    def __init__(self,x,y):\n",
    "        self.x = x\n",
    "        self.y_original = y\n",
    "        self.y = make_onehot(y)\n",
    "        # self.w = np.random.randn(self.x.shape[1],self.y.shape[1])\n",
    "        self.w=np.random.uniform(0,1,size=(self.x.shape[1], self.y.shape[1]))\n",
    "        self.b = np.zeros(self.y.shape[1])\n",
    "        \n",
    "    def fit(self,epochs,lr):\n",
    "        for epoch in range(epochs):\n",
    "            self.w -= self.diff()[0]*lr\n",
    "            self.b -= self.diff()[1]*lr\n",
    "            if epoch % 100 == 0:\n",
    "                print(f'Loss : ==================> {self.cost()}')\n",
    "    \n",
    "    def predict(self):\n",
    "        self.y_hat = np.dot(self.x,self.w) + self.b\n",
    "        self.y_hat = np.apply_along_axis(softmax,1,self.y_hat)\n",
    "        return self.y_hat\n",
    "    \n",
    "    def cost(self):\n",
    "        self.predict()\n",
    "        epsilon = 1e-7\n",
    "        return -np.sum(self.y*np.log(self.y_hat+epsilon))\n",
    "    \n",
    "    def diff(self):\n",
    "        h = 1e-4\n",
    "        self.grad_a = np.zeros_like(self.w)\n",
    "        for i in range(self.w.shape[0]):\n",
    "            for j in range(self.w.shape[1]):\n",
    "                tmp = self.w[i,j]\n",
    "                fx = self.cost()\n",
    "                self.w[i,j] += h\n",
    "                fxh = self.cost()\n",
    "                self.grad_a[i,j] = (fxh-fx)/h\n",
    "                self.w[i,j] = tmp\n",
    "        self.grad_b = np.zeros_like(self.b)\n",
    "        for i in range(self.b.shape[0]):\n",
    "            tmp = self.b[i]\n",
    "            fx = self.cost()\n",
    "            self.b[i] += h\n",
    "            fxh = self.cost()\n",
    "            self.grad_b[i] = (fxh-fx)/h\n",
    "            self.b[i] = tmp\n",
    "        return self.grad_a, self.grad_b\n",
    "    \n",
    "    def score(self,x,y):\n",
    "        predict = np.argmax(softmax(np.dot(x,self.w)+self.b),1)\n",
    "        score = np.sum(predict == y)/len(x)\n",
    "        return score \n",
    "                "
   ]
  },
  {
   "cell_type": "code",
   "execution_count": 4,
   "id": "d867d063-bc9d-4951-8bd9-3e4fea171bf3",
   "metadata": {},
   "outputs": [],
   "source": [
    "from sklearn.datasets import load_iris, load_wine\n",
    "# X = load_iris()['data']\n",
    "# y = load_iris()['target']\n",
    "X = load_wine()['data']\n",
    "y = load_wine()['target']"
   ]
  },
  {
   "cell_type": "code",
   "execution_count": 5,
   "id": "527d2c21-2336-44f2-9b72-62760e2679bf",
   "metadata": {},
   "outputs": [],
   "source": [
    "model = Leejunyoung(X,y)"
   ]
  },
  {
   "cell_type": "code",
   "execution_count": 6,
   "id": "9cab01c3-90d8-4983-b008-0685240787d7",
   "metadata": {
    "tags": []
   },
   "outputs": [
    {
     "name": "stderr",
     "output_type": "stream",
     "text": [
      "C:\\Users\\admin\\AppData\\Local\\Temp\\ipykernel_25084\\2424954009.py:43: RuntimeWarning: divide by zero encountered in log\n",
      "  return -np.sum(self.y*np.log(self.y_hat))\n",
      "C:\\Users\\admin\\AppData\\Local\\Temp\\ipykernel_25084\\2424954009.py:43: RuntimeWarning: invalid value encountered in multiply\n",
      "  return -np.sum(self.y*np.log(self.y_hat))\n"
     ]
    },
    {
     "name": "stdout",
     "output_type": "stream",
     "text": [
      "Loss : ==================> nan\n",
      "Loss : ==================> nan\n"
     ]
    },
    {
     "ename": "KeyboardInterrupt",
     "evalue": "",
     "output_type": "error",
     "traceback": [
      "\u001b[1;31m---------------------------------------------------------------------------\u001b[0m",
      "\u001b[1;31mKeyboardInterrupt\u001b[0m                         Traceback (most recent call last)",
      "Cell \u001b[1;32mIn[6], line 1\u001b[0m\n\u001b[1;32m----> 1\u001b[0m \u001b[43mmodel\u001b[49m\u001b[38;5;241;43m.\u001b[39;49m\u001b[43mfit\u001b[49m\u001b[43m(\u001b[49m\u001b[43mepochs\u001b[49m\u001b[38;5;241;43m=\u001b[39;49m\u001b[38;5;241;43m10000\u001b[39;49m\u001b[43m,\u001b[49m\u001b[43m \u001b[49m\u001b[43mlr\u001b[49m\u001b[38;5;241;43m=\u001b[39;49m\u001b[38;5;241;43m1e-4\u001b[39;49m\u001b[43m)\u001b[49m\n",
      "Cell \u001b[1;32mIn[3], line 32\u001b[0m, in \u001b[0;36mLeejunyoung.fit\u001b[1;34m(self, epochs, lr)\u001b[0m\n\u001b[0;32m     30\u001b[0m \u001b[38;5;28;01mfor\u001b[39;00m epoch \u001b[38;5;129;01min\u001b[39;00m \u001b[38;5;28mrange\u001b[39m(epochs):\n\u001b[0;32m     31\u001b[0m     \u001b[38;5;28mself\u001b[39m\u001b[38;5;241m.\u001b[39mw \u001b[38;5;241m-\u001b[39m\u001b[38;5;241m=\u001b[39m \u001b[38;5;28mself\u001b[39m\u001b[38;5;241m.\u001b[39mdiff()[\u001b[38;5;241m0\u001b[39m]\u001b[38;5;241m*\u001b[39mlr\n\u001b[1;32m---> 32\u001b[0m     \u001b[38;5;28mself\u001b[39m\u001b[38;5;241m.\u001b[39mb \u001b[38;5;241m-\u001b[39m\u001b[38;5;241m=\u001b[39m \u001b[38;5;28;43mself\u001b[39;49m\u001b[38;5;241;43m.\u001b[39;49m\u001b[43mdiff\u001b[49m\u001b[43m(\u001b[49m\u001b[43m)\u001b[49m[\u001b[38;5;241m1\u001b[39m]\u001b[38;5;241m*\u001b[39mlr\n\u001b[0;32m     33\u001b[0m     \u001b[38;5;28;01mif\u001b[39;00m epoch \u001b[38;5;241m%\u001b[39m \u001b[38;5;241m100\u001b[39m \u001b[38;5;241m==\u001b[39m \u001b[38;5;241m0\u001b[39m:\n\u001b[0;32m     34\u001b[0m         \u001b[38;5;28mprint\u001b[39m(\u001b[38;5;124mf\u001b[39m\u001b[38;5;124m'\u001b[39m\u001b[38;5;124mLoss : ==================> \u001b[39m\u001b[38;5;132;01m{\u001b[39;00m\u001b[38;5;28mself\u001b[39m\u001b[38;5;241m.\u001b[39mcost()\u001b[38;5;132;01m}\u001b[39;00m\u001b[38;5;124m'\u001b[39m)\n",
      "Cell \u001b[1;32mIn[3], line 59\u001b[0m, in \u001b[0;36mLeejunyoung.diff\u001b[1;34m(self)\u001b[0m\n\u001b[0;32m     57\u001b[0m \u001b[38;5;28;01mfor\u001b[39;00m i \u001b[38;5;129;01min\u001b[39;00m \u001b[38;5;28mrange\u001b[39m(\u001b[38;5;28mself\u001b[39m\u001b[38;5;241m.\u001b[39mb\u001b[38;5;241m.\u001b[39mshape[\u001b[38;5;241m0\u001b[39m]):\n\u001b[0;32m     58\u001b[0m     tmp \u001b[38;5;241m=\u001b[39m \u001b[38;5;28mself\u001b[39m\u001b[38;5;241m.\u001b[39mb[i]\n\u001b[1;32m---> 59\u001b[0m     fx \u001b[38;5;241m=\u001b[39m \u001b[38;5;28;43mself\u001b[39;49m\u001b[38;5;241;43m.\u001b[39;49m\u001b[43mcost\u001b[49m\u001b[43m(\u001b[49m\u001b[43m)\u001b[49m\n\u001b[0;32m     60\u001b[0m     \u001b[38;5;28mself\u001b[39m\u001b[38;5;241m.\u001b[39mb[i] \u001b[38;5;241m+\u001b[39m\u001b[38;5;241m=\u001b[39m h\n\u001b[0;32m     61\u001b[0m     fxh \u001b[38;5;241m=\u001b[39m \u001b[38;5;28mself\u001b[39m\u001b[38;5;241m.\u001b[39mcost()\n",
      "Cell \u001b[1;32mIn[3], line 43\u001b[0m, in \u001b[0;36mLeejunyoung.cost\u001b[1;34m(self)\u001b[0m\n\u001b[0;32m     41\u001b[0m \u001b[38;5;28;01mdef\u001b[39;00m \u001b[38;5;21mcost\u001b[39m(\u001b[38;5;28mself\u001b[39m):\n\u001b[0;32m     42\u001b[0m     \u001b[38;5;28mself\u001b[39m\u001b[38;5;241m.\u001b[39mpredict()\n\u001b[1;32m---> 43\u001b[0m     \u001b[38;5;28;01mreturn\u001b[39;00m \u001b[38;5;241m-\u001b[39mnp\u001b[38;5;241m.\u001b[39msum(\u001b[38;5;28mself\u001b[39m\u001b[38;5;241m.\u001b[39my\u001b[38;5;241m*\u001b[39m\u001b[43mnp\u001b[49m\u001b[38;5;241;43m.\u001b[39;49m\u001b[43mlog\u001b[49m\u001b[43m(\u001b[49m\u001b[38;5;28;43mself\u001b[39;49m\u001b[38;5;241;43m.\u001b[39;49m\u001b[43my_hat\u001b[49m\u001b[43m)\u001b[49m)\n",
      "\u001b[1;31mKeyboardInterrupt\u001b[0m: "
     ]
    }
   ],
   "source": [
    "model.fit(epochs=10000, lr=1e-4)"
   ]
  },
  {
   "cell_type": "code",
   "execution_count": 7,
   "id": "a283528f-79e1-4604-b54e-655adc39b9a8",
   "metadata": {
    "tags": []
   },
   "outputs": [
    {
     "ename": "NameError",
     "evalue": "name 'self' is not defined",
     "output_type": "error",
     "traceback": [
      "\u001b[1;31m---------------------------------------------------------------------------\u001b[0m",
      "\u001b[1;31mNameError\u001b[0m                                 Traceback (most recent call last)",
      "Cell \u001b[1;32mIn[7], line 1\u001b[0m\n\u001b[1;32m----> 1\u001b[0m np\u001b[38;5;241m.\u001b[39msum(np\u001b[38;5;241m.\u001b[39margmax(softmax(np\u001b[38;5;241m.\u001b[39mdot(model\u001b[38;5;241m.\u001b[39mx, \u001b[38;5;28;43mself\u001b[39;49m\u001b[38;5;241m.\u001b[39mw)\u001b[38;5;241m+\u001b[39m\u001b[38;5;28mself\u001b[39m\u001b[38;5;241m.\u001b[39mb), \u001b[38;5;241m1\u001b[39m), y)\u001b[38;5;241m/\u001b[39m\u001b[38;5;28mlen\u001b[39m(y)\n",
      "\u001b[1;31mNameError\u001b[0m: name 'self' is not defined"
     ]
    }
   ],
   "source": [
    "np.sum(np.argmax(softmax(np.dot(model.x, self.w)+self.b), 1), y)/len(y)"
   ]
  },
  {
   "cell_type": "code",
   "execution_count": null,
   "id": "86185617-b401-408e-a93d-a89a73bc00fe",
   "metadata": {},
   "outputs": [],
   "source": [
    "# 대표적 스케일링\n",
    "# img/255 <-픽셀 범위가 255"
   ]
  },
  {
   "cell_type": "code",
   "execution_count": 8,
   "id": "570d1232-3841-4073-b99f-c5c5ff8388af",
   "metadata": {
    "tags": []
   },
   "outputs": [],
   "source": [
    "from sklearn.preprocessing import MinMaxScaler, StandardScaler, RobustScaler"
   ]
  },
  {
   "cell_type": "code",
   "execution_count": 9,
   "id": "10f9cee0-5bfc-4332-9538-f2d01d49db32",
   "metadata": {
    "tags": []
   },
   "outputs": [
    {
     "data": {
      "text/plain": [
       "array([[0. ],\n",
       "       [0.5],\n",
       "       [1. ]])"
      ]
     },
     "execution_count": 9,
     "metadata": {},
     "output_type": "execute_result"
    }
   ],
   "source": [
    "nm = MinMaxScaler()\n",
    "x=np.array([1,2,3]).reshape(-1, 1)\n",
    "nm.fit_transform(x) #scale 된 값이 변환까지 돼서 나옴"
   ]
  },
  {
   "cell_type": "code",
   "execution_count": 10,
   "id": "9a2c4c7a-a3f7-480d-a274-76d890058d60",
   "metadata": {
    "tags": []
   },
   "outputs": [
    {
     "data": {
      "text/plain": [
       "array([[-1.22474487],\n",
       "       [ 0.        ],\n",
       "       [ 1.22474487]])"
      ]
     },
     "execution_count": 10,
     "metadata": {},
     "output_type": "execute_result"
    }
   ],
   "source": [
    "ss = StandardScaler()\n",
    "x=np.array([1,2,3]).reshape(-1, 1)\n",
    "ss.fit(x)\n",
    "ss.transform(x)"
   ]
  },
  {
   "cell_type": "code",
   "execution_count": 11,
   "id": "cbf7518a-fd2e-4f04-b07e-830b0d093aea",
   "metadata": {
    "tags": []
   },
   "outputs": [
    {
     "data": {
      "text/plain": [
       "array([[-1.],\n",
       "       [ 0.],\n",
       "       [ 1.]])"
      ]
     },
     "execution_count": 11,
     "metadata": {},
     "output_type": "execute_result"
    }
   ],
   "source": [
    "rs=RobustScaler()\n",
    "x=np.array([1,2,3]).reshape(-1, 1)\n",
    "rs.fit(x)\n",
    "rs.transform(x)"
   ]
  },
  {
   "cell_type": "code",
   "execution_count": 12,
   "id": "8c9e2bb5-a384-4c4c-95eb-a5d03c8deb6b",
   "metadata": {
    "tags": []
   },
   "outputs": [
    {
     "data": {
      "text/plain": [
       "2.0"
      ]
     },
     "execution_count": 12,
     "metadata": {},
     "output_type": "execute_result"
    }
   ],
   "source": [
    "np.mean(x)"
   ]
  },
  {
   "cell_type": "code",
   "execution_count": 13,
   "id": "71c53f48-cb92-49c1-ac88-17392f5bd9a4",
   "metadata": {
    "tags": []
   },
   "outputs": [
    {
     "data": {
      "text/plain": [
       "0.816496580927726"
      ]
     },
     "execution_count": 13,
     "metadata": {},
     "output_type": "execute_result"
    }
   ],
   "source": [
    "np.std(x)"
   ]
  },
  {
   "cell_type": "code",
   "execution_count": 14,
   "id": "2c911bfc-114d-4375-ab34-0f628548c53e",
   "metadata": {
    "tags": []
   },
   "outputs": [
    {
     "data": {
      "text/plain": [
       "2.0"
      ]
     },
     "execution_count": 14,
     "metadata": {},
     "output_type": "execute_result"
    }
   ],
   "source": [
    "np.median(x)"
   ]
  },
  {
   "cell_type": "code",
   "execution_count": 15,
   "id": "e9da0e7f-5178-4f5a-8585-54013451ab35",
   "metadata": {
    "tags": []
   },
   "outputs": [
    {
     "data": {
      "text/plain": [
       "74.5"
      ]
     },
     "execution_count": 15,
     "metadata": {},
     "output_type": "execute_result"
    }
   ],
   "source": [
    "x = np.arange(1, 100)\n",
    "np.percentile(x,75)"
   ]
  },
  {
   "cell_type": "code",
   "execution_count": 16,
   "id": "91995e8b-ca74-4e5a-b9b0-57533536a89d",
   "metadata": {
    "tags": []
   },
   "outputs": [
    {
     "data": {
      "text/plain": [
       "25.5"
      ]
     },
     "execution_count": 16,
     "metadata": {},
     "output_type": "execute_result"
    }
   ],
   "source": [
    "np.percentile(x, 25)"
   ]
  },
  {
   "cell_type": "code",
   "execution_count": 17,
   "id": "02596b48-a198-45a6-9132-d7cadba89c5a",
   "metadata": {
    "tags": []
   },
   "outputs": [
    {
     "data": {
      "text/plain": [
       "count    99.000000\n",
       "mean     50.000000\n",
       "std      28.722813\n",
       "min       1.000000\n",
       "25%      25.500000\n",
       "50%      50.000000\n",
       "75%      74.500000\n",
       "max      99.000000\n",
       "dtype: float64"
      ]
     },
     "execution_count": 17,
     "metadata": {},
     "output_type": "execute_result"
    }
   ],
   "source": [
    "pd.Series(x).describe()"
   ]
  },
  {
   "cell_type": "code",
   "execution_count": 18,
   "id": "a818f720-4b23-45ad-ae34-bd9aabffc2a8",
   "metadata": {
    "tags": []
   },
   "outputs": [],
   "source": [
    "import matplotlib.pyplot as plt"
   ]
  },
  {
   "cell_type": "code",
   "execution_count": 19,
   "id": "1fb8e8ee-3c05-4031-b631-a89860519baa",
   "metadata": {
    "tags": []
   },
   "outputs": [
    {
     "data": {
      "text/plain": [
       "array([ 1,  2,  3,  4,  5,  6,  7,  8,  9, 10, 11, 12, 13, 14, 15, 16, 17,\n",
       "       18, 19, 20, 21, 22, 23, 24, 25, 26, 27, 28, 29, 30, 31, 32, 33, 34,\n",
       "       35, 36, 37, 38, 39, 40, 41, 42, 43, 44, 45, 46, 47, 48, 49, 50, 51,\n",
       "       52, 53, 54, 55, 56, 57, 58, 59, 60, 61, 62, 63, 64, 65, 66, 67, 68,\n",
       "       69, 70, 71, 72, 73, 74, 75, 76, 77, 78, 79, 80, 81, 82, 83, 84, 85,\n",
       "       86, 87, 88, 89, 90, 91, 92, 93, 94, 95, 96, 97, 98, 99])"
      ]
     },
     "execution_count": 19,
     "metadata": {},
     "output_type": "execute_result"
    }
   ],
   "source": [
    "x"
   ]
  },
  {
   "cell_type": "code",
   "execution_count": 20,
   "id": "f9f242cf-f2dc-4630-99fb-2a8744969b74",
   "metadata": {
    "tags": []
   },
   "outputs": [
    {
     "data": {
      "image/png": "[encoded data removed]",
      "text/plain": [
       "<Figure size 640x480 with 1 Axes>"
      ]
     },
     "metadata": {},
     "output_type": "display_data"
    }
   ],
   "source": [
    "plt.boxplot(x)\n",
    "plt.show()"
   ]
  },
  {
   "cell_type": "code",
   "execution_count": 21,
   "id": "f824b979-c3d1-47eb-b383-af959f17cadb",
   "metadata": {
    "tags": []
   },
   "outputs": [],
   "source": [
    "#scaler\n",
    "def min_max(x):\n",
    "    return (x-min(x))/(np.max(x)-np.min(x)) #분모: 범위(range)\n",
    "def standard(x):\n",
    "    return (x-np.mean(x))/np.std(x) #std(x) == np.sqrt(np.mean((x-np.mean(x))**2))\n",
    "def robust(x):\n",
    "    q3=np.percentile(x,75)\n",
    "    q1=np.percentile(x,25)\n",
    "    return (x-np.median(x))/(q3-q1)"
   ]
  },
  {
   "cell_type": "code",
   "execution_count": 22,
   "id": "091b2a6a-fda1-4209-8198-3a261e00ea20",
   "metadata": {
    "tags": []
   },
   "outputs": [
    {
     "data": {
      "text/plain": [
       "array([2.31411000e+03, 4.15870000e+02, 4.21240000e+02, 3.47010000e+03,\n",
       "       1.77540000e+04, 4.08530000e+02, 3.61210000e+02, 6.44100000e+01,\n",
       "       2.83180000e+02, 9.00339999e+02, 1.70426000e+02, 4.64880000e+02,\n",
       "       1.32947000e+05])"
      ]
     },
     "execution_count": 22,
     "metadata": {},
     "output_type": "execute_result"
    }
   ],
   "source": [
    "np.sum(X,0)"
   ]
  },
  {
   "cell_type": "code",
   "execution_count": 23,
   "id": "11bfe5f8-c1c5-4894-b0f3-f4ca5dd57c54",
   "metadata": {
    "tags": []
   },
   "outputs": [],
   "source": [
    "X=np.apply_along_axis(min_max, 1, X)"
   ]
  },
  {
   "cell_type": "code",
   "execution_count": 24,
   "id": "7f43c779-77d4-41c5-91d9-deb858420a61",
   "metadata": {
    "tags": []
   },
   "outputs": [],
   "source": [
    "model=Leejunyoung(X,y)"
   ]
  },
  {
   "cell_type": "code",
   "execution_count": 29,
   "id": "98ce0552-fb33-438e-ac7b-cae5a0d1b92d",
   "metadata": {
    "collapsed": true,
    "jupyter": {
     "outputs_hidden": true
    },
    "tags": []
   },
   "outputs": [
    {
     "data": {
      "text/plain": [
       "array([[0.22747973, 0.46855937, 0.3039609 ],\n",
       "       [0.22633824, 0.46570958, 0.30795218],\n",
       "       [0.22872459, 0.46529798, 0.30597743],\n",
       "       [0.22805334, 0.46320379, 0.30874287],\n",
       "       [0.2287451 , 0.47728745, 0.29396745],\n",
       "       [0.22763818, 0.46327192, 0.3090899 ],\n",
       "       [0.2272459 , 0.46324782, 0.30950628],\n",
       "       [0.22753693, 0.46586191, 0.30660116],\n",
       "       [0.22686592, 0.46613844, 0.30699564],\n",
       "       [0.22791261, 0.46590204, 0.30618534],\n",
       "       [0.22822881, 0.46262422, 0.30914697],\n",
       "       [0.22771236, 0.46354191, 0.30874573],\n",
       "       [0.22779106, 0.46260673, 0.30960221],\n",
       "       [0.22679083, 0.46376041, 0.30944876],\n",
       "       [0.22735677, 0.46144397, 0.31119926],\n",
       "       [0.22782692, 0.46485004, 0.30732304],\n",
       "       [0.22835768, 0.46628757, 0.30535475],\n",
       "       [0.22864065, 0.46743305, 0.3039263 ],\n",
       "       [0.22799522, 0.46149826, 0.31050652],\n",
       "       [0.22637373, 0.47338282, 0.30024344],\n",
       "       [0.22739198, 0.47468337, 0.29792466],\n",
       "       [0.22750055, 0.47449167, 0.29800777],\n",
       "       [0.22776492, 0.46656764, 0.30566744],\n",
       "       [0.22835043, 0.46625479, 0.30539479],\n",
       "       [0.22883246, 0.46989165, 0.30127588],\n",
       "       [0.23039625, 0.474972  , 0.29463176],\n",
       "       [0.22780964, 0.46403595, 0.30815441],\n",
       "       [0.22790343, 0.46343618, 0.3086604 ],\n",
       "       [0.22843875, 0.46997881, 0.30158244],\n",
       "       [0.22763713, 0.46600009, 0.30636279],\n",
       "       [0.2295418 , 0.46438621, 0.30607199],\n",
       "       [0.22854322, 0.46261827, 0.30883851],\n",
       "       [0.22786381, 0.46798317, 0.30415303],\n",
       "       [0.22824355, 0.46729337, 0.30446308],\n",
       "       [0.22820413, 0.46741774, 0.30437814],\n",
       "       [0.22909325, 0.46906854, 0.30183821],\n",
       "       [0.2271795 , 0.47061883, 0.30220167],\n",
       "       [0.22820688, 0.46591189, 0.30588123],\n",
       "       [0.22758761, 0.46649297, 0.30591942],\n",
       "       [0.22481218, 0.47801064, 0.29717718],\n",
       "       [0.22793867, 0.47307556, 0.29898577],\n",
       "       [0.22753219, 0.4678078 , 0.30466001],\n",
       "       [0.22750208, 0.46587496, 0.30662296],\n",
       "       [0.22652382, 0.47809802, 0.29537816],\n",
       "       [0.22834806, 0.46981752, 0.30183443],\n",
       "       [0.22704637, 0.46949706, 0.30345657],\n",
       "       [0.22700201, 0.46776087, 0.30523712],\n",
       "       [0.2279219 , 0.46734925, 0.30472884],\n",
       "       [0.22835221, 0.46731751, 0.30433029],\n",
       "       [0.22811895, 0.46485285, 0.30702819],\n",
       "       [0.22756587, 0.46373224, 0.30870188],\n",
       "       [0.22819169, 0.46340536, 0.30840296],\n",
       "       [0.22749327, 0.46533415, 0.30717258],\n",
       "       [0.22784788, 0.46439628, 0.30775584],\n",
       "       [0.22759418, 0.46822292, 0.3041829 ],\n",
       "       [0.22909229, 0.46750531, 0.3034024 ],\n",
       "       [0.22762221, 0.46963352, 0.30274427],\n",
       "       [0.22799283, 0.46436388, 0.30764329],\n",
       "       [0.22827429, 0.46435498, 0.30737073],\n",
       "       [0.22387024, 0.47722014, 0.29890962],\n",
       "       [0.22677367, 0.47482795, 0.29839838],\n",
       "       [0.22614885, 0.48729157, 0.28655958],\n",
       "       [0.22729302, 0.47586887, 0.29683811],\n",
       "       [0.23123519, 0.48411359, 0.28465122],\n",
       "       [0.22795201, 0.49747233, 0.27457565],\n",
       "       [0.22920465, 0.47398924, 0.29680611],\n",
       "       [0.22848202, 0.47558314, 0.29593484],\n",
       "       [0.22967986, 0.47699593, 0.29332421],\n",
       "       [0.22705338, 0.47402655, 0.29892007],\n",
       "       [0.22815281, 0.47959724, 0.29224995],\n",
       "       [0.2286957 , 0.47095719, 0.30034711],\n",
       "       [0.23309963, 0.48808527, 0.27881509],\n",
       "       [0.23052062, 0.48453276, 0.28494662],\n",
       "       [0.23192104, 0.47296744, 0.29511152],\n",
       "       [0.23032258, 0.46890431, 0.30077311],\n",
       "       [0.22645453, 0.4878013 , 0.28574417],\n",
       "       [0.22709641, 0.48620324, 0.28670035],\n",
       "       [0.22644865, 0.4878876 , 0.28566375],\n",
       "       [0.22781733, 0.4760631 , 0.29611957],\n",
       "       [0.22969285, 0.49030842, 0.27999873],\n",
       "       [0.23124882, 0.49912464, 0.26962653],\n",
       "       [0.22888085, 0.47164195, 0.2994772 ],\n",
       "       [0.23165665, 0.47318507, 0.29515829],\n",
       "       [0.22810967, 0.48473298, 0.28715736],\n",
       "       [0.2303598 , 0.4785493 , 0.2910909 ],\n",
       "       [0.22869955, 0.48456191, 0.28673853],\n",
       "       [0.23106335, 0.4824589 , 0.28647775],\n",
       "       [0.23268548, 0.47847549, 0.28883902],\n",
       "       [0.22997111, 0.47315159, 0.2968773 ],\n",
       "       [0.23165373, 0.4717473 , 0.29659898],\n",
       "       [0.22860841, 0.48063123, 0.29076035],\n",
       "       [0.23090244, 0.48392178, 0.28517579],\n",
       "       [0.22949315, 0.48015767, 0.29034918],\n",
       "       [0.22764786, 0.50292578, 0.26942636],\n",
       "       [0.2289894 , 0.49624007, 0.27477053],\n",
       "       [0.22915262, 0.47487365, 0.29597373],\n",
       "       [0.22902033, 0.48435585, 0.28662382],\n",
       "       [0.22825771, 0.48286577, 0.28887652],\n",
       "       [0.23031366, 0.47236732, 0.29731901],\n",
       "       [0.22892037, 0.48855673, 0.28252289],\n",
       "       [0.22816996, 0.47332763, 0.29850242],\n",
       "       [0.22838   , 0.47707697, 0.29454304],\n",
       "       [0.22954433, 0.4887409 , 0.28171478],\n",
       "       [0.23004539, 0.48595856, 0.28399605],\n",
       "       [0.22959909, 0.47257508, 0.29782583],\n",
       "       [0.22976617, 0.50092191, 0.26931192],\n",
       "       [0.22917897, 0.47815899, 0.29266204],\n",
       "       [0.23039982, 0.48214046, 0.28745972],\n",
       "       [0.2308906 , 0.49689989, 0.27220951],\n",
       "       [0.23101004, 0.47274927, 0.29624069],\n",
       "       [0.23029343, 0.48259911, 0.28710747],\n",
       "       [0.22968111, 0.49903959, 0.2712793 ],\n",
       "       [0.22817122, 0.4800806 , 0.29174818],\n",
       "       [0.23223408, 0.48358248, 0.28418344],\n",
       "       [0.23226008, 0.48816239, 0.27957753],\n",
       "       [0.23308052, 0.4848684 , 0.28205107],\n",
       "       [0.23077589, 0.47976227, 0.28946184],\n",
       "       [0.2314253 , 0.50033805, 0.26823665],\n",
       "       [0.22310688, 0.49302337, 0.28386975],\n",
       "       [0.22816262, 0.47913586, 0.29270152],\n",
       "       [0.23014903, 0.47644831, 0.29340266],\n",
       "       [0.23604172, 0.4916949 , 0.27226337],\n",
       "       [0.23107018, 0.50380225, 0.26512757],\n",
       "       [0.22656475, 0.49895866, 0.27447659],\n",
       "       [0.23076943, 0.49237658, 0.276854  ],\n",
       "       [0.23088825, 0.4899683 , 0.27914345],\n",
       "       [0.2324729 , 0.49231953, 0.27520757],\n",
       "       [0.23488498, 0.48683197, 0.27828305],\n",
       "       [0.23442295, 0.4952356 , 0.27034145],\n",
       "       [0.22856602, 0.47987088, 0.2915631 ],\n",
       "       [0.2270448 , 0.48165108, 0.29130412],\n",
       "       [0.22642556, 0.48697809, 0.28659635],\n",
       "       [0.22914411, 0.48388612, 0.28696977],\n",
       "       [0.22724398, 0.48426484, 0.28849118],\n",
       "       [0.22783834, 0.47363701, 0.29852465],\n",
       "       [0.22699248, 0.47553759, 0.29746993],\n",
       "       [0.22668988, 0.47735445, 0.29595567],\n",
       "       [0.22743149, 0.49079069, 0.28177782],\n",
       "       [0.22573903, 0.48134342, 0.29291756],\n",
       "       [0.22892598, 0.48256668, 0.28850735],\n",
       "       [0.22729705, 0.4805381 , 0.29216484],\n",
       "       [0.22718911, 0.47262572, 0.30018517],\n",
       "       [0.22743354, 0.48693079, 0.28563567],\n",
       "       [0.2249946 , 0.48560298, 0.28940243],\n",
       "       [0.22663862, 0.47467981, 0.29868158],\n",
       "       [0.22741174, 0.47422817, 0.29836009],\n",
       "       [0.22250259, 0.49559601, 0.2819014 ],\n",
       "       [0.22657131, 0.48067482, 0.29275387],\n",
       "       [0.22758923, 0.47885979, 0.29355097],\n",
       "       [0.22640903, 0.48941294, 0.28417803],\n",
       "       [0.22783475, 0.49488292, 0.27728233],\n",
       "       [0.22786136, 0.49250653, 0.27963211],\n",
       "       [0.23114527, 0.49768377, 0.27117096],\n",
       "       [0.22658624, 0.47813099, 0.29528278],\n",
       "       [0.22851168, 0.4777921 , 0.29369621],\n",
       "       [0.22681226, 0.47840539, 0.29478235],\n",
       "       [0.22502109, 0.48899141, 0.2859875 ],\n",
       "       [0.22992456, 0.47264221, 0.29743322],\n",
       "       [0.23074181, 0.47768298, 0.29157521],\n",
       "       [0.23003248, 0.47722198, 0.29274554],\n",
       "       [0.22735837, 0.48516929, 0.28747234],\n",
       "       [0.22623529, 0.47971549, 0.29404923],\n",
       "       [0.2274005 , 0.48473909, 0.28786041],\n",
       "       [0.22595126, 0.47960761, 0.29444113],\n",
       "       [0.22740347, 0.47993042, 0.29266611],\n",
       "       [0.22618424, 0.48703344, 0.28678233],\n",
       "       [0.22759781, 0.48105921, 0.29134298],\n",
       "       [0.22666923, 0.47666951, 0.29666126],\n",
       "       [0.22898491, 0.47689246, 0.29412263],\n",
       "       [0.22772849, 0.48582165, 0.28644986],\n",
       "       [0.2261682 , 0.48572643, 0.28810537],\n",
       "       [0.22637491, 0.48609877, 0.28752632],\n",
       "       [0.22682181, 0.47743683, 0.29574136],\n",
       "       [0.22540754, 0.47869747, 0.295895  ],\n",
       "       [0.22777323, 0.47766607, 0.2945607 ],\n",
       "       [0.22638471, 0.47734955, 0.29626574],\n",
       "       [0.22741706, 0.47527175, 0.29731119],\n",
       "       [0.22758337, 0.48634268, 0.28607395]])"
      ]
     },
     "execution_count": 29,
     "metadata": {},
     "output_type": "execute_result"
    }
   ],
   "source": [
    "model.predict()"
   ]
  },
  {
   "cell_type": "code",
   "execution_count": 30,
   "id": "4ab1d922-6f49-4dd5-9599-a268b0ebbe71",
   "metadata": {
    "tags": []
   },
   "outputs": [],
   "source": [
    "y_hat=model.predict()"
   ]
  },
  {
   "cell_type": "code",
   "execution_count": 25,
   "id": "049603b4-641d-45b6-962f-3849193781e3",
   "metadata": {
    "collapsed": true,
    "jupyter": {
     "outputs_hidden": true
    },
    "tags": []
   },
   "outputs": [
    {
     "name": "stdout",
     "output_type": "stream",
     "text": [
      "Loss : ==================> 213.63301204154976\n"
     ]
    },
    {
     "ename": "KeyboardInterrupt",
     "evalue": "",
     "output_type": "error",
     "traceback": [
      "\u001b[1;31m---------------------------------------------------------------------------\u001b[0m",
      "\u001b[1;31mKeyboardInterrupt\u001b[0m                         Traceback (most recent call last)",
      "Cell \u001b[1;32mIn[25], line 1\u001b[0m\n\u001b[1;32m----> 1\u001b[0m \u001b[43mmodel\u001b[49m\u001b[38;5;241;43m.\u001b[39;49m\u001b[43mfit\u001b[49m\u001b[43m(\u001b[49m\u001b[43mepochs\u001b[49m\u001b[38;5;241;43m=\u001b[39;49m\u001b[38;5;241;43m100\u001b[39;49m\u001b[43m,\u001b[49m\u001b[43m \u001b[49m\u001b[43mlr\u001b[49m\u001b[38;5;241;43m=\u001b[39;49m\u001b[38;5;241;43m1e-4\u001b[39;49m\u001b[43m)\u001b[49m\n",
      "Cell \u001b[1;32mIn[3], line 32\u001b[0m, in \u001b[0;36mLeejunyoung.fit\u001b[1;34m(self, epochs, lr)\u001b[0m\n\u001b[0;32m     30\u001b[0m \u001b[38;5;28;01mfor\u001b[39;00m epoch \u001b[38;5;129;01min\u001b[39;00m \u001b[38;5;28mrange\u001b[39m(epochs):\n\u001b[0;32m     31\u001b[0m     \u001b[38;5;28mself\u001b[39m\u001b[38;5;241m.\u001b[39mw \u001b[38;5;241m-\u001b[39m\u001b[38;5;241m=\u001b[39m \u001b[38;5;28mself\u001b[39m\u001b[38;5;241m.\u001b[39mdiff()[\u001b[38;5;241m0\u001b[39m]\u001b[38;5;241m*\u001b[39mlr\n\u001b[1;32m---> 32\u001b[0m     \u001b[38;5;28mself\u001b[39m\u001b[38;5;241m.\u001b[39mb \u001b[38;5;241m-\u001b[39m\u001b[38;5;241m=\u001b[39m \u001b[38;5;28;43mself\u001b[39;49m\u001b[38;5;241;43m.\u001b[39;49m\u001b[43mdiff\u001b[49m\u001b[43m(\u001b[49m\u001b[43m)\u001b[49m[\u001b[38;5;241m1\u001b[39m]\u001b[38;5;241m*\u001b[39mlr\n\u001b[0;32m     33\u001b[0m     \u001b[38;5;28;01mif\u001b[39;00m epoch \u001b[38;5;241m%\u001b[39m \u001b[38;5;241m100\u001b[39m \u001b[38;5;241m==\u001b[39m \u001b[38;5;241m0\u001b[39m:\n\u001b[0;32m     34\u001b[0m         \u001b[38;5;28mprint\u001b[39m(\u001b[38;5;124mf\u001b[39m\u001b[38;5;124m'\u001b[39m\u001b[38;5;124mLoss : ==================> \u001b[39m\u001b[38;5;132;01m{\u001b[39;00m\u001b[38;5;28mself\u001b[39m\u001b[38;5;241m.\u001b[39mcost()\u001b[38;5;132;01m}\u001b[39;00m\u001b[38;5;124m'\u001b[39m)\n",
      "Cell \u001b[1;32mIn[3], line 53\u001b[0m, in \u001b[0;36mLeejunyoung.diff\u001b[1;34m(self)\u001b[0m\n\u001b[0;32m     51\u001b[0m fx \u001b[38;5;241m=\u001b[39m \u001b[38;5;28mself\u001b[39m\u001b[38;5;241m.\u001b[39mcost()\n\u001b[0;32m     52\u001b[0m \u001b[38;5;28mself\u001b[39m\u001b[38;5;241m.\u001b[39mw[i,j] \u001b[38;5;241m+\u001b[39m\u001b[38;5;241m=\u001b[39m h\n\u001b[1;32m---> 53\u001b[0m fxh \u001b[38;5;241m=\u001b[39m \u001b[38;5;28;43mself\u001b[39;49m\u001b[38;5;241;43m.\u001b[39;49m\u001b[43mcost\u001b[49m\u001b[43m(\u001b[49m\u001b[43m)\u001b[49m\n\u001b[0;32m     54\u001b[0m \u001b[38;5;28mself\u001b[39m\u001b[38;5;241m.\u001b[39mgrad_a[i,j] \u001b[38;5;241m=\u001b[39m (fxh\u001b[38;5;241m-\u001b[39mfx)\u001b[38;5;241m/\u001b[39mh\n\u001b[0;32m     55\u001b[0m \u001b[38;5;28mself\u001b[39m\u001b[38;5;241m.\u001b[39mw[i,j] \u001b[38;5;241m=\u001b[39m tmp\n",
      "Cell \u001b[1;32mIn[3], line 42\u001b[0m, in \u001b[0;36mLeejunyoung.cost\u001b[1;34m(self)\u001b[0m\n\u001b[0;32m     41\u001b[0m \u001b[38;5;28;01mdef\u001b[39;00m \u001b[38;5;21mcost\u001b[39m(\u001b[38;5;28mself\u001b[39m):\n\u001b[1;32m---> 42\u001b[0m     \u001b[38;5;28;43mself\u001b[39;49m\u001b[38;5;241;43m.\u001b[39;49m\u001b[43mpredict\u001b[49m\u001b[43m(\u001b[49m\u001b[43m)\u001b[49m\n\u001b[0;32m     43\u001b[0m     \u001b[38;5;28;01mreturn\u001b[39;00m \u001b[38;5;241m-\u001b[39mnp\u001b[38;5;241m.\u001b[39msum(\u001b[38;5;28mself\u001b[39m\u001b[38;5;241m.\u001b[39my\u001b[38;5;241m*\u001b[39mnp\u001b[38;5;241m.\u001b[39mlog(\u001b[38;5;28mself\u001b[39m\u001b[38;5;241m.\u001b[39my_hat))\n",
      "Cell \u001b[1;32mIn[3], line 38\u001b[0m, in \u001b[0;36mLeejunyoung.predict\u001b[1;34m(self)\u001b[0m\n\u001b[0;32m     36\u001b[0m \u001b[38;5;28;01mdef\u001b[39;00m \u001b[38;5;21mpredict\u001b[39m(\u001b[38;5;28mself\u001b[39m):\n\u001b[0;32m     37\u001b[0m     \u001b[38;5;28mself\u001b[39m\u001b[38;5;241m.\u001b[39my_hat \u001b[38;5;241m=\u001b[39m np\u001b[38;5;241m.\u001b[39mdot(\u001b[38;5;28mself\u001b[39m\u001b[38;5;241m.\u001b[39mx,\u001b[38;5;28mself\u001b[39m\u001b[38;5;241m.\u001b[39mw) \u001b[38;5;241m+\u001b[39m \u001b[38;5;28mself\u001b[39m\u001b[38;5;241m.\u001b[39mb\n\u001b[1;32m---> 38\u001b[0m     \u001b[38;5;28mself\u001b[39m\u001b[38;5;241m.\u001b[39my_hat \u001b[38;5;241m=\u001b[39m \u001b[43mnp\u001b[49m\u001b[38;5;241;43m.\u001b[39;49m\u001b[43mapply_along_axis\u001b[49m\u001b[43m(\u001b[49m\u001b[43msoftmax\u001b[49m\u001b[43m,\u001b[49m\u001b[38;5;241;43m1\u001b[39;49m\u001b[43m,\u001b[49m\u001b[38;5;28;43mself\u001b[39;49m\u001b[38;5;241;43m.\u001b[39;49m\u001b[43my_hat\u001b[49m\u001b[43m)\u001b[49m\n\u001b[0;32m     39\u001b[0m     \u001b[38;5;28;01mreturn\u001b[39;00m \u001b[38;5;28mself\u001b[39m\u001b[38;5;241m.\u001b[39my_hat\n",
      "File \u001b[1;32m<__array_function__ internals>:200\u001b[0m, in \u001b[0;36mapply_along_axis\u001b[1;34m(*args, **kwargs)\u001b[0m\n",
      "File \u001b[1;32m~\\AppData\\Local\\Programs\\Python\\Python311\\Lib\\site-packages\\numpy\\lib\\shape_base.py:401\u001b[0m, in \u001b[0;36mapply_along_axis\u001b[1;34m(func1d, axis, arr, *args, **kwargs)\u001b[0m\n\u001b[0;32m    399\u001b[0m \u001b[38;5;66;03m# save the first result, then compute and save all remaining results\u001b[39;00m\n\u001b[0;32m    400\u001b[0m buff[ind0] \u001b[38;5;241m=\u001b[39m res\n\u001b[1;32m--> 401\u001b[0m \u001b[38;5;28;01mfor\u001b[39;00m ind \u001b[38;5;129;01min\u001b[39;00m inds:\n\u001b[0;32m    402\u001b[0m     buff[ind] \u001b[38;5;241m=\u001b[39m asanyarray(func1d(inarr_view[ind], \u001b[38;5;241m*\u001b[39margs, \u001b[38;5;241m*\u001b[39m\u001b[38;5;241m*\u001b[39mkwargs))\n\u001b[0;32m    404\u001b[0m \u001b[38;5;28;01mif\u001b[39;00m \u001b[38;5;129;01mnot\u001b[39;00m \u001b[38;5;28misinstance\u001b[39m(res, matrix):\n\u001b[0;32m    405\u001b[0m     \u001b[38;5;66;03m# wrap the array, to preserve subclasses\u001b[39;00m\n",
      "File \u001b[1;32m~\\AppData\\Local\\Programs\\Python\\Python311\\Lib\\site-packages\\numpy\\lib\\shape_base.py:370\u001b[0m, in \u001b[0;36m<genexpr>\u001b[1;34m(.0)\u001b[0m\n\u001b[0;32m    367\u001b[0m \u001b[38;5;66;03m# compute indices for the iteration axes, and append a trailing ellipsis to\u001b[39;00m\n\u001b[0;32m    368\u001b[0m \u001b[38;5;66;03m# prevent 0d arrays decaying to scalars, which fixes gh-8642\u001b[39;00m\n\u001b[0;32m    369\u001b[0m inds \u001b[38;5;241m=\u001b[39m ndindex(inarr_view\u001b[38;5;241m.\u001b[39mshape[:\u001b[38;5;241m-\u001b[39m\u001b[38;5;241m1\u001b[39m])\n\u001b[1;32m--> 370\u001b[0m inds \u001b[38;5;241m=\u001b[39m (ind \u001b[38;5;241m+\u001b[39m (\u001b[38;5;28mEllipsis\u001b[39m,) \u001b[38;5;28;01mfor\u001b[39;00m ind \u001b[38;5;129;01min\u001b[39;00m inds)\n\u001b[0;32m    372\u001b[0m \u001b[38;5;66;03m# invoke the function on the first item\u001b[39;00m\n\u001b[0;32m    373\u001b[0m \u001b[38;5;28;01mtry\u001b[39;00m:\n",
      "\u001b[1;31mKeyboardInterrupt\u001b[0m: "
     ]
    }
   ],
   "source": [
    "model.fit(epochs=100, lr=1e-4)"
   ]
  },
  {
   "cell_type": "code",
   "execution_count": 26,
   "id": "553bb114-7db9-414b-8b7c-0cbda33f5920",
   "metadata": {
    "tags": []
   },
   "outputs": [
    {
     "data": {
      "image/png": "[encoded data removed]",
      "text/plain": [
       "<Figure size 640x480 with 1 Axes>"
      ]
     },
     "metadata": {},
     "output_type": "display_data"
    }
   ],
   "source": [
    "np.linspace(-3,3,100)\n",
    "y=np.log(x)\n",
    "plt.plot(x,y)\n",
    "plt.show()"
   ]
  },
  {
   "cell_type": "code",
   "execution_count": 31,
   "id": "f3841e70-f269-43dd-b338-1d9ecbf1891e",
   "metadata": {
    "collapsed": true,
    "jupyter": {
     "outputs_hidden": true
    },
    "tags": []
   },
   "outputs": [
    {
     "data": {
      "text/plain": [
       "array([[0.00167499, 0.00213162, 0.00180812],\n",
       "       [0.00167307, 0.00212556, 0.00181535],\n",
       "       [0.00167707, 0.00212468, 0.00181177],\n",
       "       [0.00167595, 0.00212024, 0.00181678],\n",
       "       [0.00167711, 0.00215031, 0.00179014],\n",
       "       [0.00167525, 0.00212038, 0.00181741],\n",
       "       [0.00167459, 0.00212033, 0.00181817],\n",
       "       [0.00167508, 0.00212588, 0.0018129 ],\n",
       "       [0.00167396, 0.00212647, 0.00181361],\n",
       "       [0.00167571, 0.00212597, 0.00181214],\n",
       "       [0.00167624, 0.00211901, 0.00181752],\n",
       "       [0.00167538, 0.00212096, 0.00181679],\n",
       "       [0.00167551, 0.00211897, 0.00181835],\n",
       "       [0.00167383, 0.00212142, 0.00181807],\n",
       "       [0.00167478, 0.00211651, 0.00182125],\n",
       "       [0.00167557, 0.00212373, 0.00181421],\n",
       "       [0.00167646, 0.00212679, 0.00181064],\n",
       "       [0.00167693, 0.00212922, 0.00180805],\n",
       "       [0.00167585, 0.00211663, 0.00181999],\n",
       "       [0.00167313, 0.00214193, 0.00180141],\n",
       "       [0.00167484, 0.00214472, 0.00179723],\n",
       "       [0.00167502, 0.00214431, 0.00179738],\n",
       "       [0.00167546, 0.00212738, 0.0018112 ],\n",
       "       [0.00167644, 0.00212672, 0.00181071],\n",
       "       [0.00167725, 0.00213447, 0.00180327],\n",
       "       [0.00167988, 0.00214534, 0.00179133],\n",
       "       [0.00167554, 0.002122  , 0.00181571],\n",
       "       [0.0016757 , 0.00212073, 0.00181663],\n",
       "       [0.00167659, 0.00213465, 0.00180382],\n",
       "       [0.00167525, 0.00212618, 0.00181246],\n",
       "       [0.00167844, 0.00212275, 0.00181194],\n",
       "       [0.00167677, 0.002119  , 0.00181696],\n",
       "       [0.00167563, 0.0021304 , 0.00180846],\n",
       "       [0.00167627, 0.00212893, 0.00180902],\n",
       "       [0.0016762 , 0.00212919, 0.00180887],\n",
       "       [0.00167769, 0.00213271, 0.00180428],\n",
       "       [0.00167448, 0.00213602, 0.00180494],\n",
       "       [0.0016762 , 0.00212599, 0.00181159],\n",
       "       [0.00167517, 0.00212722, 0.00181166],\n",
       "       [0.00167052, 0.00215187, 0.00179589],\n",
       "       [0.00167575, 0.00214127, 0.00179914],\n",
       "       [0.00167507, 0.00213002, 0.00180938],\n",
       "       [0.00167502, 0.00212591, 0.00181294],\n",
       "       [0.00167338, 0.00215205, 0.00179266],\n",
       "       [0.00167644, 0.00213431, 0.00180428],\n",
       "       [0.00167426, 0.00213362, 0.0018072 ],\n",
       "       [0.00167419, 0.00212992, 0.00181043],\n",
       "       [0.00167573, 0.00212905, 0.00180951],\n",
       "       [0.00167645, 0.00212898, 0.00180878],\n",
       "       [0.00167606, 0.00212374, 0.00181367],\n",
       "       [0.00167513, 0.00212136, 0.00181671],\n",
       "       [0.00167618, 0.00212067, 0.00181617],\n",
       "       [0.00167501, 0.00212476, 0.00181393],\n",
       "       [0.0016756 , 0.00212277, 0.00181499],\n",
       "       [0.00167518, 0.00213091, 0.00180852],\n",
       "       [0.00167769, 0.00212938, 0.00180711],\n",
       "       [0.00167522, 0.00213391, 0.00180592],\n",
       "       [0.00167585, 0.0021227 , 0.00181479],\n",
       "       [0.00167632, 0.00212268, 0.00181429],\n",
       "       [0.00166895, 0.00215017, 0.00179901],\n",
       "       [0.0016738 , 0.00214503, 0.00179809],\n",
       "       [0.00167276, 0.00217193, 0.00177692],\n",
       "       [0.00167467, 0.00214726, 0.00179528],\n",
       "       [0.00168129, 0.00216504, 0.00177354],\n",
       "       [0.00167578, 0.00219416, 0.00175576],\n",
       "       [0.00167788, 0.00214323, 0.00179523],\n",
       "       [0.00167667, 0.00214665, 0.00179366],\n",
       "       [0.00167867, 0.00214968, 0.00178899],\n",
       "       [0.00167427, 0.00214331, 0.00179902],\n",
       "       [0.00167611, 0.00215528, 0.00178707],\n",
       "       [0.00167702, 0.00213674, 0.00180159],\n",
       "       [0.00168443, 0.00217365, 0.00176322],\n",
       "       [0.00168009, 0.00216595, 0.00177406],\n",
       "       [0.00168244, 0.00214104, 0.00179219],\n",
       "       [0.00167975, 0.00213236, 0.00180236],\n",
       "       [0.00167327, 0.00217304, 0.00177548],\n",
       "       [0.00167434, 0.00216957, 0.00177718],\n",
       "       [0.00167326, 0.00217323, 0.00177533],\n",
       "       [0.00167555, 0.00214768, 0.00179399],\n",
       "       [0.0016787 , 0.00217849, 0.0017653 ],\n",
       "       [0.00168131, 0.00219778, 0.00174709],\n",
       "       [0.00167733, 0.0021382 , 0.00180003],\n",
       "       [0.001682  , 0.00214151, 0.00179227],\n",
       "       [0.00167604, 0.00216638, 0.00177799],\n",
       "       [0.00167982, 0.00215303, 0.00178499],\n",
       "       [0.00167703, 0.00216601, 0.00177724],\n",
       "       [0.001681  , 0.00216146, 0.00177678],\n",
       "       [0.00168373, 0.00215287, 0.00178098],\n",
       "       [0.00167916, 0.00214144, 0.00179535],\n",
       "       [0.00168199, 0.00213843, 0.00179485],\n",
       "       [0.00167688, 0.00215751, 0.00178441],\n",
       "       [0.00168073, 0.00216462, 0.00177447],\n",
       "       [0.00167836, 0.00215649, 0.00178367],\n",
       "       [0.00167527, 0.00220615, 0.00174674],\n",
       "       [0.00167752, 0.00219145, 0.0017561 ],\n",
       "       [0.00167779, 0.00214513, 0.00179373],\n",
       "       [0.00167757, 0.00216556, 0.00177704],\n",
       "       [0.00167629, 0.00216234, 0.00178105],\n",
       "       [0.00167974, 0.00213976, 0.00179615],\n",
       "       [0.0016774 , 0.00217468, 0.00176977],\n",
       "       [0.00167614, 0.00214181, 0.00179827],\n",
       "       [0.00167649, 0.00214986, 0.00179117],\n",
       "       [0.00167845, 0.00217508, 0.00176834],\n",
       "       [0.00167929, 0.00216904, 0.00177238],\n",
       "       [0.00167854, 0.0021402 , 0.00179706],\n",
       "       [0.00167882, 0.00220174, 0.00174654],\n",
       "       [0.00167783, 0.00215219, 0.0017878 ],\n",
       "       [0.00167988, 0.00216077, 0.00177853],\n",
       "       [0.00168071, 0.0021929 , 0.00175161],\n",
       "       [0.00168091, 0.00214057, 0.00179421],\n",
       "       [0.0016797 , 0.00216176, 0.0017779 ],\n",
       "       [0.00167868, 0.0021976 , 0.00174998],\n",
       "       [0.00167614, 0.00215632, 0.00178617],\n",
       "       [0.00168297, 0.00216389, 0.00177271],\n",
       "       [0.00168301, 0.00217382, 0.00176456],\n",
       "       [0.00168439, 0.00216667, 0.00176893],\n",
       "       [0.00168052, 0.00215564, 0.00178209],\n",
       "       [0.00168161, 0.00220045, 0.00174466],\n",
       "       [0.00166768, 0.00218442, 0.00177215],\n",
       "       [0.00167613, 0.00215429, 0.00178787],\n",
       "       [0.00167946, 0.00214851, 0.00178913],\n",
       "       [0.00168939, 0.00218152, 0.0017517 ],\n",
       "       [0.00168101, 0.00220809, 0.00173925],\n",
       "       [0.00167345, 0.00219742, 0.00175558],\n",
       "       [0.0016805 , 0.002183  , 0.00175976],\n",
       "       [0.0016807 , 0.00217775, 0.0017638 ],\n",
       "       [0.00168337, 0.00218288, 0.00175687],\n",
       "       [0.00168744, 0.00217093, 0.00176228],\n",
       "       [0.00168666, 0.00218925, 0.00174834],\n",
       "       [0.00167681, 0.00215587, 0.00178584],\n",
       "       [0.00167426, 0.00215971, 0.00178538],\n",
       "       [0.00167322, 0.00217125, 0.00177699],\n",
       "       [0.00167778, 0.00216455, 0.00177765],\n",
       "       [0.00167459, 0.00216537, 0.00178036],\n",
       "       [0.00167559, 0.00214247, 0.00179831],\n",
       "       [0.00167417, 0.00214655, 0.00179642],\n",
       "       [0.00167366, 0.00215045, 0.0017937 ],\n",
       "       [0.0016749 , 0.00217954, 0.00176845],\n",
       "       [0.00167207, 0.00215905, 0.00178826],\n",
       "       [0.00167741, 0.00216169, 0.00178039],\n",
       "       [0.00167468, 0.00215731, 0.00178691],\n",
       "       [0.0016745 , 0.00214031, 0.0018013 ],\n",
       "       [0.00167491, 0.00217115, 0.00177528],\n",
       "       [0.00167083, 0.00216827, 0.00178198],\n",
       "       [0.00167358, 0.00214471, 0.0017986 ],\n",
       "       [0.00167487, 0.00214374, 0.00179802],\n",
       "       [0.00166667, 0.00219004, 0.00176867],\n",
       "       [0.00167346, 0.00215761, 0.00178797],\n",
       "       [0.00167517, 0.00215369, 0.00178939],\n",
       "       [0.00167319, 0.00217654, 0.0017727 ],\n",
       "       [0.00167558, 0.00218848, 0.00176052],\n",
       "       [0.00167562, 0.00218329, 0.00176466],\n",
       "       [0.00168114, 0.00219462, 0.00174979],\n",
       "       [0.00167349, 0.00215212, 0.00179249],\n",
       "       [0.00167671, 0.0021514 , 0.00178965],\n",
       "       [0.00167387, 0.00215272, 0.0017916 ],\n",
       "       [0.00167087, 0.00217563, 0.00177591],\n",
       "       [0.00167909, 0.00214034, 0.00179635],\n",
       "       [0.00168046, 0.00215116, 0.00178586],\n",
       "       [0.00167927, 0.00215017, 0.00178795],\n",
       "       [0.00167478, 0.00216733, 0.00177855],\n",
       "       [0.0016729 , 0.00215554, 0.00179028],\n",
       "       [0.00167485, 0.00216639, 0.00177924],\n",
       "       [0.00167243, 0.00215531, 0.00179099],\n",
       "       [0.00167486, 0.002156  , 0.00178781],\n",
       "       [0.00167282, 0.00217137, 0.00177732],\n",
       "       [0.00167518, 0.00215844, 0.00178544],\n",
       "       [0.00167363, 0.00214898, 0.00179497],\n",
       "       [0.00167751, 0.00214946, 0.00179041],\n",
       "       [0.0016754 , 0.00216874, 0.00177673],\n",
       "       [0.00167279, 0.00216853, 0.00177967],\n",
       "       [0.00167314, 0.00216934, 0.00177864],\n",
       "       [0.00167388, 0.00215063, 0.00179332],\n",
       "       [0.00167152, 0.00215334, 0.00179359],\n",
       "       [0.00167548, 0.00215112, 0.0017912 ],\n",
       "       [0.00167315, 0.00215044, 0.00179426],\n",
       "       [0.00167488, 0.00214598, 0.00179613],\n",
       "       [0.00167516, 0.00216987, 0.00177606]])"
      ]
     },
     "execution_count": 31,
     "metadata": {},
     "output_type": "execute_result"
    }
   ],
   "source": [
    "softmax(y_hat)"
   ]
  },
  {
   "cell_type": "code",
   "execution_count": 32,
   "id": "9d81d2f9-8bfb-4b3a-8642-d6f43fc622ac",
   "metadata": {
    "collapsed": true,
    "jupyter": {
     "outputs_hidden": true
    },
    "tags": []
   },
   "outputs": [
    {
     "data": {
      "text/plain": [
       "array([[-0.27632252, -0.03524288, -0.19984135],\n",
       "       [-0.27746401, -0.03809267, -0.19585007],\n",
       "       [-0.27507766, -0.03850427, -0.19782482],\n",
       "       [-0.27574891, -0.04059846, -0.19505938],\n",
       "       [-0.27505715, -0.0265148 , -0.2098348 ],\n",
       "       [-0.27616407, -0.04053033, -0.19471235],\n",
       "       [-0.27655635, -0.04055443, -0.19429597],\n",
       "       [-0.27626532, -0.03794034, -0.19720109],\n",
       "       [-0.27693633, -0.03766381, -0.19680661],\n",
       "       [-0.27588964, -0.03790021, -0.19761691],\n",
       "       [-0.27557344, -0.04117803, -0.19465528],\n",
       "       [-0.27608989, -0.04026034, -0.19505652],\n",
       "       [-0.27601119, -0.04119552, -0.19420004],\n",
       "       [-0.27701142, -0.04004184, -0.19435349],\n",
       "       [-0.27644548, -0.04235828, -0.19260299],\n",
       "       [-0.27597533, -0.03895221, -0.19647921],\n",
       "       [-0.27544457, -0.03751468, -0.1984475 ],\n",
       "       [-0.2751616 , -0.0363692 , -0.19987595],\n",
       "       [-0.27580703, -0.04230399, -0.19329573],\n",
       "       [-0.27742851, -0.03041943, -0.20355881],\n",
       "       [-0.27641027, -0.02911888, -0.20587759],\n",
       "       [-0.2763017 , -0.02931057, -0.20579447],\n",
       "       [-0.27603733, -0.03723461, -0.19813481],\n",
       "       [-0.27545182, -0.03754746, -0.19840746],\n",
       "       [-0.27496978, -0.0339106 , -0.20252636],\n",
       "       [-0.273406  , -0.02883025, -0.20917049],\n",
       "       [-0.27599261, -0.0397663 , -0.19564784],\n",
       "       [-0.27589882, -0.04036607, -0.19514185],\n",
       "       [-0.2753635 , -0.03382344, -0.20221981],\n",
       "       [-0.27616512, -0.03780216, -0.19743946],\n",
       "       [-0.27426045, -0.03941604, -0.19773026],\n",
       "       [-0.27525903, -0.04118398, -0.19496374],\n",
       "       [-0.27593844, -0.03581908, -0.19964922],\n",
       "       [-0.2755587 , -0.03650888, -0.19933917],\n",
       "       [-0.27559812, -0.03638451, -0.19942411],\n",
       "       [-0.274709  , -0.03473371, -0.20196404],\n",
       "       [-0.27662274, -0.03318342, -0.20160058],\n",
       "       [-0.27559536, -0.03789036, -0.19792102],\n",
       "       [-0.27621464, -0.03730928, -0.19788283],\n",
       "       [-0.27899007, -0.02579161, -0.20662507],\n",
       "       [-0.27586358, -0.03072669, -0.20481648],\n",
       "       [-0.27627006, -0.03599445, -0.19914224],\n",
       "       [-0.27630017, -0.03792729, -0.19717929],\n",
       "       [-0.27727843, -0.02570422, -0.20842409],\n",
       "       [-0.27545419, -0.03398473, -0.20196782],\n",
       "       [-0.27675588, -0.03430519, -0.20034568],\n",
       "       [-0.27680024, -0.03604138, -0.19856513],\n",
       "       [-0.27588035, -0.036453  , -0.19907341],\n",
       "       [-0.27545004, -0.03648474, -0.19947196],\n",
       "       [-0.27568329, -0.03894939, -0.19677406],\n",
       "       [-0.27623638, -0.04007001, -0.19510037],\n",
       "       [-0.27561056, -0.04039689, -0.19539929],\n",
       "       [-0.27630898, -0.0384681 , -0.19662967],\n",
       "       [-0.27595437, -0.03940597, -0.19604641],\n",
       "       [-0.27620807, -0.03557933, -0.19961935],\n",
       "       [-0.27470996, -0.03629694, -0.20039985],\n",
       "       [-0.27618004, -0.03416873, -0.20105798],\n",
       "       [-0.27580942, -0.03943837, -0.19615896],\n",
       "       [-0.27552796, -0.03944727, -0.19643152],\n",
       "       [-0.27993201, -0.02658211, -0.20489263],\n",
       "       [-0.27702858, -0.0289743 , -0.20540387],\n",
       "       [-0.2776534 , -0.01651068, -0.21724266],\n",
       "       [-0.27650923, -0.02793338, -0.20696414],\n",
       "       [-0.27256706, -0.01968866, -0.21915103],\n",
       "       [-0.27585024, -0.00632992, -0.2292266 ],\n",
       "       [-0.2745976 , -0.02981301, -0.20699614],\n",
       "       [-0.27532023, -0.02821911, -0.20786741],\n",
       "       [-0.27412239, -0.02680632, -0.21047804],\n",
       "       [-0.27674887, -0.0297757 , -0.20488218],\n",
       "       [-0.27564944, -0.02420501, -0.2115523 ],\n",
       "       [-0.27510655, -0.03284506, -0.20345514],\n",
       "       [-0.27070262, -0.01571698, -0.22498716],\n",
       "       [-0.27328163, -0.01926949, -0.21885563],\n",
       "       [-0.27188121, -0.03083481, -0.20869073],\n",
       "       [-0.27347967, -0.03489794, -0.20302914],\n",
       "       [-0.27734772, -0.01600095, -0.21805808],\n",
       "       [-0.27670584, -0.01759901, -0.2171019 ],\n",
       "       [-0.2773536 , -0.01591465, -0.2181385 ],\n",
       "       [-0.27598492, -0.02773915, -0.20768268],\n",
       "       [-0.2741094 , -0.01349383, -0.22380352],\n",
       "       [-0.27255343, -0.00467761, -0.23417571],\n",
       "       [-0.2749214 , -0.0321603 , -0.20432505],\n",
       "       [-0.2721456 , -0.03061718, -0.20864396],\n",
       "       [-0.27569258, -0.01906927, -0.21664489],\n",
       "       [-0.27344245, -0.02525295, -0.21271135],\n",
       "       [-0.2751027 , -0.01924034, -0.21706372],\n",
       "       [-0.2727389 , -0.02134335, -0.2173245 ],\n",
       "       [-0.27111677, -0.02532676, -0.21496322],\n",
       "       [-0.27383114, -0.03065066, -0.20692495],\n",
       "       [-0.27214852, -0.03205495, -0.20720327],\n",
       "       [-0.27519384, -0.02317102, -0.2130419 ],\n",
       "       [-0.27289981, -0.01988047, -0.21862646],\n",
       "       [-0.2743091 , -0.02364458, -0.21345307],\n",
       "       [-0.27615439, -0.00087647, -0.23437589],\n",
       "       [-0.27481285, -0.00756218, -0.22903172],\n",
       "       [-0.27464963, -0.0289286 , -0.20782852],\n",
       "       [-0.27478192, -0.0194464 , -0.21717843],\n",
       "       [-0.27554454, -0.02093648, -0.21492573],\n",
       "       [-0.27348859, -0.03143493, -0.20648324],\n",
       "       [-0.27488188, -0.01524552, -0.22127936],\n",
       "       [-0.27563229, -0.03047462, -0.20529983],\n",
       "       [-0.27542225, -0.02672528, -0.20925921],\n",
       "       [-0.27425792, -0.01506135, -0.22208747],\n",
       "       [-0.27375686, -0.01784369, -0.2198062 ],\n",
       "       [-0.27420316, -0.03122717, -0.20597642],\n",
       "       [-0.27403608, -0.00288034, -0.23449033],\n",
       "       [-0.27462327, -0.02564326, -0.21114021],\n",
       "       [-0.27340243, -0.02166179, -0.21634253],\n",
       "       [-0.27291165, -0.00690236, -0.23159274],\n",
       "       [-0.27279221, -0.03105298, -0.20756156],\n",
       "       [-0.27350882, -0.02120314, -0.21669478],\n",
       "       [-0.27412114, -0.00476266, -0.23252295],\n",
       "       [-0.27563103, -0.02372165, -0.21205407],\n",
       "       [-0.27156817, -0.02021977, -0.21961881],\n",
       "       [-0.27154217, -0.01563986, -0.22422472],\n",
       "       [-0.27072173, -0.01893385, -0.22175118],\n",
       "       [-0.27302636, -0.02403998, -0.21434041],\n",
       "       [-0.27237695, -0.0034642 , -0.2355656 ],\n",
       "       [-0.28069537, -0.01077888, -0.2199325 ],\n",
       "       [-0.27563962, -0.02466639, -0.21110073],\n",
       "       [-0.27365322, -0.02735394, -0.21039959],\n",
       "       [-0.26776053, -0.01210735, -0.23153888],\n",
       "       [-0.27273207,  0.        , -0.23867467],\n",
       "       [-0.2772375 , -0.00484359, -0.22932566],\n",
       "       [-0.27303282, -0.01142567, -0.22694825],\n",
       "       [-0.272914  , -0.01383395, -0.2246588 ],\n",
       "       [-0.27132935, -0.01148272, -0.22859468],\n",
       "       [-0.26891727, -0.01697028, -0.2255192 ],\n",
       "       [-0.2693793 , -0.00856665, -0.2334608 ],\n",
       "       [-0.27523623, -0.02393137, -0.21223915],\n",
       "       [-0.27675745, -0.02215116, -0.21249813],\n",
       "       [-0.27737669, -0.01682416, -0.2172059 ],\n",
       "       [-0.27465814, -0.01991613, -0.21683248],\n",
       "       [-0.27655827, -0.01953741, -0.21531107],\n",
       "       [-0.2759639 , -0.03016524, -0.2052776 ],\n",
       "       [-0.27680977, -0.02826466, -0.20633232],\n",
       "       [-0.27711237, -0.0264478 , -0.20784658],\n",
       "       [-0.27637076, -0.01301156, -0.22202443],\n",
       "       [-0.27806322, -0.02245883, -0.21088469],\n",
       "       [-0.27487627, -0.02123557, -0.2152949 ],\n",
       "       [-0.2765052 , -0.02326414, -0.21163741],\n",
       "       [-0.27661314, -0.03117653, -0.20361708],\n",
       "       [-0.27636871, -0.01687146, -0.21816658],\n",
       "       [-0.27880765, -0.01819927, -0.21439982],\n",
       "       [-0.27716363, -0.02912244, -0.20512067],\n",
       "       [-0.27639051, -0.02957408, -0.20544216],\n",
       "       [-0.28129966, -0.00820624, -0.22190085],\n",
       "       [-0.27723094, -0.02312743, -0.21104838],\n",
       "       [-0.27621302, -0.02494245, -0.21025128],\n",
       "       [-0.27739322, -0.01438931, -0.21962422],\n",
       "       [-0.2759675 , -0.00891932, -0.22651992],\n",
       "       [-0.27594089, -0.01129572, -0.22417014],\n",
       "       [-0.27265698, -0.00611848, -0.23263129],\n",
       "       [-0.27721601, -0.02567126, -0.20851947],\n",
       "       [-0.27529057, -0.02601014, -0.21010604],\n",
       "       [-0.27698999, -0.02539686, -0.2090199 ],\n",
       "       [-0.27878116, -0.01481084, -0.21781475],\n",
       "       [-0.27387768, -0.03116004, -0.20636903],\n",
       "       [-0.27306044, -0.02611927, -0.21222704],\n",
       "       [-0.27376977, -0.02658027, -0.21105671],\n",
       "       [-0.27644388, -0.01863296, -0.21632991],\n",
       "       [-0.27756696, -0.02408676, -0.20975302],\n",
       "       [-0.27640174, -0.01906316, -0.21594184],\n",
       "       [-0.27785099, -0.02419464, -0.20936112],\n",
       "       [-0.27639878, -0.02387183, -0.21113614],\n",
       "       [-0.27761801, -0.01676881, -0.21701992],\n",
       "       [-0.27620444, -0.02274304, -0.21245927],\n",
       "       [-0.27713302, -0.02713274, -0.20714099],\n",
       "       [-0.27481734, -0.02690979, -0.20967961],\n",
       "       [-0.27607376, -0.0179806 , -0.21735239],\n",
       "       [-0.27763405, -0.01807582, -0.21569688],\n",
       "       [-0.27742734, -0.01770348, -0.21627593],\n",
       "       [-0.27698044, -0.02636542, -0.20806089],\n",
       "       [-0.27839471, -0.02510478, -0.20790725],\n",
       "       [-0.27602902, -0.02613618, -0.20924155],\n",
       "       [-0.27741754, -0.0264527 , -0.20753651],\n",
       "       [-0.27638519, -0.0285305 , -0.20649106],\n",
       "       [-0.27621888, -0.01745957, -0.2177283 ]])"
      ]
     },
     "execution_count": 32,
     "metadata": {},
     "output_type": "execute_result"
    }
   ],
   "source": [
    "model.y_hat"
   ]
  },
  {
   "cell_type": "code",
   "execution_count": 36,
   "id": "9ee41d29-23c6-4e91-a053-0a723e5cf16d",
   "metadata": {
    "tags": []
   },
   "outputs": [
    {
     "data": {
      "text/plain": [
       "193.88348298977428"
      ]
     },
     "execution_count": 36,
     "metadata": {},
     "output_type": "execute_result"
    }
   ],
   "source": [
    "-np.sum(model.y*np.log(model.y_hat))"
   ]
  },
  {
   "cell_type": "code",
   "execution_count": null,
   "id": "282f53f5-1bc3-4f75-92a2-f0ae5a12e790",
   "metadata": {},
   "outputs": [],
   "source": [
    "model.y*np.log(model.y_hat)"
   ]
  },
  {
   "cell_type": "code",
   "execution_count": 37,
   "id": "05f5d048-e1f7-4efa-9483-8286f4ce0ede",
   "metadata": {
    "tags": []
   },
   "outputs": [
    {
     "data": {
      "text/plain": [
       "array([[0.59968848, 0.18658556, 0.19069812],\n",
       "       [0.2718037 , 0.6940133 , 0.28028587],\n",
       "       [0.36097783, 0.49225227, 0.67698817],\n",
       "       [0.23719545, 0.96111105, 0.69433229],\n",
       "       [0.12156006, 0.20995552, 0.13951507],\n",
       "       [0.1419431 , 0.87646365, 0.1429674 ],\n",
       "       [0.85769224, 0.03631299, 0.43396788],\n",
       "       [0.57245005, 0.47273668, 0.34594478],\n",
       "       [0.40037355, 0.41256471, 0.42677785],\n",
       "       [0.73504947, 0.21623762, 0.38152743],\n",
       "       [0.61841769, 0.50842075, 0.89549538],\n",
       "       [0.14497516, 0.18450661, 0.94556462],\n",
       "       [0.8566066 , 0.80746102, 0.52452465]])"
      ]
     },
     "execution_count": 37,
     "metadata": {},
     "output_type": "execute_result"
    }
   ],
   "source": [
    "np.random.uniform(0,1,size=(13,3)) #uniform 균등분포"
   ]
  },
  {
   "cell_type": "code",
   "execution_count": 39,
   "id": "c8a099e2-4d8c-4c81-804e-0b45b4b5f6d4",
   "metadata": {
    "tags": []
   },
   "outputs": [
    {
     "name": "stderr",
     "output_type": "stream",
     "text": [
      "C:\\Users\\admin\\AppData\\Local\\Temp\\ipykernel_25084\\2424954009.py:68: DeprecationWarning: elementwise comparison failed; this will raise an error in the future.\n",
      "  score = np.sum(predict == y)/len(x)\n"
     ]
    },
    {
     "data": {
      "text/plain": [
       "0.0"
      ]
     },
     "execution_count": 39,
     "metadata": {},
     "output_type": "execute_result"
    }
   ],
   "source": [
    "model.score(X, y)"
   ]
  },
  {
   "cell_type": "code",
   "execution_count": 40,
   "id": "751b7d6c-230b-4681-bd9a-ea2dbb6170c5",
   "metadata": {
    "tags": []
   },
   "outputs": [],
   "source": [
    "import pickle"
   ]
  },
  {
   "cell_type": "code",
   "execution_count": 41,
   "id": "8835a070-71b2-4fd2-967f-a1b7f7af4928",
   "metadata": {
    "tags": []
   },
   "outputs": [
    {
     "ename": "PicklingError",
     "evalue": "Can't pickle <class '__main__.Leejunyoung'>: it's not the same object as __main__.Leejunyoung",
     "output_type": "error",
     "traceback": [
      "\u001b[1;31m---------------------------------------------------------------------------\u001b[0m",
      "\u001b[1;31mPicklingError\u001b[0m                             Traceback (most recent call last)",
      "Cell \u001b[1;32mIn[41], line 2\u001b[0m\n\u001b[0;32m      1\u001b[0m \u001b[38;5;28;01mwith\u001b[39;00m \u001b[38;5;28mopen\u001b[39m(\u001b[38;5;124m'\u001b[39m\u001b[38;5;124mmodel.pickle\u001b[39m\u001b[38;5;124m'\u001b[39m, \u001b[38;5;124m'\u001b[39m\u001b[38;5;124mwb\u001b[39m\u001b[38;5;124m'\u001b[39m) \u001b[38;5;28;01mas\u001b[39;00m f:\n\u001b[1;32m----> 2\u001b[0m     \u001b[43mpickle\u001b[49m\u001b[38;5;241;43m.\u001b[39;49m\u001b[43mdump\u001b[49m\u001b[43m(\u001b[49m\u001b[43mmodel\u001b[49m\u001b[43m,\u001b[49m\u001b[43m \u001b[49m\u001b[43mf\u001b[49m\u001b[43m)\u001b[49m\n",
      "\u001b[1;31mPicklingError\u001b[0m: Can't pickle <class '__main__.Leejunyoung'>: it's not the same object as __main__.Leejunyoung"
     ]
    }
   ],
   "source": [
    "with open('model.pickle', 'wb') as f:\n",
    "    pickle.dump(model, f)"
   ]
  },
  {
   "cell_type": "code",
   "execution_count": null,
   "id": "b44ab639-a663-4755-84f1-725c1e0dab51",
   "metadata": {},
   "outputs": [],
   "source": []
  }
 ],
 "metadata": {
  "kernelspec": {
   "display_name": "Python 3 (ipykernel)",
   "language": "python",
   "name": "python3"
  },
  "language_info": {
   "codemirror_mode": {
    "name": "ipython",
    "version": 3
   },
   "file_extension": ".py",
   "mimetype": "text/x-python",
   "name": "python",
   "nbconvert_exporter": "python",
   "pygments_lexer": "ipython3",
   "version": "3.11.1"
  }
 },
 "nbformat": 4,
 "nbformat_minor": 5
}
