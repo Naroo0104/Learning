{
 "cells": [
  {
   "cell_type": "code",
   "execution_count": 155,
   "id": "212eeef7",
   "metadata": {},
   "outputs": [],
   "source": [
    "import cx_Oracle"
   ]
  },
  {
   "cell_type": "code",
   "execution_count": 156,
   "id": "a6dc687e",
   "metadata": {},
   "outputs": [],
   "source": [
    "dns = cx_Oracle.makedsn('localhost', 1521, 'xe')"
   ]
  },
  {
   "cell_type": "code",
   "execution_count": 157,
   "id": "5c8eaa05",
   "metadata": {},
   "outputs": [],
   "source": [
    "conn = cx_Oracle.connect('GWANGJU_B', 'DBDB', dns)"
   ]
  },
  {
   "cell_type": "code",
   "execution_count": 158,
   "id": "766fe77d",
   "metadata": {},
   "outputs": [],
   "source": [
    "cursor = conn.cursor()"
   ]
  },
  {
   "cell_type": "code",
   "execution_count": 159,
   "id": "3ced8c35",
   "metadata": {},
   "outputs": [],
   "source": [
    "# sql = \"\"\"\n",
    "#     SELECT * FROM CART\n",
    "#     WHERE CART_MEMBER='a001'\n",
    "# \"\"\"\n",
    "# cursor.execute(sql)"
   ]
  },
  {
   "cell_type": "code",
   "execution_count": 160,
   "id": "039d826d",
   "metadata": {},
   "outputs": [],
   "source": [
    "# rows=cursor.fetchone()\n",
    "# rows"
   ]
  },
  {
   "cell_type": "code",
   "execution_count": 161,
   "id": "6135ec0e",
   "metadata": {},
   "outputs": [
    {
     "data": {
      "text/plain": [
       "('b001', '2005072800004', 'P302000001', 6)"
      ]
     },
     "execution_count": 161,
     "metadata": {},
     "output_type": "execute_result"
    }
   ],
   "source": [
    "sql = \"\"\"\n",
    "    SELECT * FROM CART\n",
    "    WHERE CART_MEMBER=:mem_id\n",
    "\"\"\"\n",
    "cursor.execute(sql, mem_id='b001')\n",
    "\n",
    "rows=cursor.fetchone()\n",
    "rows"
   ]
  },
  {
   "cell_type": "code",
   "execution_count": 162,
   "id": "f93e2329",
   "metadata": {},
   "outputs": [
    {
     "data": {
      "text/plain": [
       "[('CART_MEMBER', <cx_Oracle.DbType DB_TYPE_VARCHAR>, 15, 15, None, None, 0),\n",
       " ('CART_NO', <cx_Oracle.DbType DB_TYPE_CHAR>, 13, 13, None, None, 0),\n",
       " ('CART_PROD', <cx_Oracle.DbType DB_TYPE_VARCHAR>, 10, 10, None, None, 0),\n",
       " ('CART_QTY', <cx_Oracle.DbType DB_TYPE_NUMBER>, 9, None, 8, 0, 0)]"
      ]
     },
     "execution_count": 162,
     "metadata": {},
     "output_type": "execute_result"
    }
   ],
   "source": [
    "#컬럼명 조회\n",
    "cols=cursor.description\n",
    "cols"
   ]
  },
  {
   "cell_type": "code",
   "execution_count": 163,
   "id": "bc1bb281",
   "metadata": {},
   "outputs": [
    {
     "name": "stdout",
     "output_type": "stream",
     "text": [
      "['CART_MEMBER', 'CART_NO', 'CART_PROD', 'CART_QTY']\n"
     ]
    }
   ],
   "source": [
    "#컬럼명만 추출해 리스트에 담기\n",
    "col=[]\n",
    "\n",
    "for i in cols:\n",
    "    col.append(i[0])\n",
    "\n",
    "print(col)"
   ]
  },
  {
   "cell_type": "code",
   "execution_count": 164,
   "id": "7186b89b",
   "metadata": {},
   "outputs": [
    {
     "name": "stdout",
     "output_type": "stream",
     "text": [
      "{'CART_MEMBER': 'b001', 'CART_NO': '2005072800004', 'CART_PROD': 'P302000001', 'CART_QTY': 6}\n"
     ]
    }
   ],
   "source": [
    "# 풀어헤치기\n",
    "for rows_cols in rows:\n",
    "    dict_col={}\n",
    "    # print(rows_cols)\n",
    "    for i in range(len(col)):\n",
    "        dict_col[col[i]]=rows[i]\n",
    "print(dict_col)"
   ]
  },
  {
   "cell_type": "code",
   "execution_count": 165,
   "metadata": {},
   "outputs": [
    {
     "name": "stdout",
     "output_type": "stream",
     "text": [
      "{'CART_MEMBER': 'b001', 'CART_NO': '2005072800004', 'CART_PROD': 'P302000001', 'CART_QTY': 6}\n"
     ]
    }
   ],
   "source": [
    "dict_col={}\n",
    "for i in range(0,len(rows),1):\n",
    "    dict_col[col[i]]=rows[i]\n",
    "print(dict_col)"
   ]
  },
  {
   "cell_type": "code",
   "execution_count": 166,
   "id": "917de8eb",
   "metadata": {},
   "outputs": [],
   "source": [
    "cursor.close()\n",
    "conn.close()"
   ]
  },
  {
   "cell_type": "code",
   "execution_count": null,
   "id": "bcef5ccd",
   "metadata": {},
   "outputs": [],
   "source": []
  }
 ],
 "metadata": {
  "kernelspec": {
   "display_name": "django_kernel",
   "language": "python",
   "name": "django"
  },
  "language_info": {
   "codemirror_mode": {
    "name": "ipython",
    "version": 3
   },
   "file_extension": ".py",
   "mimetype": "text/x-python",
   "name": "python",
   "nbconvert_exporter": "python",
   "pygments_lexer": "ipython3",
   "version": "3.11.1"
  }
 },
 "nbformat": 4,
 "nbformat_minor": 5
}
