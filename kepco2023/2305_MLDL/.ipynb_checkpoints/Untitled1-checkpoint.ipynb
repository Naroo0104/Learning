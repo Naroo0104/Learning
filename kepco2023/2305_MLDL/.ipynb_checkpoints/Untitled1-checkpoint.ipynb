{
 "cells": [
  {
   "cell_type": "code",
   "execution_count": 2,
   "id": "87586bf8-d489-44e3-9e1f-70f9f89535e4",
   "metadata": {
    "tags": []
   },
   "outputs": [],
   "source": [
    "from machine_learning import Leejunyoung"
   ]
  },
  {
   "cell_type": "code",
   "execution_count": 5,
   "id": "f61c79f3-2e82-4d55-8c7d-f88e74c75795",
   "metadata": {
    "tags": []
   },
   "outputs": [],
   "source": [
    "import machine_learning\n",
    "import numpy as np"
   ]
  },
  {
   "cell_type": "code",
   "execution_count": 6,
   "id": "2a2e3997-058a-437f-a049-215cb29b3714",
   "metadata": {
    "tags": []
   },
   "outputs": [],
   "source": [
    "rng=np.random.RandomState(seed=100) #전역변수로 쓰는 법"
   ]
  },
  {
   "cell_type": "code",
   "execution_count": 7,
   "id": "03aed2b8-7bdf-48da-9266-146868c65327",
   "metadata": {
    "tags": []
   },
   "outputs": [
    {
     "data": {
      "text/plain": [
       "array([[-1.74976547,  0.3426804 ,  1.1530358 , -0.25243604],\n",
       "       [ 0.98132079,  0.51421884,  0.22117967, -1.07004333],\n",
       "       [-0.18949583,  0.25500144, -0.45802699,  0.43516349]])"
      ]
     },
     "execution_count": 7,
     "metadata": {},
     "output_type": "execute_result"
    }
   ],
   "source": [
    "rng.randn(3,4) #지역변수로 쓰는 법 =>이 방법이 더 좋음"
   ]
  },
  {
   "cell_type": "code",
   "execution_count": 9,
   "id": "a478432c-c2bb-4c0b-8c5c-4ba02d065670",
   "metadata": {
    "tags": []
   },
   "outputs": [
    {
     "data": {
      "text/plain": [
       "array([[-0.20898877,  0.56653789,  0.4454166 , -0.04948262],\n",
       "       [-0.19668972,  0.75877302, -0.17183035, -0.27546791],\n",
       "       [ 1.35129056,  1.26981702, -0.11016212, -0.25359172]])"
      ]
     },
     "execution_count": 9,
     "metadata": {},
     "output_type": "execute_result"
    }
   ],
   "source": [
    "machine_learning.sigmoid(rng.randn(3,4))"
   ]
  },
  {
   "cell_type": "code",
   "execution_count": 11,
   "id": "e1f83cd6-c248-48dd-95e6-fb3718743e1e",
   "metadata": {
    "tags": []
   },
   "outputs": [],
   "source": [
    "from sklearn.datasets import load_iris\n",
    "X=load_iris()['data']\n",
    "y=load_iris()['target']"
   ]
  },
  {
   "cell_type": "code",
   "execution_count": 12,
   "id": "9314c9b0-a38a-4784-bc76-bbba71ce427c",
   "metadata": {
    "tags": []
   },
   "outputs": [],
   "source": [
    "model=Leejunyoung(X,y)"
   ]
  },
  {
   "cell_type": "code",
   "execution_count": 13,
   "id": "4c877f59-21de-4765-b88e-45a3c7cc38d2",
   "metadata": {
    "tags": []
   },
   "outputs": [
    {
     "name": "stdout",
     "output_type": "stream",
     "text": [
      "Loss : ==================> 334.00753190282063\n",
      "Loss : ==================> 130.43195368651658\n",
      "Loss : ==================> 44.59866574359434\n",
      "Loss : ==================> 24.01888005102971\n",
      "Loss : ==================> 21.641237342233012\n",
      "Loss : ==================> 19.94211052821492\n",
      "Loss : ==================> 18.6493601448766\n",
      "Loss : ==================> 17.627087588125754\n",
      "Loss : ==================> 16.795547714665584\n",
      "Loss : ==================> 16.10409075020378\n"
     ]
    }
   ],
   "source": [
    "model.fit(epochs=1000, lr=1e-3)"
   ]
  },
  {
   "cell_type": "code",
   "execution_count": 16,
   "id": "a4335215-c947-49a1-b3bd-705fc99bdde7",
   "metadata": {
    "tags": []
   },
   "outputs": [
    {
     "data": {
      "text/plain": [
       "0.9866666666666667"
      ]
     },
     "execution_count": 16,
     "metadata": {},
     "output_type": "execute_result"
    }
   ],
   "source": [
    "model.score(X,y)"
   ]
  },
  {
   "cell_type": "code",
   "execution_count": 17,
   "id": "eb127907-69c6-4418-9b00-02383016b406",
   "metadata": {
    "tags": []
   },
   "outputs": [],
   "source": [
    "import pickle"
   ]
  },
  {
   "cell_type": "code",
   "execution_count": 19,
   "id": "e07a47fc-4f1d-4c72-8af6-cdec1a7e4561",
   "metadata": {
    "tags": []
   },
   "outputs": [],
   "source": [
    "with open('../www/model.pickle', 'wb') as f: #원래 파일 이름(실제 이름)은 '파일경로+파일명+확장자명' 임. 그래서 unique함.\n",
    "    pickle.dump(model, f)"
   ]
  },
  {
   "cell_type": "code",
   "execution_count": null,
   "id": "db98ec76-21b5-4592-9847-b3413bdbeff1",
   "metadata": {},
   "outputs": [],
   "source": []
  }
 ],
 "metadata": {
  "kernelspec": {
   "display_name": "Python 3 (ipykernel)",
   "language": "python",
   "name": "python3"
  },
  "language_info": {
   "codemirror_mode": {
    "name": "ipython",
    "version": 3
   },
   "file_extension": ".py",
   "mimetype": "text/x-python",
   "name": "python",
   "nbconvert_exporter": "python",
   "pygments_lexer": "ipython3",
   "version": "3.11.1"
  }
 },
 "nbformat": 4,
 "nbformat_minor": 5
}
