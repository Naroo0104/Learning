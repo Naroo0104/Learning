{
 "cells": [
  {
   "cell_type": "code",
   "execution_count": 7,
   "id": "f80ea091-85c7-40d6-b8af-4dad3cbf021b",
   "metadata": {},
   "outputs": [],
   "source": [
    "from sklearn.linear_model import LogisticRegression\n",
    "import warnings\n",
    "warnings.filterwarnings(action='ignore')"
   ]
  },
  {
   "cell_type": "code",
   "execution_count": 8,
   "id": "2096c314-8593-43f7-8b1a-b16daf82b68f",
   "metadata": {},
   "outputs": [],
   "source": [
    "from sklearn.datasets import load_iris"
   ]
  },
  {
   "cell_type": "code",
   "execution_count": 9,
   "id": "bc89279d-ac7e-480f-a40b-e42e03ade4ab",
   "metadata": {},
   "outputs": [],
   "source": [
    "import pickle"
   ]
  },
  {
   "cell_type": "code",
   "execution_count": 10,
   "id": "cd3ada1d-0e1b-46bd-aee0-f5bcca2d5b98",
   "metadata": {},
   "outputs": [],
   "source": [
    "X = load_iris()['data']\n",
    "y = load_iris()['target']"
   ]
  },
  {
   "cell_type": "code",
   "execution_count": 11,
   "id": "11af0354-a7ca-4f4a-9041-ab8c3bf2baea",
   "metadata": {},
   "outputs": [
    {
     "data": {
      "text/html": [
       "<style>#sk-container-id-2 {color: black;background-color: white;}#sk-container-id-2 pre{padding: 0;}#sk-container-id-2 div.sk-toggleable {background-color: white;}#sk-container-id-2 label.sk-toggleable__label {cursor: pointer;display: block;width: 100%;margin-bottom: 0;padding: 0.3em;box-sizing: border-box;text-align: center;}#sk-container-id-2 label.sk-toggleable__label-arrow:before {content: \"▸\";float: left;margin-right: 0.25em;color: #696969;}#sk-container-id-2 label.sk-toggleable__label-arrow:hover:before {color: black;}#sk-container-id-2 div.sk-estimator:hover label.sk-toggleable__label-arrow:before {color: black;}#sk-container-id-2 div.sk-toggleable__content {max-height: 0;max-width: 0;overflow: hidden;text-align: left;background-color: #f0f8ff;}#sk-container-id-2 div.sk-toggleable__content pre {margin: 0.2em;color: black;border-radius: 0.25em;background-color: #f0f8ff;}#sk-container-id-2 input.sk-toggleable__control:checked~div.sk-toggleable__content {max-height: 200px;max-width: 100%;overflow: auto;}#sk-container-id-2 input.sk-toggleable__control:checked~label.sk-toggleable__label-arrow:before {content: \"▾\";}#sk-container-id-2 div.sk-estimator input.sk-toggleable__control:checked~label.sk-toggleable__label {background-color: #d4ebff;}#sk-container-id-2 div.sk-label input.sk-toggleable__control:checked~label.sk-toggleable__label {background-color: #d4ebff;}#sk-container-id-2 input.sk-hidden--visually {border: 0;clip: rect(1px 1px 1px 1px);clip: rect(1px, 1px, 1px, 1px);height: 1px;margin: -1px;overflow: hidden;padding: 0;position: absolute;width: 1px;}#sk-container-id-2 div.sk-estimator {font-family: monospace;background-color: #f0f8ff;border: 1px dotted black;border-radius: 0.25em;box-sizing: border-box;margin-bottom: 0.5em;}#sk-container-id-2 div.sk-estimator:hover {background-color: #d4ebff;}#sk-container-id-2 div.sk-parallel-item::after {content: \"\";width: 100%;border-bottom: 1px solid gray;flex-grow: 1;}#sk-container-id-2 div.sk-label:hover label.sk-toggleable__label {background-color: #d4ebff;}#sk-container-id-2 div.sk-serial::before {content: \"\";position: absolute;border-left: 1px solid gray;box-sizing: border-box;top: 0;bottom: 0;left: 50%;z-index: 0;}#sk-container-id-2 div.sk-serial {display: flex;flex-direction: column;align-items: center;background-color: white;padding-right: 0.2em;padding-left: 0.2em;position: relative;}#sk-container-id-2 div.sk-item {position: relative;z-index: 1;}#sk-container-id-2 div.sk-parallel {display: flex;align-items: stretch;justify-content: center;background-color: white;position: relative;}#sk-container-id-2 div.sk-item::before, #sk-container-id-2 div.sk-parallel-item::before {content: \"\";position: absolute;border-left: 1px solid gray;box-sizing: border-box;top: 0;bottom: 0;left: 50%;z-index: -1;}#sk-container-id-2 div.sk-parallel-item {display: flex;flex-direction: column;z-index: 1;position: relative;background-color: white;}#sk-container-id-2 div.sk-parallel-item:first-child::after {align-self: flex-end;width: 50%;}#sk-container-id-2 div.sk-parallel-item:last-child::after {align-self: flex-start;width: 50%;}#sk-container-id-2 div.sk-parallel-item:only-child::after {width: 0;}#sk-container-id-2 div.sk-dashed-wrapped {border: 1px dashed gray;margin: 0 0.4em 0.5em 0.4em;box-sizing: border-box;padding-bottom: 0.4em;background-color: white;}#sk-container-id-2 div.sk-label label {font-family: monospace;font-weight: bold;display: inline-block;line-height: 1.2em;}#sk-container-id-2 div.sk-label-container {text-align: center;}#sk-container-id-2 div.sk-container {/* jupyter's `normalize.less` sets `[hidden] { display: none; }` but bootstrap.min.css set `[hidden] { display: none !important; }` so we also need the `!important` here to be able to override the default hidden behavior on the sphinx rendered scikit-learn.org. See: https://github.com/scikit-learn/scikit-learn/issues/21755 */display: inline-block !important;position: relative;}#sk-container-id-2 div.sk-text-repr-fallback {display: none;}</style><div id=\"sk-container-id-2\" class=\"sk-top-container\"><div class=\"sk-text-repr-fallback\"><pre>LogisticRegression()</pre><b>In a Jupyter environment, please rerun this cell to show the HTML representation or trust the notebook. <br />On GitHub, the HTML representation is unable to render, please try loading this page with nbviewer.org.</b></div><div class=\"sk-container\" hidden><div class=\"sk-item\"><div class=\"sk-estimator sk-toggleable\"><input class=\"sk-toggleable__control sk-hidden--visually\" id=\"sk-estimator-id-2\" type=\"checkbox\" checked><label for=\"sk-estimator-id-2\" class=\"sk-toggleable__label sk-toggleable__label-arrow\">LogisticRegression</label><div class=\"sk-toggleable__content\"><pre>LogisticRegression()</pre></div></div></div></div></div>"
      ],
      "text/plain": [
       "LogisticRegression()"
      ]
     },
     "execution_count": 11,
     "metadata": {},
     "output_type": "execute_result"
    }
   ],
   "source": [
    "model = LogisticRegression()\n",
    "model.fit(X,y)"
   ]
  },
  {
   "cell_type": "code",
   "execution_count": 17,
   "id": "025e5738-9364-4b42-975b-53a919078c2c",
   "metadata": {},
   "outputs": [],
   "source": [
    "with open('c:\\\\www\\\\app\\\\model.pickle','wb') as f:\n",
    "    pickle.dump(model,f)"
   ]
  },
  {
   "cell_type": "code",
   "execution_count": 26,
   "id": "f3400eaf-312c-44a5-bd45-67cbaa43d0ce",
   "metadata": {},
   "outputs": [
    {
     "data": {
      "text/plain": [
       "array([0])"
      ]
     },
     "execution_count": 26,
     "metadata": {},
     "output_type": "execute_result"
    }
   ],
   "source": [
    "model.predict(X[[0],:])"
   ]
  },
  {
   "cell_type": "code",
   "execution_count": 30,
   "id": "2628ebcf-3f11-4dda-be1e-c165e5d97607",
   "metadata": {},
   "outputs": [
    {
     "data": {
      "text/plain": [
       "['DESCR',\n",
       " 'data',\n",
       " 'data_module',\n",
       " 'feature_names',\n",
       " 'filename',\n",
       " 'frame',\n",
       " 'target',\n",
       " 'target_names']"
      ]
     },
     "execution_count": 30,
     "metadata": {},
     "output_type": "execute_result"
    }
   ],
   "source": [
    "dir(load_iris())"
   ]
  },
  {
   "cell_type": "code",
   "execution_count": 40,
   "id": "dbf74455-ec7d-447b-9b15-5827cbc5788e",
   "metadata": {},
   "outputs": [
    {
     "data": {
      "text/plain": [
       "array(['setosa', 'versicolor', 'virginica'], dtype='<U10')"
      ]
     },
     "execution_count": 40,
     "metadata": {},
     "output_type": "execute_result"
    }
   ],
   "source": [
    "load_iris()['data']\n",
    "load_iris()['target']\n",
    "load_iris()['target_names']\n",
    "load_iris()['feature_names']"
   ]
  },
  {
   "cell_type": "code",
   "execution_count": 42,
   "id": "81d112e2-1195-43ba-b8aa-25e7b3991ca5",
   "metadata": {},
   "outputs": [],
   "source": [
    "import pandas as pd\n",
    "import numpy as np"
   ]
  },
  {
   "cell_type": "code",
   "execution_count": 43,
   "id": "4c09d38b-9e3c-4f28-acc6-733dfc98167b",
   "metadata": {},
   "outputs": [
    {
     "data": {
      "text/html": [
       "<div>\n",
       "<style scoped>\n",
       "    .dataframe tbody tr th:only-of-type {\n",
       "        vertical-align: middle;\n",
       "    }\n",
       "\n",
       "    .dataframe tbody tr th {\n",
       "        vertical-align: top;\n",
       "    }\n",
       "\n",
       "    .dataframe thead th {\n",
       "        text-align: right;\n",
       "    }\n",
       "</style>\n",
       "<table border=\"1\" class=\"dataframe\">\n",
       "  <thead>\n",
       "    <tr style=\"text-align: right;\">\n",
       "      <th></th>\n",
       "      <th>sepal length (cm)</th>\n",
       "      <th>sepal width (cm)</th>\n",
       "      <th>petal length (cm)</th>\n",
       "      <th>petal width (cm)</th>\n",
       "      <th>species</th>\n",
       "    </tr>\n",
       "  </thead>\n",
       "  <tbody>\n",
       "    <tr>\n",
       "      <th>0</th>\n",
       "      <td>5.1</td>\n",
       "      <td>3.5</td>\n",
       "      <td>1.4</td>\n",
       "      <td>0.2</td>\n",
       "      <td>setosa</td>\n",
       "    </tr>\n",
       "    <tr>\n",
       "      <th>1</th>\n",
       "      <td>4.9</td>\n",
       "      <td>3.0</td>\n",
       "      <td>1.4</td>\n",
       "      <td>0.2</td>\n",
       "      <td>setosa</td>\n",
       "    </tr>\n",
       "    <tr>\n",
       "      <th>2</th>\n",
       "      <td>4.7</td>\n",
       "      <td>3.2</td>\n",
       "      <td>1.3</td>\n",
       "      <td>0.2</td>\n",
       "      <td>setosa</td>\n",
       "    </tr>\n",
       "    <tr>\n",
       "      <th>3</th>\n",
       "      <td>4.6</td>\n",
       "      <td>3.1</td>\n",
       "      <td>1.5</td>\n",
       "      <td>0.2</td>\n",
       "      <td>setosa</td>\n",
       "    </tr>\n",
       "    <tr>\n",
       "      <th>4</th>\n",
       "      <td>5.0</td>\n",
       "      <td>3.6</td>\n",
       "      <td>1.4</td>\n",
       "      <td>0.2</td>\n",
       "      <td>setosa</td>\n",
       "    </tr>\n",
       "    <tr>\n",
       "      <th>...</th>\n",
       "      <td>...</td>\n",
       "      <td>...</td>\n",
       "      <td>...</td>\n",
       "      <td>...</td>\n",
       "      <td>...</td>\n",
       "    </tr>\n",
       "    <tr>\n",
       "      <th>145</th>\n",
       "      <td>6.7</td>\n",
       "      <td>3.0</td>\n",
       "      <td>5.2</td>\n",
       "      <td>2.3</td>\n",
       "      <td>virginica</td>\n",
       "    </tr>\n",
       "    <tr>\n",
       "      <th>146</th>\n",
       "      <td>6.3</td>\n",
       "      <td>2.5</td>\n",
       "      <td>5.0</td>\n",
       "      <td>1.9</td>\n",
       "      <td>virginica</td>\n",
       "    </tr>\n",
       "    <tr>\n",
       "      <th>147</th>\n",
       "      <td>6.5</td>\n",
       "      <td>3.0</td>\n",
       "      <td>5.2</td>\n",
       "      <td>2.0</td>\n",
       "      <td>virginica</td>\n",
       "    </tr>\n",
       "    <tr>\n",
       "      <th>148</th>\n",
       "      <td>6.2</td>\n",
       "      <td>3.4</td>\n",
       "      <td>5.4</td>\n",
       "      <td>2.3</td>\n",
       "      <td>virginica</td>\n",
       "    </tr>\n",
       "    <tr>\n",
       "      <th>149</th>\n",
       "      <td>5.9</td>\n",
       "      <td>3.0</td>\n",
       "      <td>5.1</td>\n",
       "      <td>1.8</td>\n",
       "      <td>virginica</td>\n",
       "    </tr>\n",
       "  </tbody>\n",
       "</table>\n",
       "<p>150 rows × 5 columns</p>\n",
       "</div>"
      ],
      "text/plain": [
       "     sepal length (cm)  sepal width (cm)  petal length (cm)  petal width (cm)  \\\n",
       "0                  5.1               3.5                1.4               0.2   \n",
       "1                  4.9               3.0                1.4               0.2   \n",
       "2                  4.7               3.2                1.3               0.2   \n",
       "3                  4.6               3.1                1.5               0.2   \n",
       "4                  5.0               3.6                1.4               0.2   \n",
       "..                 ...               ...                ...               ...   \n",
       "145                6.7               3.0                5.2               2.3   \n",
       "146                6.3               2.5                5.0               1.9   \n",
       "147                6.5               3.0                5.2               2.0   \n",
       "148                6.2               3.4                5.4               2.3   \n",
       "149                5.9               3.0                5.1               1.8   \n",
       "\n",
       "       species  \n",
       "0       setosa  \n",
       "1       setosa  \n",
       "2       setosa  \n",
       "3       setosa  \n",
       "4       setosa  \n",
       "..         ...  \n",
       "145  virginica  \n",
       "146  virginica  \n",
       "147  virginica  \n",
       "148  virginica  \n",
       "149  virginica  \n",
       "\n",
       "[150 rows x 5 columns]"
      ]
     },
     "execution_count": 43,
     "metadata": {},
     "output_type": "execute_result"
    }
   ],
   "source": [
    "iris = pd.DataFrame(load_iris()['data'])\n",
    "iris.columns = load_iris()['feature_names']\n",
    "species = np.where(load_iris()['target'] == 0 ,\n",
    "                   load_iris()['target_names'][0],\n",
    "                  np.where(load_iris()['target']==1,\n",
    "                           load_iris()['target_names'][1],\n",
    "                           load_iris()['target_names'][2]))\n",
    "iris['species'] = species\n",
    "iris"
   ]
  },
  {
   "cell_type": "code",
   "execution_count": 44,
   "id": "235499c4-3b08-443e-a999-edf4fd9dc7f4",
   "metadata": {},
   "outputs": [],
   "source": [
    "sepal_length = 11.3\n",
    "sepal_width = 12.\n",
    "petal_length = 4.1\n",
    "petal_width = 1.3"
   ]
  },
  {
   "cell_type": "code",
   "execution_count": 45,
   "id": "27ef21d5-e4ad-4dbf-ba5f-d44495dfe6a4",
   "metadata": {},
   "outputs": [],
   "source": [
    "x = np.array([sepal_length,sepal_width,petal_length, petal_width]).reshape(1,4)"
   ]
  },
  {
   "cell_type": "code",
   "execution_count": 48,
   "id": "c7a0a0d1-8781-433f-a74a-52a0bfadd02c",
   "metadata": {},
   "outputs": [],
   "source": [
    "x = np.c_[sepal_length,sepal_width,petal_length, petal_width]"
   ]
  },
  {
   "cell_type": "code",
   "execution_count": 51,
   "id": "7db5ca8d-9b40-4769-a6a7-320a0aab3647",
   "metadata": {},
   "outputs": [
    {
     "data": {
      "text/plain": [
       "'setosa'"
      ]
     },
     "execution_count": 51,
     "metadata": {},
     "output_type": "execute_result"
    }
   ],
   "source": [
    "dic = {\n",
    "    0:'setosa',\n",
    "    1:'versicolor',\n",
    "    2:'verginica'\n",
    "}\n",
    "dic.get(model.predict(x)[0])"
   ]
  },
  {
   "cell_type": "code",
   "execution_count": 52,
   "id": "f0d307c9-a8ed-4ad2-b236-eacb082d0232",
   "metadata": {},
   "outputs": [
    {
     "data": {
      "text/html": [
       "<div>\n",
       "<style scoped>\n",
       "    .dataframe tbody tr th:only-of-type {\n",
       "        vertical-align: middle;\n",
       "    }\n",
       "\n",
       "    .dataframe tbody tr th {\n",
       "        vertical-align: top;\n",
       "    }\n",
       "\n",
       "    .dataframe thead th {\n",
       "        text-align: right;\n",
       "    }\n",
       "</style>\n",
       "<table border=\"1\" class=\"dataframe\">\n",
       "  <thead>\n",
       "    <tr style=\"text-align: right;\">\n",
       "      <th></th>\n",
       "      <th>sepal length (cm)</th>\n",
       "      <th>sepal width (cm)</th>\n",
       "      <th>petal length (cm)</th>\n",
       "      <th>petal width (cm)</th>\n",
       "      <th>species</th>\n",
       "    </tr>\n",
       "  </thead>\n",
       "  <tbody>\n",
       "    <tr>\n",
       "      <th>0</th>\n",
       "      <td>5.1</td>\n",
       "      <td>3.5</td>\n",
       "      <td>1.4</td>\n",
       "      <td>0.2</td>\n",
       "      <td>setosa</td>\n",
       "    </tr>\n",
       "    <tr>\n",
       "      <th>1</th>\n",
       "      <td>4.9</td>\n",
       "      <td>3.0</td>\n",
       "      <td>1.4</td>\n",
       "      <td>0.2</td>\n",
       "      <td>setosa</td>\n",
       "    </tr>\n",
       "    <tr>\n",
       "      <th>2</th>\n",
       "      <td>4.7</td>\n",
       "      <td>3.2</td>\n",
       "      <td>1.3</td>\n",
       "      <td>0.2</td>\n",
       "      <td>setosa</td>\n",
       "    </tr>\n",
       "    <tr>\n",
       "      <th>3</th>\n",
       "      <td>4.6</td>\n",
       "      <td>3.1</td>\n",
       "      <td>1.5</td>\n",
       "      <td>0.2</td>\n",
       "      <td>setosa</td>\n",
       "    </tr>\n",
       "    <tr>\n",
       "      <th>4</th>\n",
       "      <td>5.0</td>\n",
       "      <td>3.6</td>\n",
       "      <td>1.4</td>\n",
       "      <td>0.2</td>\n",
       "      <td>setosa</td>\n",
       "    </tr>\n",
       "    <tr>\n",
       "      <th>...</th>\n",
       "      <td>...</td>\n",
       "      <td>...</td>\n",
       "      <td>...</td>\n",
       "      <td>...</td>\n",
       "      <td>...</td>\n",
       "    </tr>\n",
       "    <tr>\n",
       "      <th>145</th>\n",
       "      <td>6.7</td>\n",
       "      <td>3.0</td>\n",
       "      <td>5.2</td>\n",
       "      <td>2.3</td>\n",
       "      <td>virginica</td>\n",
       "    </tr>\n",
       "    <tr>\n",
       "      <th>146</th>\n",
       "      <td>6.3</td>\n",
       "      <td>2.5</td>\n",
       "      <td>5.0</td>\n",
       "      <td>1.9</td>\n",
       "      <td>virginica</td>\n",
       "    </tr>\n",
       "    <tr>\n",
       "      <th>147</th>\n",
       "      <td>6.5</td>\n",
       "      <td>3.0</td>\n",
       "      <td>5.2</td>\n",
       "      <td>2.0</td>\n",
       "      <td>virginica</td>\n",
       "    </tr>\n",
       "    <tr>\n",
       "      <th>148</th>\n",
       "      <td>6.2</td>\n",
       "      <td>3.4</td>\n",
       "      <td>5.4</td>\n",
       "      <td>2.3</td>\n",
       "      <td>virginica</td>\n",
       "    </tr>\n",
       "    <tr>\n",
       "      <th>149</th>\n",
       "      <td>5.9</td>\n",
       "      <td>3.0</td>\n",
       "      <td>5.1</td>\n",
       "      <td>1.8</td>\n",
       "      <td>virginica</td>\n",
       "    </tr>\n",
       "  </tbody>\n",
       "</table>\n",
       "<p>150 rows × 5 columns</p>\n",
       "</div>"
      ],
      "text/plain": [
       "     sepal length (cm)  sepal width (cm)  petal length (cm)  petal width (cm)  \\\n",
       "0                  5.1               3.5                1.4               0.2   \n",
       "1                  4.9               3.0                1.4               0.2   \n",
       "2                  4.7               3.2                1.3               0.2   \n",
       "3                  4.6               3.1                1.5               0.2   \n",
       "4                  5.0               3.6                1.4               0.2   \n",
       "..                 ...               ...                ...               ...   \n",
       "145                6.7               3.0                5.2               2.3   \n",
       "146                6.3               2.5                5.0               1.9   \n",
       "147                6.5               3.0                5.2               2.0   \n",
       "148                6.2               3.4                5.4               2.3   \n",
       "149                5.9               3.0                5.1               1.8   \n",
       "\n",
       "       species  \n",
       "0       setosa  \n",
       "1       setosa  \n",
       "2       setosa  \n",
       "3       setosa  \n",
       "4       setosa  \n",
       "..         ...  \n",
       "145  virginica  \n",
       "146  virginica  \n",
       "147  virginica  \n",
       "148  virginica  \n",
       "149  virginica  \n",
       "\n",
       "[150 rows x 5 columns]"
      ]
     },
     "execution_count": 52,
     "metadata": {},
     "output_type": "execute_result"
    }
   ],
   "source": [
    "iris"
   ]
  },
  {
   "cell_type": "code",
   "execution_count": 56,
   "id": "f8e68ac3-be3e-43ed-93ad-84c0c85b0c5c",
   "metadata": {},
   "outputs": [
    {
     "data": {
      "text/plain": [
       "array([[-0.41818901,  0.96645217, -2.52141211, -1.08403071],\n",
       "       [ 0.5310516 , -0.3144877 , -0.19929206, -0.94917354],\n",
       "       [-0.11286259, -0.65196448,  2.72070416,  2.03320425]])"
      ]
     },
     "execution_count": 56,
     "metadata": {},
     "output_type": "execute_result"
    }
   ],
   "source": [
    "model.intercept_\n",
    "model.coef_"
   ]
  },
  {
   "cell_type": "code",
   "execution_count": 57,
   "id": "a4a6e71a-6d4d-4c80-94d2-b9703b44c399",
   "metadata": {},
   "outputs": [
    {
     "data": {
      "text/plain": [
       "array([  9.83927868,   2.21472606, -12.05400473])"
      ]
     },
     "execution_count": 57,
     "metadata": {},
     "output_type": "execute_result"
    }
   ],
   "source": [
    "model.intercept_"
   ]
  },
  {
   "cell_type": "code",
   "execution_count": 63,
   "id": "e74812a8-7003-44b8-bb63-5f3e4b686cd0",
   "metadata": {},
   "outputs": [
    {
     "data": {
      "text/plain": [
       "0.9733333333333334"
      ]
     },
     "execution_count": 63,
     "metadata": {},
     "output_type": "execute_result"
    }
   ],
   "source": [
    "sum(np.argmax(np.dot(X,model.coef_.T)+model.intercept_,axis=1) == y)/y.size"
   ]
  },
  {
   "cell_type": "code",
   "execution_count": 75,
   "id": "91d0d405-0075-42a7-a87b-4732bc8844a0",
   "metadata": {},
   "outputs": [
    {
     "data": {
      "text/plain": [
       "0"
      ]
     },
     "execution_count": 75,
     "metadata": {},
     "output_type": "execute_result"
    }
   ],
   "source": [
    "np.argmax(np.dot(X[[0],:],model.coef_.T)+model.intercept_)"
   ]
  },
  {
   "cell_type": "code",
   "execution_count": 64,
   "id": "721de975-bc10-470f-9cfb-2260174c8641",
   "metadata": {},
   "outputs": [
    {
     "data": {
      "text/plain": [
       "0.9733333333333334"
      ]
     },
     "execution_count": 64,
     "metadata": {},
     "output_type": "execute_result"
    }
   ],
   "source": [
    "model.score(X,y)"
   ]
  },
  {
   "cell_type": "code",
   "execution_count": 67,
   "id": "5113b316-359a-492d-b9fc-af92633a4e23",
   "metadata": {},
   "outputs": [
    {
     "ename": "AttributeError",
     "evalue": "'numpy.ndarray' object has no attribute 'save'",
     "output_type": "error",
     "traceback": [
      "\u001b[1;31m---------------------------------------------------------------------------\u001b[0m",
      "\u001b[1;31mAttributeError\u001b[0m                            Traceback (most recent call last)",
      "Cell \u001b[1;32mIn[67], line 1\u001b[0m\n\u001b[1;32m----> 1\u001b[0m \u001b[43mmodel\u001b[49m\u001b[38;5;241;43m.\u001b[39;49m\u001b[43mcoef_\u001b[49m\u001b[38;5;241;43m.\u001b[39;49m\u001b[43mT\u001b[49m\u001b[38;5;241;43m.\u001b[39;49m\u001b[43msave\u001b[49m(\u001b[38;5;124m'\u001b[39m\u001b[38;5;124mcoef.npy\u001b[39m\u001b[38;5;124m'\u001b[39m)\n",
      "\u001b[1;31mAttributeError\u001b[0m: 'numpy.ndarray' object has no attribute 'save'"
     ]
    }
   ],
   "source": [
    "model.coef_.T.save('coef.npy')"
   ]
  },
  {
   "cell_type": "code",
   "execution_count": 69,
   "id": "dd1d3df6-db1f-4e9e-8fb9-51f2d35763f5",
   "metadata": {},
   "outputs": [],
   "source": [
    "np.save('../www/app/coef.npy',model.coef_.T)\n",
    "np.save('../www/app/intercept.npy',model.intercept_)"
   ]
  },
  {
   "cell_type": "code",
   "execution_count": 70,
   "id": "118ea82c-53cc-4833-995d-5889eca82583",
   "metadata": {},
   "outputs": [],
   "source": [
    "np.save('coef.npy',model.coef_.T)\n"
   ]
  },
  {
   "cell_type": "code",
   "execution_count": 71,
   "id": "e7906654-1782-4e7a-bc1a-b93820029f90",
   "metadata": {},
   "outputs": [],
   "source": [
    "xx  = np.load('coef.npy')"
   ]
  },
  {
   "cell_type": "code",
   "execution_count": 72,
   "id": "db06e224-105f-46a7-bc6f-264dc0ae228d",
   "metadata": {},
   "outputs": [
    {
     "data": {
      "text/plain": [
       "array([[-0.41818901,  0.5310516 , -0.11286259],\n",
       "       [ 0.96645217, -0.3144877 , -0.65196448],\n",
       "       [-2.52141211, -0.19929206,  2.72070416],\n",
       "       [-1.08403071, -0.94917354,  2.03320425]])"
      ]
     },
     "execution_count": 72,
     "metadata": {},
     "output_type": "execute_result"
    }
   ],
   "source": [
    "xx"
   ]
  },
  {
   "cell_type": "code",
   "execution_count": 78,
   "id": "60894f0a-d694-4908-88bf-2fd4e7fe0c73",
   "metadata": {},
   "outputs": [],
   "source": [
    "rng = np.random.RandomState(seed=100)\n",
    "\n",
    "x = rng.chisquare(1000)"
   ]
  },
  {
   "cell_type": "markdown",
   "id": "7536c660-a088-46f9-bdb3-ab164249f1f7",
   "metadata": {
    "tags": []
   },
   "source": [
    "The variable obtained by summing the squares of `df` independent,\n",
    "standard normally distributed random variables:\n",
    "\n",
    ".. math:: Q = \\sum_{i=0}^{\\mathtt{df}} X^2_i\n",
    "\n",
    "is chi-square distributed, denoted\n",
    "\n",
    ".. math:: Q \\sim \\chi^2_k.\n",
    "\n",
    "The probability density function of the chi-squared distribution is\n",
    "\n",
    ".. math:: p(x) = \\frac{(1/2)^{k/2}}{\\Gamma(k/2)}\n",
    "                 x^{k/2 - 1} e^{-x/2},\n",
    "\n",
    "where :math:`\\Gamma` is the gamma function,\n",
    "\n",
    ".. math:: \\Gamma(x) = \\int_0^{-\\infty} t^{x - 1} e^{-t} dt."
   ]
  },
  {
   "cell_type": "markdown",
   "id": "6aeb61a9-fd31-4619-9773-4db74a1222bf",
   "metadata": {},
   "source": [
    "\n",
    ".. math:: Q = \\sum_{i=0}^{\\mathtt{df}} X^2_i\n",
    "\n",
    "is chi-square distributed, denoted\n",
    "\n",
    ".. math:: Q \\sim \\chi^2_k.\n",
    "\n",
    "The probability density function of the chi-squared distribution is\n",
    "\n",
    ".. math:: p(x) = \\frac{(1/2)^{k/2}}{\\Gamma(k/2)}\n",
    "                 x^{k/2 - 1} e^{-x/2},\n",
    "\n",
    "where :math:`\\Gamma` is the gamma function,\n",
    "\n",
    ".. math:: \\Gamma(x) = \\int_0^{-\\infty} t^{x - 1} e^{-t} dt."
   ]
  },
  {
   "cell_type": "code",
   "execution_count": 88,
   "id": "77fd2769-0b91-457b-9a2f-e6793b30a51a",
   "metadata": {},
   "outputs": [],
   "source": [
    "x = rng.chisquare(np.linspace(1,10,10000),size=10000)"
   ]
  },
  {
   "cell_type": "code",
   "execution_count": 89,
   "id": "cf065e07-78f9-485f-a9a6-e4e480966f8a",
   "metadata": {},
   "outputs": [
    {
     "data": {
      "text/plain": [
       "(array([410., 359., 335., 312., 356., 346., 303., 360., 332., 344., 341.,\n",
       "        310., 313., 305., 284., 336., 280., 299., 280., 239., 244., 242.,\n",
       "        232., 222., 216., 190., 165., 152., 136., 141., 139., 124., 127.,\n",
       "         96., 111.,  84.,  84.,  77.,  77.,  61.,  49.,  53.,  35.,  48.,\n",
       "         41.,  41.,  36.,  47.,  24.,  23.,  21.,  20.,  15.,  22.,  19.,\n",
       "         16.,  17.,  14.,   9.,  10.,   4.,   6.,   6.,   5.,   4.,   7.,\n",
       "          1.,   4.,   5.,   2.,   3.,   2.,   4.,   1.,   2.,   2.,   6.,\n",
       "          1.,   0.,   0.,   1.,   0.,   1.,   0.,   3.,   0.,   2.,   0.,\n",
       "          0.,   2.,   1.,   0.,   0.,   0.,   0.,   0.,   0.,   0.,   0.,\n",
       "          1.]),\n",
       " array([2.59459726e-04, 3.17281918e-01, 6.34304376e-01, 9.51326834e-01,\n",
       "        1.26834929e+00, 1.58537175e+00, 1.90239421e+00, 2.21941667e+00,\n",
       "        2.53643912e+00, 2.85346158e+00, 3.17048404e+00, 3.48750650e+00,\n",
       "        3.80452896e+00, 4.12155142e+00, 4.43857387e+00, 4.75559633e+00,\n",
       "        5.07261879e+00, 5.38964125e+00, 5.70666371e+00, 6.02368616e+00,\n",
       "        6.34070862e+00, 6.65773108e+00, 6.97475354e+00, 7.29177600e+00,\n",
       "        7.60879845e+00, 7.92582091e+00, 8.24284337e+00, 8.55986583e+00,\n",
       "        8.87688829e+00, 9.19391074e+00, 9.51093320e+00, 9.82795566e+00,\n",
       "        1.01449781e+01, 1.04620006e+01, 1.07790230e+01, 1.10960455e+01,\n",
       "        1.14130680e+01, 1.17300904e+01, 1.20471129e+01, 1.23641353e+01,\n",
       "        1.26811578e+01, 1.29981802e+01, 1.33152027e+01, 1.36322252e+01,\n",
       "        1.39492476e+01, 1.42662701e+01, 1.45832925e+01, 1.49003150e+01,\n",
       "        1.52173374e+01, 1.55343599e+01, 1.58513824e+01, 1.61684048e+01,\n",
       "        1.64854273e+01, 1.68024497e+01, 1.71194722e+01, 1.74364947e+01,\n",
       "        1.77535171e+01, 1.80705396e+01, 1.83875620e+01, 1.87045845e+01,\n",
       "        1.90216069e+01, 1.93386294e+01, 1.96556519e+01, 1.99726743e+01,\n",
       "        2.02896968e+01, 2.06067192e+01, 2.09237417e+01, 2.12407642e+01,\n",
       "        2.15577866e+01, 2.18748091e+01, 2.21918315e+01, 2.25088540e+01,\n",
       "        2.28258764e+01, 2.31428989e+01, 2.34599214e+01, 2.37769438e+01,\n",
       "        2.40939663e+01, 2.44109887e+01, 2.47280112e+01, 2.50450336e+01,\n",
       "        2.53620561e+01, 2.56790786e+01, 2.59961010e+01, 2.63131235e+01,\n",
       "        2.66301459e+01, 2.69471684e+01, 2.72641909e+01, 2.75812133e+01,\n",
       "        2.78982358e+01, 2.82152582e+01, 2.85322807e+01, 2.88493031e+01,\n",
       "        2.91663256e+01, 2.94833481e+01, 2.98003705e+01, 3.01173930e+01,\n",
       "        3.04344154e+01, 3.07514379e+01, 3.10684604e+01, 3.13854828e+01,\n",
       "        3.17025053e+01]),\n",
       " <BarContainer object of 100 artists>)"
      ]
     },
     "execution_count": 89,
     "metadata": {},
     "output_type": "execute_result"
    },
    {
     "data": {
      "image/png": "[encoded data removed]",
      "text/plain": [
       "<Figure size 640x480 with 1 Axes>"
      ]
     },
     "metadata": {},
     "output_type": "display_data"
    }
   ],
   "source": [
    "import matplotlib.pyplot as plt\n",
    "plt.hist(x,bins=100)"
   ]
  },
  {
   "cell_type": "code",
   "execution_count": 93,
   "id": "7af75712-698f-4e03-9d29-cd22223852d3",
   "metadata": {},
   "outputs": [],
   "source": [
    "mean_list = []\n",
    "for _ in range(1000):\n",
    "    mean_list.append(np.mean(np.random.choice(x,100)))"
   ]
  },
  {
   "cell_type": "code",
   "execution_count": 95,
   "id": "066556e2-541e-4220-a58b-2851d5f9db49",
   "metadata": {},
   "outputs": [
    {
     "data": {
      "text/plain": [
       "(array([ 1.,  2.,  0.,  1.,  7.,  7., 13., 19., 37., 45., 78., 68., 71.,\n",
       "        83., 97., 81., 78., 67., 51., 46., 49., 23., 34., 18.,  8.,  8.,\n",
       "         5.,  0.,  2.,  1.]),\n",
       " array([4.13015894, 4.22323434, 4.31630975, 4.40938515, 4.50246056,\n",
       "        4.59553596, 4.68861137, 4.78168677, 4.87476218, 4.96783758,\n",
       "        5.06091299, 5.15398839, 5.24706379, 5.3401392 , 5.4332146 ,\n",
       "        5.52629001, 5.61936541, 5.71244082, 5.80551622, 5.89859163,\n",
       "        5.99166703, 6.08474244, 6.17781784, 6.27089324, 6.36396865,\n",
       "        6.45704405, 6.55011946, 6.64319486, 6.73627027, 6.82934567,\n",
       "        6.92242108]),\n",
       " <BarContainer object of 30 artists>)"
      ]
     },
     "execution_count": 95,
     "metadata": {},
     "output_type": "execute_result"
    },
    {
     "data": {
      "image/png": "[encoded data removed]",
      "text/plain": [
       "<Figure size 640x480 with 1 Axes>"
      ]
     },
     "metadata": {},
     "output_type": "display_data"
    }
   ],
   "source": [
    "plt.hist(mean_list,bins=30)"
   ]
  },
  {
   "cell_type": "code",
   "execution_count": 102,
   "id": "97763efe-a3d4-42c8-86e7-dd4f7acbaab6",
   "metadata": {},
   "outputs": [],
   "source": [
    "x = np.random.uniform(1,7,10000)"
   ]
  },
  {
   "cell_type": "code",
   "execution_count": 104,
   "id": "44eaf8de-79f8-43df-a21f-5083a5743326",
   "metadata": {},
   "outputs": [
    {
     "data": {
      "text/plain": [
       "(array([192., 201., 209., 215., 210., 204., 170., 211., 187., 202., 205.,\n",
       "        204., 207., 244., 190., 198., 197., 190., 189., 205., 200., 208.,\n",
       "        204., 200., 204., 215., 213., 193., 185., 231., 197., 213., 206.,\n",
       "        203., 189., 188., 187., 215., 180., 203., 199., 170., 219., 189.,\n",
       "        185., 233., 179., 194., 187., 181.]),\n",
       " array([1.00062051, 1.12060512, 1.24058974, 1.36057435, 1.48055896,\n",
       "        1.60054358, 1.72052819, 1.84051281, 1.96049742, 2.08048203,\n",
       "        2.20046665, 2.32045126, 2.44043588, 2.56042049, 2.68040511,\n",
       "        2.80038972, 2.92037433, 3.04035895, 3.16034356, 3.28032818,\n",
       "        3.40031279, 3.5202974 , 3.64028202, 3.76026663, 3.88025125,\n",
       "        4.00023586, 4.12022047, 4.24020509, 4.3601897 , 4.48017432,\n",
       "        4.60015893, 4.72014355, 4.84012816, 4.96011277, 5.08009739,\n",
       "        5.200082  , 5.32006662, 5.44005123, 5.56003584, 5.68002046,\n",
       "        5.80000507, 5.91998969, 6.0399743 , 6.15995891, 6.27994353,\n",
       "        6.39992814, 6.51991276, 6.63989737, 6.75988199, 6.8798666 ,\n",
       "        6.99985121]),\n",
       " <BarContainer object of 50 artists>)"
      ]
     },
     "execution_count": 104,
     "metadata": {},
     "output_type": "execute_result"
    },
    {
     "data": {
      "image/png": "[encoded data removed]",
      "text/plain": [
       "<Figure size 640x480 with 1 Axes>"
      ]
     },
     "metadata": {},
     "output_type": "display_data"
    }
   ],
   "source": [
    "plt.hist(x,bins=50)"
   ]
  },
  {
   "cell_type": "code",
   "execution_count": 108,
   "id": "c7cc382a-e053-4695-b76e-d80ef0f958f8",
   "metadata": {},
   "outputs": [],
   "source": [
    "mean_list = []\n",
    "for _ in range(1000):\n",
    "    mean_list.append(np.mean(np.random.choice(x,100)))"
   ]
  },
  {
   "cell_type": "code",
   "execution_count": 109,
   "id": "7b0ef484-bcaa-4438-82db-a4918a92c410",
   "metadata": {},
   "outputs": [
    {
     "data": {
      "text/plain": [
       "(array([ 1.,  0.,  1.,  0.,  4.,  0.,  0.,  2.,  0.,  6.,  1.,  1.,  1.,\n",
       "         4.,  3.,  4., 10.,  3.,  6.,  2.,  9.,  5.,  7.,  7., 11., 16.,\n",
       "        17., 18., 26., 17., 20., 19., 18., 22., 17., 26., 21., 30., 29.,\n",
       "        36., 33., 17., 34., 24., 22., 31., 24., 22., 36., 21., 30., 18.,\n",
       "        22., 21., 26., 17., 25., 14., 12., 14., 13.,  9., 11., 10., 11.,\n",
       "         9.,  8.,  5.,  4.,  6.,  6.,  1.,  4.,  3.,  1.,  3.,  3.,  1.,\n",
       "         0.,  3.,  1.,  0.,  1.,  1.,  0.,  1.,  1.,  0.,  0.,  0.,  0.,\n",
       "         0.,  0.,  0.,  0.,  0.,  0.,  0.,  0.,  1.]),\n",
       " array([3.4341743 , 3.44647951, 3.45878473, 3.47108995, 3.48339517,\n",
       "        3.49570039, 3.50800561, 3.52031083, 3.53261605, 3.54492127,\n",
       "        3.55722649, 3.56953171, 3.58183693, 3.59414215, 3.60644737,\n",
       "        3.61875259, 3.63105781, 3.64336303, 3.65566824, 3.66797346,\n",
       "        3.68027868, 3.6925839 , 3.70488912, 3.71719434, 3.72949956,\n",
       "        3.74180478, 3.75411   , 3.76641522, 3.77872044, 3.79102566,\n",
       "        3.80333088, 3.8156361 , 3.82794132, 3.84024654, 3.85255175,\n",
       "        3.86485697, 3.87716219, 3.88946741, 3.90177263, 3.91407785,\n",
       "        3.92638307, 3.93868829, 3.95099351, 3.96329873, 3.97560395,\n",
       "        3.98790917, 4.00021439, 4.01251961, 4.02482483, 4.03713005,\n",
       "        4.04943526, 4.06174048, 4.0740457 , 4.08635092, 4.09865614,\n",
       "        4.11096136, 4.12326658, 4.1355718 , 4.14787702, 4.16018224,\n",
       "        4.17248746, 4.18479268, 4.1970979 , 4.20940312, 4.22170834,\n",
       "        4.23401356, 4.24631878, 4.25862399, 4.27092921, 4.28323443,\n",
       "        4.29553965, 4.30784487, 4.32015009, 4.33245531, 4.34476053,\n",
       "        4.35706575, 4.36937097, 4.38167619, 4.39398141, 4.40628663,\n",
       "        4.41859185, 4.43089707, 4.44320229, 4.4555075 , 4.46781272,\n",
       "        4.48011794, 4.49242316, 4.50472838, 4.5170336 , 4.52933882,\n",
       "        4.54164404, 4.55394926, 4.56625448, 4.5785597 , 4.59086492,\n",
       "        4.60317014, 4.61547536, 4.62778058, 4.6400858 , 4.65239101,\n",
       "        4.66469623]),\n",
       " <BarContainer object of 100 artists>)"
      ]
     },
     "execution_count": 109,
     "metadata": {},
     "output_type": "execute_result"
    },
    {
     "data": {
      "image/png": "[encoded data removed]",
      "text/plain": [
       "<Figure size 640x480 with 1 Axes>"
      ]
     },
     "metadata": {},
     "output_type": "display_data"
    }
   ],
   "source": [
    "plt.hist(mean_list,bins=100)"
   ]
  },
  {
   "cell_type": "code",
   "execution_count": null,
   "id": "75295858-65bf-4c6f-99fa-3d87ea2fde73",
   "metadata": {},
   "outputs": [],
   "source": []
  }
 ],
 "metadata": {
  "kernelspec": {
   "display_name": "bteam",
   "language": "python",
   "name": "bteam"
  },
  "language_info": {
   "codemirror_mode": {
    "name": "ipython",
    "version": 3
   },
   "file_extension": ".py",
   "mimetype": "text/x-python",
   "name": "python",
   "nbconvert_exporter": "python",
   "pygments_lexer": "ipython3",
   "version": "3.9.16"
  }
 },
 "nbformat": 4,
 "nbformat_minor": 5
}
