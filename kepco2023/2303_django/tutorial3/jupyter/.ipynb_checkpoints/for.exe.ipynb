{
 "cells": [
  {
   "cell_type": "markdown",
   "id": "08c47c41",
   "metadata": {},
   "source": [
    "# 행렬 데이터 형태 생성"
   ]
  },
  {
   "cell_type": "code",
   "execution_count": 8,
   "id": "08b14f84",
   "metadata": {},
   "outputs": [
    {
     "data": {
      "text/plain": [
       "dict_items([('col_nm1', 'a01'), ('col_nm2', 'b02'), ('col_nm3', 100)])"
      ]
     },
     "execution_count": 8,
     "metadata": {},
     "output_type": "execute_result"
    }
   ],
   "source": [
    "# 한 행에 컬럼의 데이터 형태 만들기\n",
    "cols = {\"col_nm1\":\"a01\", \"col_nm2\":\"b02\", \"col_nm3\":100}\n",
    "\n",
    "cols['col_nm2']\n",
    "cols.keys()\n",
    "cols.values()\n",
    "cols.items()"
   ]
  },
  {
   "cell_type": "code",
   "execution_count": 11,
   "id": "c48df331",
   "metadata": {},
   "outputs": [
    {
     "name": "stdout",
     "output_type": "stream",
     "text": [
      "a01\n",
      "b02\n",
      "100\n"
     ]
    }
   ],
   "source": [
    "# for문을 이용해서 값을 모두 출력해주자.\n",
    "\n",
    "for i in cols.values():\n",
    "    print(i)"
   ]
  },
  {
   "cell_type": "code",
   "execution_count": 14,
   "id": "542952ca",
   "metadata": {},
   "outputs": [
    {
     "name": "stdout",
     "output_type": "stream",
     "text": [
      "key[col_nm1]=value[a01]\n",
      "key[col_nm2]=value[b02]\n",
      "key[col_nm3]=value[100]\n"
     ]
    }
   ],
   "source": [
    "#cols 만 써주면 default로 받는 값은 key값\n",
    "for k in cols:\n",
    "    print(\"key[{}]=value[{}]\".format(k, cols[k]))"
   ]
  },
  {
   "cell_type": "code",
   "execution_count": 16,
   "id": "8afd98aa",
   "metadata": {},
   "outputs": [
    {
     "name": "stdout",
     "output_type": "stream",
     "text": [
      "value[a01]\n",
      "value[b02]\n",
      "value[100]\n"
     ]
    }
   ],
   "source": [
    "for l in cols.values():\n",
    "    print(\"value[{}]\".format(l))"
   ]
  },
  {
   "cell_type": "code",
   "execution_count": 18,
   "id": "1d2fe98c",
   "metadata": {},
   "outputs": [
    {
     "name": "stdout",
     "output_type": "stream",
     "text": [
      "key[col_nm1]=value[a01]\n",
      "key[col_nm2]=value[b02]\n",
      "key[col_nm3]=value[100]\n"
     ]
    }
   ],
   "source": [
    "#items() : zip 방식(묶어서)으로 넘겨준다.\n",
    "for m,n in cols.items():\n",
    "    print(\"key[{}]=value[{}]\".format(m,n))"
   ]
  },
  {
   "cell_type": "markdown",
   "id": "960b1590",
   "metadata": {},
   "source": [
    "for 문 2가지 방식\n",
    "1. range\n",
    "2. 값"
   ]
  },
  {
   "cell_type": "code",
   "execution_count": 28,
   "id": "c252d189",
   "metadata": {},
   "outputs": [],
   "source": [
    "#리스트 변수 생성 : temp_list\n",
    "#cols의 값들만 리스트 변수에 넣어주자.\n",
    "#넣은 후 for문을 이용해 출력하자.\n",
    "#리스트 데이터 출력은 인덱스 번호를 이용한 방식과, 값을 이용한 방식 두 가지로"
   ]
  },
  {
   "cell_type": "code",
   "execution_count": 25,
   "id": "3f40276b",
   "metadata": {},
   "outputs": [
    {
     "name": "stdout",
     "output_type": "stream",
     "text": [
      "a01\n",
      "b02\n",
      "100\n"
     ]
    }
   ],
   "source": [
    "temp_list=[]\n",
    "for i in cols.values():\n",
    "    temp_list.append(i)\n",
    "for k in range(len(temp_list)):\n",
    "    print(temp_list[k])"
   ]
  },
  {
   "cell_type": "code",
   "execution_count": 27,
   "id": "afbaec68",
   "metadata": {},
   "outputs": [
    {
     "name": "stdout",
     "output_type": "stream",
     "text": [
      "a01\n",
      "b02\n",
      "100\n"
     ]
    }
   ],
   "source": [
    "temp_list=[]\n",
    "for m in cols.values():\n",
    "    temp_list.append(m)\n",
    "for n in temp_list:\n",
    "    print(n)"
   ]
  },
  {
   "cell_type": "code",
   "execution_count": 54,
   "id": "09fcba15",
   "metadata": {
    "scrolled": false
   },
   "outputs": [
    {
     "name": "stdout",
     "output_type": "stream",
     "text": [
      "a01 pw01\n",
      "b02 pw02\n",
      "c03 pw03\n"
     ]
    }
   ],
   "source": [
    "# 아래 각 행의 값은 딕셔너리의 값들이다.\n",
    "# -key =>id, pw\n",
    "# -아래처럼 행렬로 출력될 수 있도록 형태를 만들어 출력해보자.\n",
    "# a01 pw01\n",
    "# b02 pw02\n",
    "# c03 pw03\n",
    "# cols = {\"a01\":\"pw01\", \"b02\":\"pw02\", \"c03\":\"pw03\"}\n",
    "col1={\"id\":\"a01\", \"pw\":\"pw01\"}\n",
    "col2={\"id\":\"b02\", \"pw\":\"pw02\"}\n",
    "col3={\"id\":\"c03\", \"pw\":\"pw03\"}\n",
    "\n",
    "cols=[col1, col2, col3]\n",
    "for col in (cols):\n",
    "    print(col[\"id\"], col[\"pw\"])"
   ]
  }
 ],
 "metadata": {
  "kernelspec": {
   "display_name": "venv_django_kernel",
   "language": "python",
   "name": "venv_django"
  },
  "language_info": {
   "codemirror_mode": {
    "name": "ipython",
    "version": 3
   },
   "file_extension": ".py",
   "mimetype": "text/x-python",
   "name": "python",
   "nbconvert_exporter": "python",
   "pygments_lexer": "ipython3",
   "version": "3.11.1"
  }
 },
 "nbformat": 4,
 "nbformat_minor": 5
}
