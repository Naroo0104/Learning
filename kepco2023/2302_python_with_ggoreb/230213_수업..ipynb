{
 "cells": [
  {
   "cell_type": "code",
   "execution_count": 19,
   "id": "3b9f4b45",
   "metadata": {},
   "outputs": [
    {
     "name": "stdout",
     "output_type": "stream",
     "text": [
      "개수 : 19\n",
      "개수 : 19\n",
      "개수 : 19\n",
      "개수 : 19\n",
      "개수 : 19\n"
     ]
    }
   ],
   "source": [
    "count=0\n",
    "for i in range(1,101):\n",
    "    if '3' in str(i):\n",
    "    #포함돼 있는 것을 알기 쉽다 'in'\n",
    "        count += 1\n",
    "print('개수 :', count)\n",
    "print('개수 : '+str(count))\n",
    "print('개수 : %s' % count)    #formatting: 어느 자리에 뭐 넣는지 알기 쉽다\n",
    "print(f'개수 : {count}')\n",
    "print('개수 : {0}'.format(count))"
   ]
  },
  {
   "cell_type": "code",
   "execution_count": 15,
   "id": "e0287875",
   "metadata": {},
   "outputs": [
    {
     "data": {
      "text/plain": [
       "0"
      ]
     },
     "execution_count": 15,
     "metadata": {},
     "output_type": "execute_result"
    }
   ],
   "source": [
    "list('3'),list('33') \n",
    "\n",
    "#list는 count 기능이 있음\n",
    "#count\n",
    "['3','3'].count('3')\n",
    "['3','1'].count('3')\n",
    "list('33').count('3')\n",
    "list('1').count('3')"
   ]
  },
  {
   "cell_type": "code",
   "execution_count": 17,
   "id": "55dc484f",
   "metadata": {},
   "outputs": [
    {
     "name": "stdout",
     "output_type": "stream",
     "text": [
      "개수 : 20\n"
     ]
    }
   ],
   "source": [
    "count=0\n",
    "for i in range(1,101):\n",
    "    count += list(str(i)).count('3')\n",
    "print('개수 :', count)"
   ]
  },
  {
   "cell_type": "code",
   "execution_count": 20,
   "id": "2e8bbc7b",
   "metadata": {},
   "outputs": [
    {
     "name": "stdout",
     "output_type": "stream",
     "text": [
      "개수 : 20\n"
     ]
    }
   ],
   "source": [
    "#한번에 떠올리기 어려우면 변수설정\n",
    "count=0\n",
    "for i in range(1,101):\n",
    "    문자=str(i)\n",
    "    리스트=list(문자)\n",
    "    개수=리스트.count('3') #아스키코드\n",
    "    count += 개수\n",
    "print('개수 :', count)"
   ]
  },
  {
   "cell_type": "markdown",
   "id": "34b27d2e",
   "metadata": {},
   "source": [
    "요약: 개수 셀 때는 문자로 바꿔서 센다는 것 "
   ]
  },
  {
   "cell_type": "code",
   "execution_count": 1,
   "id": "ed2e6a85",
   "metadata": {},
   "outputs": [],
   "source": [
    "import requests\n",
    "res=requests.get('http://ggoreb.com/quiz/소나기.txt')\n",
    "res.encoding=None #이걸 하면 한글 안 깨짐  None 안 되면 'utf8' 이나 'ms949'\n",
    "text=res.text"
   ]
  },
  {
   "cell_type": "code",
   "execution_count": 26,
   "id": "74386c8b",
   "metadata": {},
   "outputs": [
    {
     "data": {
      "text/plain": [
       "3440"
      ]
     },
     "execution_count": 26,
     "metadata": {},
     "output_type": "execute_result"
    }
   ],
   "source": [
    "text.find('칡') #문자에선 find>index 왜냐하면 idx는 못 찾으면 error msg 내보냄. "
   ]
  },
  {
   "cell_type": "code",
   "execution_count": 28,
   "id": "795c57c0",
   "metadata": {},
   "outputs": [
    {
     "ename": "ValueError",
     "evalue": "substring not found",
     "output_type": "error",
     "traceback": [
      "\u001b[1;31m---------------------------------------------------------------------------\u001b[0m",
      "\u001b[1;31mValueError\u001b[0m                                Traceback (most recent call last)",
      "Cell \u001b[1;32mIn[28], line 1\u001b[0m\n\u001b[1;32m----> 1\u001b[0m \u001b[43mtext\u001b[49m\u001b[38;5;241;43m.\u001b[39;49m\u001b[43mindex\u001b[49m\u001b[43m(\u001b[49m\u001b[38;5;124;43m'\u001b[39;49m\u001b[38;5;124;43m칡2\u001b[39;49m\u001b[38;5;124;43m'\u001b[39;49m\u001b[43m)\u001b[49m\n",
      "\u001b[1;31mValueError\u001b[0m: substring not found"
     ]
    }
   ],
   "source": [
    "text.index('칡2')"
   ]
  },
  {
   "cell_type": "code",
   "execution_count": 3,
   "id": "75a4306a",
   "metadata": {},
   "outputs": [
    {
     "name": "stdout",
     "output_type": "stream",
     "text": [
      "칡덩굴이 엉키어 꽃을 달고 있었다.\n",
      "칡덩굴을 그러쥐었다.\n",
      "칡덩굴 있는 데로 내려가, 꽃많이 달린 몇 줄기를 이빨로 끊어 가지고 올라온다.\n"
     ]
    }
   ],
   "source": [
    "start=0\n",
    "while True:\n",
    "    start=text.find('칡',start)\n",
    "    period=text.find('.',start)\n",
    "    if start==-1: break\n",
    "    print(text[start:period+1].replace('\\n',''))\n",
    "    start += 1\n",
    "    \n",
    "#반복문 안에 \n",
    "#1.변수설정 2.끝날 지점 3.출력 4.반복을 위한 변홧값"
   ]
  },
  {
   "cell_type": "code",
   "execution_count": 5,
   "id": "e735a2fd",
   "metadata": {},
   "outputs": [
    {
     "name": "stdout",
     "output_type": "stream",
     "text": [
      "FAIL\n"
     ]
    }
   ],
   "source": [
    "score=40\n",
    "if score>=60:\n",
    "    print('PASS')\n",
    "else:\n",
    "    print('FAIL')\n",
    "#else 쓰는 게 좋음"
   ]
  },
  {
   "cell_type": "code",
   "execution_count": 7,
   "id": "5491ef23",
   "metadata": {},
   "outputs": [
    {
     "name": "stdout",
     "output_type": "stream",
     "text": [
      "FAIL\n"
     ]
    }
   ],
   "source": [
    "print('PASS') if score>=60 else print('FAIL') #여러 줄을 한 줄로 (왼/오)"
   ]
  },
  {
   "cell_type": "markdown",
   "id": "dbbd7758",
   "metadata": {},
   "source": [
    "while문 쓰는 이유\n",
    "1. 무한 반복\n",
    "2. 개수/횟수 모를 때\n",
    "\n",
    "for문 쓰는 이유\n",
    "1. 개수/횟수 알 때\n",
    "2. list, dict과 같은 복수개의 자료를 활용할 때"
   ]
  },
  {
   "cell_type": "code",
   "execution_count": 13,
   "id": "731d289b",
   "metadata": {},
   "outputs": [
    {
     "data": {
      "text/plain": [
       "[1, 2, 3, 4]"
      ]
     },
     "execution_count": 13,
     "metadata": {},
     "output_type": "execute_result"
    }
   ],
   "source": [
    "#아래 randint(1,10)와 비교\n",
    "#  0123\n",
    "s='abcd'\n",
    "s[1:2]\n",
    "list(range(1,5))"
   ]
  },
  {
   "cell_type": "code",
   "execution_count": 10,
   "id": "b1c8a8bd",
   "metadata": {},
   "outputs": [
    {
     "name": "stdout",
     "output_type": "stream",
     "text": [
      "추출된 숫자 : 8\n",
      "추출된 숫자 : 1\n",
      "추출된 숫자 : 10\n",
      "추출된 숫자 : 6\n",
      "추출된 숫자 : 9\n",
      "추출된 숫자 : 9\n",
      "추출된 숫자 : 2\n",
      "추출된 숫자 : 9\n",
      "추출된 숫자 : 7\n",
      "추출된 숫자 : 9\n",
      "추출된 숫자 : 2\n",
      "추출된 숫자 : 4\n",
      "추출된 숫자 : 3\n",
      "추출된 숫자 : 9\n",
      "추출된 숫자 : 1\n",
      "추출된 숫자 : 4\n",
      "추출된 숫자 : 9\n",
      "추출된 숫자 : 6\n",
      "추출된 숫자 : 2\n",
      "추출된 숫자 : 6\n",
      "추출된 숫자 : 7\n",
      "추출된 숫자 : 4\n",
      "추출된 숫자 : 2\n",
      "추출된 숫자 : 8\n",
      "추출된 숫자 : 2\n",
      "추출된 숫자 : 6\n",
      "추출된 숫자 : 5\n"
     ]
    }
   ],
   "source": [
    "import random\n",
    "\n",
    "while True:\n",
    "    number = random.randint(1, 10) #퍼사드 패턴: 원래는 random을 간단히 쓰도록 만든 randint\n",
    "    print('추출된 숫자 : %d' % number)\n",
    "    if number == 5: break\n",
    "#예외적으로 randint처럼 끝자리 포함하는 경우 있음"
   ]
  },
  {
   "cell_type": "code",
   "execution_count": 57,
   "id": "4f7e894d",
   "metadata": {},
   "outputs": [
    {
     "data": {
      "text/plain": [
       "3"
      ]
     },
     "execution_count": 57,
     "metadata": {},
     "output_type": "execute_result"
    }
   ],
   "source": [
    "import random\n",
    "r=random.random()\n",
    "\n",
    "#1~6 만들기\n",
    "#0~5.999999\n",
    "int(r*6)+1"
   ]
  },
  {
   "cell_type": "code",
   "execution_count": 58,
   "id": "277d5974",
   "metadata": {},
   "outputs": [
    {
     "data": {
      "text/plain": [
       "1676252898.223941"
      ]
     },
     "execution_count": 58,
     "metadata": {},
     "output_type": "execute_result"
    }
   ],
   "source": [
    "import time\n",
    "time.time() \n",
    "#유닉스 타임: 1970-01-01부터 시작한 초세기로, 파일 저장할 때 파일명 중복 방지로 쓰이기도 함"
   ]
  },
  {
   "cell_type": "code",
   "execution_count": 62,
   "id": "23d877cd",
   "metadata": {},
   "outputs": [
    {
     "name": "stdout",
     "output_type": "stream",
     "text": [
      "[28, 5, 23, 19, 22, 34]\n"
     ]
    }
   ],
   "source": [
    "import random\n",
    "lotto=[]\n",
    "count= list(range(6))\n",
    "\n",
    "for i in count:\n",
    "    n=random.randint(1,45)\n",
    "    if lotto.count(n)>0:\n",
    "        count.append(0)\n",
    "    else:\n",
    "        lotto.append(n)\n",
    "    \n",
    "#     lotto += [n]\n",
    "print(lotto)\n",
    "\n",
    "###그냥 숫자 추가로 해도 되는지 해보기 ex.count=range(6)->중복 체크가 어려운 듯"
   ]
  },
  {
   "cell_type": "code",
   "execution_count": 66,
   "id": "5a51d1b9",
   "metadata": {
    "collapsed": true
   },
   "outputs": [
    {
     "data": {
      "text/plain": [
       "['__and__',\n",
       " '__class__',\n",
       " '__class_getitem__',\n",
       " '__contains__',\n",
       " '__delattr__',\n",
       " '__dir__',\n",
       " '__doc__',\n",
       " '__eq__',\n",
       " '__format__',\n",
       " '__ge__',\n",
       " '__getattribute__',\n",
       " '__getstate__',\n",
       " '__gt__',\n",
       " '__hash__',\n",
       " '__iand__',\n",
       " '__init__',\n",
       " '__init_subclass__',\n",
       " '__ior__',\n",
       " '__isub__',\n",
       " '__iter__',\n",
       " '__ixor__',\n",
       " '__le__',\n",
       " '__len__',\n",
       " '__lt__',\n",
       " '__ne__',\n",
       " '__new__',\n",
       " '__or__',\n",
       " '__rand__',\n",
       " '__reduce__',\n",
       " '__reduce_ex__',\n",
       " '__repr__',\n",
       " '__ror__',\n",
       " '__rsub__',\n",
       " '__rxor__',\n",
       " '__setattr__',\n",
       " '__sizeof__',\n",
       " '__str__',\n",
       " '__sub__',\n",
       " '__subclasshook__',\n",
       " '__xor__',\n",
       " 'add',\n",
       " 'clear',\n",
       " 'copy',\n",
       " 'difference',\n",
       " 'difference_update',\n",
       " 'discard',\n",
       " 'intersection',\n",
       " 'intersection_update',\n",
       " 'isdisjoint',\n",
       " 'issubset',\n",
       " 'issuperset',\n",
       " 'pop',\n",
       " 'remove',\n",
       " 'symmetric_difference',\n",
       " 'symmetric_difference_update',\n",
       " 'union',\n",
       " 'update']"
      ]
     },
     "execution_count": 66,
     "metadata": {},
     "output_type": "execute_result"
    }
   ],
   "source": [
    "#도구 살피기\n",
    "dir(set())"
   ]
  },
  {
   "cell_type": "code",
   "execution_count": 23,
   "id": "d7dce91e",
   "metadata": {},
   "outputs": [
    {
     "name": "stdout",
     "output_type": "stream",
     "text": [
      "[6, 8, 12, 26, 31, 36]\n"
     ]
    }
   ],
   "source": [
    "#set 쓰기 좋은 경우(알고리듬 문제)\n",
    "#set: 중복 비허용, 순서 없음\n",
    "\n",
    "import random\n",
    "lotto=set()\n",
    "\n",
    "while True:\n",
    "    n=random.randint(1,45)\n",
    "    lotto.add(n)\n",
    "    if len(lotto)==6: break\n",
    "lotto=list(lotto)  #list 쓰면 정렬 기능 들어감\n",
    "lotto.sort()\n",
    "print(lotto) "
   ]
  },
  {
   "cell_type": "markdown",
   "id": "4ea9cf86",
   "metadata": {},
   "source": [
    "## *continue 문\n",
    "### : 아래를 수행 않고 위로 다시 올라간다.(다시 수행)"
   ]
  },
  {
   "cell_type": "markdown",
   "id": "af4183ef",
   "metadata": {},
   "source": [
    "## >List Comprehension\n",
    "### : list도 만들고 반복문도 필요할 때 쓴다."
   ]
  },
  {
   "cell_type": "code",
   "execution_count": 2,
   "id": "6f80de53",
   "metadata": {
    "scrolled": true
   },
   "outputs": [
    {
     "data": {
      "text/plain": [
       "[23, 42, 26, 18, 5, 23]"
      ]
     },
     "execution_count": 2,
     "metadata": {},
     "output_type": "execute_result"
    }
   ],
   "source": [
    "import random\n",
    "lotto=[random.randint(1,45) for i in range(6)] #for i in range(6)는 반복횟수 역할\n",
    "lotto"
   ]
  },
  {
   "cell_type": "code",
   "execution_count": 3,
   "id": "f60dadd9",
   "metadata": {},
   "outputs": [
    {
     "data": {
      "text/plain": [
       "['a', 'a', 'a', 'a', 'a', 'a']"
      ]
     },
     "execution_count": 3,
     "metadata": {},
     "output_type": "execute_result"
    }
   ],
   "source": [
    "['a' for i in range(6)]"
   ]
  },
  {
   "cell_type": "code",
   "execution_count": 14,
   "id": "7e8f290a",
   "metadata": {},
   "outputs": [
    {
     "data": {
      "text/plain": [
       "'abcdefghijklmnopqrstuvwxyz'"
      ]
     },
     "execution_count": 14,
     "metadata": {},
     "output_type": "execute_result"
    }
   ],
   "source": [
    "li=[chr(i) for i in range(ord('a'), ord('z')+1)]\n",
    "''.join(li) #공백 없애기"
   ]
  },
  {
   "cell_type": "code",
   "execution_count": 13,
   "id": "2dbcafc0",
   "metadata": {},
   "outputs": [
    {
     "data": {
      "text/plain": [
       "(44032, 55203)"
      ]
     },
     "execution_count": 13,
     "metadata": {},
     "output_type": "execute_result"
    }
   ],
   "source": [
    "ord('가'), ord('힣')"
   ]
  },
  {
   "cell_type": "code",
   "execution_count": 18,
   "id": "5e9d4d65",
   "metadata": {
    "collapsed": true
   },
   "outputs": [
    {
     "name": "stdout",
     "output_type": "stream",
     "text": [
      "Collecting matplotlib\n",
      "  Using cached matplotlib-3.6.3-cp311-cp311-win_amd64.whl (7.2 MB)\n",
      "Collecting contourpy>=1.0.1\n",
      "  Using cached contourpy-1.0.7-cp311-cp311-win_amd64.whl (162 kB)\n",
      "Collecting cycler>=0.10\n",
      "  Using cached cycler-0.11.0-py3-none-any.whl (6.4 kB)\n",
      "Collecting fonttools>=4.22.0\n",
      "  Using cached fonttools-4.38.0-py3-none-any.whl (965 kB)\n",
      "Collecting kiwisolver>=1.0.1\n",
      "  Using cached kiwisolver-1.4.4-cp311-cp311-win_amd64.whl (55 kB)\n",
      "Requirement already satisfied: numpy>=1.19 in c:\\users\\admin\\appdata\\local\\programs\\python\\python311\\lib\\site-packages (from matplotlib) (1.24.2)\n",
      "Requirement already satisfied: packaging>=20.0 in c:\\users\\admin\\appdata\\roaming\\python\\python311\\site-packages (from matplotlib) (23.0)\n",
      "Requirement already satisfied: pillow>=6.2.0 in c:\\users\\admin\\appdata\\local\\programs\\python\\python311\\lib\\site-packages (from matplotlib) (9.4.0)\n",
      "Requirement already satisfied: pyparsing>=2.2.1 in c:\\users\\admin\\appdata\\local\\programs\\python\\python311\\lib\\site-packages (from matplotlib) (3.0.9)\n",
      "Requirement already satisfied: python-dateutil>=2.7 in c:\\users\\admin\\appdata\\roaming\\python\\python311\\site-packages (from matplotlib) (2.8.2)\n",
      "Requirement already satisfied: six>=1.5 in c:\\users\\admin\\appdata\\roaming\\python\\python311\\site-packages (from python-dateutil>=2.7->matplotlib) (1.16.0)\n",
      "Installing collected packages: kiwisolver, fonttools, cycler, contourpy, matplotlib\n"
     ]
    },
    {
     "name": "stderr",
     "output_type": "stream",
     "text": [
      "ERROR: Could not install packages due to an OSError: [WinError 32] 다른 프로세스가 파일을 사용 중이기 때문에 프로세스가 액세스 할 수 없습니다: 'C:\\\\Users\\\\admin\\\\AppData\\\\Local\\\\Programs\\\\Python\\\\Python311\\\\Lib\\\\site-packages\\\\matplotlib\\\\table.py'\n",
      "Consider using the `--user` option or check the permissions.\n",
      "\n"
     ]
    },
    {
     "name": "stdout",
     "output_type": "stream",
     "text": [
      "Collecting matplotlib\n",
      "  Using cached matplotlib-3.6.3-cp311-cp311-win_amd64.whl (7.2 MB)\n",
      "Collecting contourpy>=1.0.1\n",
      "  Using cached contourpy-1.0.7-cp311-cp311-win_amd64.whl (162 kB)\n",
      "Collecting cycler>=0.10\n",
      "  Using cached cycler-0.11.0-py3-none-any.whl (6.4 kB)\n",
      "Requirement already satisfied: fonttools>=4.22.0 in c:\\users\\admin\\appdata\\local\\programs\\python\\python311\\lib\\site-packages (from matplotlib) (4.38.0)\n",
      "Requirement already satisfied: kiwisolver>=1.0.1 in c:\\users\\admin\\appdata\\local\\programs\\python\\python311\\lib\\site-packages (from matplotlib) (1.4.4)\n",
      "Requirement already satisfied: numpy>=1.19 in c:\\users\\admin\\appdata\\local\\programs\\python\\python311\\lib\\site-packages (from matplotlib) (1.24.2)\n",
      "Requirement already satisfied: packaging>=20.0 in c:\\users\\admin\\appdata\\roaming\\python\\python311\\site-packages (from matplotlib) (23.0)\n",
      "Requirement already satisfied: pillow>=6.2.0 in c:\\users\\admin\\appdata\\local\\programs\\python\\python311\\lib\\site-packages (from matplotlib) (9.4.0)\n",
      "Requirement already satisfied: pyparsing>=2.2.1 in c:\\users\\admin\\appdata\\local\\programs\\python\\python311\\lib\\site-packages (from matplotlib) (3.0.9)\n",
      "Requirement already satisfied: python-dateutil>=2.7 in c:\\users\\admin\\appdata\\roaming\\python\\python311\\site-packages (from matplotlib) (2.8.2)\n",
      "Requirement already satisfied: six>=1.5 in c:\\users\\admin\\appdata\\roaming\\python\\python311\\site-packages (from python-dateutil>=2.7->matplotlib) (1.16.0)\n",
      "Installing collected packages: cycler, contourpy, matplotlib\n",
      "Successfully installed contourpy-1.0.7 cycler-0.11.0 matplotlib-3.6.3\n",
      "Collecting matplotlib\n",
      "  Downloading matplotlib-3.6.3-cp311-cp311-win_amd64.whl (7.2 MB)\n",
      "     ---------------------------------------- 0.0/7.2 MB ? eta -:--:--\n",
      "     -- ------------------------------------- 0.5/7.2 MB 9.8 MB/s eta 0:00:01\n",
      "     ----- ---------------------------------- 0.9/7.2 MB 9.9 MB/s eta 0:00:01\n",
      "     -------- ------------------------------- 1.5/7.2 MB 9.5 MB/s eta 0:00:01\n",
      "     ---------- ----------------------------- 1.9/7.2 MB 9.3 MB/s eta 0:00:01\n",
      "     ------------ --------------------------- 2.3/7.2 MB 9.2 MB/s eta 0:00:01\n",
      "     -------------- ------------------------- 2.7/7.2 MB 9.1 MB/s eta 0:00:01\n",
      "     ---------------- ----------------------- 3.0/7.2 MB 9.1 MB/s eta 0:00:01\n",
      "     ------------------ --------------------- 3.3/7.2 MB 8.5 MB/s eta 0:00:01\n",
      "     -------------------- ------------------- 3.7/7.2 MB 8.5 MB/s eta 0:00:01\n",
      "     ----------------------- ---------------- 4.3/7.2 MB 8.8 MB/s eta 0:00:01\n",
      "     -------------------------- ------------- 4.8/7.2 MB 9.0 MB/s eta 0:00:01\n",
      "     ----------------------------- ---------- 5.4/7.2 MB 9.3 MB/s eta 0:00:01\n",
      "     -------------------------------- ------- 5.9/7.2 MB 9.5 MB/s eta 0:00:01\n",
      "     ------------------------------------ --- 6.5/7.2 MB 9.7 MB/s eta 0:00:01\n",
      "     ---------------------------------------  7.1/7.2 MB 9.8 MB/s eta 0:00:01\n",
      "     ---------------------------------------- 7.2/7.2 MB 9.6 MB/s eta 0:00:00\n",
      "Collecting contourpy>=1.0.1\n",
      "  Downloading contourpy-1.0.7-cp311-cp311-win_amd64.whl (162 kB)\n",
      "     ---------------------------------------- 0.0/163.0 kB ? eta -:--:--\n",
      "     ------------------------------------- 163.0/163.0 kB 10.2 MB/s eta 0:00:00\n",
      "Collecting cycler>=0.10\n",
      "  Downloading cycler-0.11.0-py3-none-any.whl (6.4 kB)\n",
      "Collecting fonttools>=4.22.0\n",
      "  Downloading fonttools-4.38.0-py3-none-any.whl (965 kB)\n",
      "     ---------------------------------------- 0.0/965.4 kB ? eta -:--:--\n",
      "     --------------------- --------------- 553.0/965.4 kB 11.8 MB/s eta 0:00:01\n",
      "     ------------------------------------- 965.4/965.4 kB 10.3 MB/s eta 0:00:00\n",
      "Collecting kiwisolver>=1.0.1\n",
      "  Downloading kiwisolver-1.4.4-cp311-cp311-win_amd64.whl (55 kB)\n",
      "     ---------------------------------------- 0.0/55.4 kB ? eta -:--:--\n",
      "     ---------------------------------------- 55.4/55.4 kB ? eta 0:00:00\n",
      "Collecting numpy>=1.19\n",
      "  Downloading numpy-1.24.2-cp311-cp311-win_amd64.whl (14.8 MB)\n",
      "     ---------------------------------------- 0.0/14.8 MB ? eta -:--:--\n",
      "     - -------------------------------------- 0.6/14.8 MB 12.0 MB/s eta 0:00:02\n",
      "     --- ------------------------------------ 1.1/14.8 MB 11.8 MB/s eta 0:00:02\n",
      "     ---- ----------------------------------- 1.7/14.8 MB 11.8 MB/s eta 0:00:02\n",
      "     ----- ---------------------------------- 2.2/14.8 MB 11.8 MB/s eta 0:00:02\n",
      "     ------- -------------------------------- 2.7/14.8 MB 11.5 MB/s eta 0:00:02\n",
      "     -------- ------------------------------- 3.2/14.8 MB 11.4 MB/s eta 0:00:02\n",
      "     ---------- ----------------------------- 3.8/14.8 MB 11.4 MB/s eta 0:00:01\n",
      "     ----------- ---------------------------- 4.3/14.8 MB 11.4 MB/s eta 0:00:01\n",
      "     ------------- -------------------------- 4.8/14.8 MB 11.5 MB/s eta 0:00:01\n",
      "     -------------- ------------------------- 5.4/14.8 MB 11.5 MB/s eta 0:00:01\n",
      "     ---------------- ----------------------- 6.0/14.8 MB 11.5 MB/s eta 0:00:01\n",
      "     ----------------- ---------------------- 6.5/14.8 MB 11.5 MB/s eta 0:00:01\n",
      "     ------------------- -------------------- 7.1/14.8 MB 11.6 MB/s eta 0:00:01\n",
      "     -------------------- ------------------- 7.6/14.8 MB 11.5 MB/s eta 0:00:01\n",
      "     ---------------------- ----------------- 8.2/14.8 MB 11.6 MB/s eta 0:00:01\n",
      "     ----------------------- ---------------- 8.7/14.8 MB 11.6 MB/s eta 0:00:01\n",
      "     ------------------------ --------------- 9.3/14.8 MB 11.6 MB/s eta 0:00:01\n",
      "     -------------------------- ------------- 9.8/14.8 MB 11.6 MB/s eta 0:00:01\n",
      "     --------------------------- ----------- 10.4/14.8 MB 11.7 MB/s eta 0:00:01\n",
      "     ---------------------------- ---------- 10.9/14.8 MB 11.7 MB/s eta 0:00:01\n",
      "     ------------------------------ -------- 11.5/14.8 MB 11.7 MB/s eta 0:00:01\n",
      "     ------------------------------- ------- 12.0/14.8 MB 11.7 MB/s eta 0:00:01\n",
      "     -------------------------------- ------ 12.3/14.8 MB 11.5 MB/s eta 0:00:01\n",
      "     --------------------------------- ----- 12.6/14.8 MB 11.1 MB/s eta 0:00:01\n",
      "     ---------------------------------- ---- 13.0/14.8 MB 10.9 MB/s eta 0:00:01\n",
      "     ----------------------------------- --- 13.4/14.8 MB 10.9 MB/s eta 0:00:01\n",
      "     ------------------------------------ -- 13.9/14.8 MB 10.9 MB/s eta 0:00:01\n",
      "     --------------------------------------  14.5/14.8 MB 10.9 MB/s eta 0:00:01\n",
      "     --------------------------------------  14.8/14.8 MB 10.9 MB/s eta 0:00:01\n",
      "     --------------------------------------- 14.8/14.8 MB 10.6 MB/s eta 0:00:00\n",
      "Requirement already satisfied: packaging>=20.0 in c:\\users\\admin\\appdata\\roaming\\python\\python311\\site-packages (from matplotlib) (23.0)\n",
      "Collecting pillow>=6.2.0\n",
      "  Downloading Pillow-9.4.0-cp311-cp311-win_amd64.whl (2.5 MB)\n",
      "     ---------------------------------------- 0.0/2.5 MB ? eta -:--:--\n",
      "     ------ --------------------------------- 0.4/2.5 MB 12.6 MB/s eta 0:00:01\n",
      "     ----------- ---------------------------- 0.7/2.5 MB 9.3 MB/s eta 0:00:01\n",
      "     ------------------ --------------------- 1.1/2.5 MB 8.9 MB/s eta 0:00:01\n",
      "     ------------------------ --------------- 1.5/2.5 MB 8.6 MB/s eta 0:00:01\n",
      "     ----------------------------- ---------- 1.8/2.5 MB 8.3 MB/s eta 0:00:01\n",
      "     ------------------------------------ --- 2.3/2.5 MB 8.5 MB/s eta 0:00:01\n",
      "     ---------------------------------------- 2.5/2.5 MB 7.9 MB/s eta 0:00:00\n",
      "Collecting pyparsing>=2.2.1\n",
      "  Downloading pyparsing-3.0.9-py3-none-any.whl (98 kB)\n",
      "     ---------------------------------------- 0.0/98.3 kB ? eta -:--:--\n",
      "     ---------------------------------------- 98.3/98.3 kB ? eta 0:00:00\n",
      "Requirement already satisfied: python-dateutil>=2.7 in c:\\users\\admin\\appdata\\roaming\\python\\python311\\site-packages (from matplotlib) (2.8.2)\n",
      "Requirement already satisfied: six>=1.5 in c:\\users\\admin\\appdata\\roaming\\python\\python311\\site-packages (from python-dateutil>=2.7->matplotlib) (1.16.0)\n",
      "Installing collected packages: pyparsing, pillow, numpy, kiwisolver, fonttools, cycler, contourpy, matplotlib\n",
      "Successfully installed contourpy-1.0.7 cycler-0.11.0 fonttools-4.38.0 kiwisolver-1.4.4 matplotlib-3.6.3 numpy-1.24.2 pillow-9.4.0 pyparsing-3.0.9\n"
     ]
    }
   ],
   "source": [
    "!pip install matplotlib"
   ]
  },
  {
   "cell_type": "code",
   "execution_count": 31,
   "id": "a1c0d50d",
   "metadata": {
    "scrolled": false
   },
   "outputs": [
    {
     "data": {
      "text/plain": [
       "[<matplotlib.lines.Line2D at 0x251e2ce8850>]"
      ]
     },
     "execution_count": 31,
     "metadata": {},
     "output_type": "execute_result"
    },
    {
     "data": {
      "image/png": "[encoded data removed]",
      "text/plain": [
       "<Figure size 640x480 with 1 Axes>"
      ]
     },
     "metadata": {},
     "output_type": "display_data"
    }
   ],
   "source": [
    "import matplotlib.pyplot #graph 쓰는 것\n",
    "matplotlib.pyplot.plot([random.randint(1,50) for i in range(6)], color='red')"
   ]
  },
  {
   "cell_type": "code",
   "execution_count": 29,
   "id": "c0f86ff7",
   "metadata": {},
   "outputs": [
    {
     "name": "stdout",
     "output_type": "stream",
     "text": [
      "15\n"
     ]
    }
   ],
   "source": [
    "#기본 함수 형태\n",
    "def plus(a,b):\n",
    "    return a+b\n",
    "\n",
    "x=10\n",
    "y=5\n",
    "\n",
    "result=plus(x,y)\n",
    "print(result)"
   ]
  },
  {
   "cell_type": "markdown",
   "id": "60e48391",
   "metadata": {},
   "source": [
    "▼별로 중요하진 않지만 알고는 있자."
   ]
  },
  {
   "cell_type": "code",
   "execution_count": 32,
   "id": "e12619b7",
   "metadata": {},
   "outputs": [
    {
     "name": "stdout",
     "output_type": "stream",
     "text": [
      "230 2.0\n"
     ]
    }
   ],
   "source": [
    "def total(a,b,c):\n",
    "    return a+b+c\n",
    "\n",
    "def average(num, count):\n",
    "    return num/count\n",
    "\n",
    "num=total(b=80, a=90, c=60)\n",
    "avg=average(count=5, num=10)\n",
    "print(num, avg)"
   ]
  },
  {
   "cell_type": "code",
   "execution_count": 33,
   "id": "289281ec",
   "metadata": {},
   "outputs": [
    {
     "name": "stdout",
     "output_type": "stream",
     "text": [
      "6\n"
     ]
    }
   ],
   "source": [
    "def total(*args):\n",
    "    total=0\n",
    "    for n in args:\n",
    "        total+=n\n",
    "    return total\n",
    "\n",
    "num=total(1,2,3)\n",
    "print(num)"
   ]
  },
  {
   "cell_type": "code",
   "execution_count": 34,
   "id": "44a0ac5a",
   "metadata": {
    "scrolled": true
   },
   "outputs": [
    {
     "name": "stdout",
     "output_type": "stream",
     "text": [
      "{'a': 1, 'b': 2, 'c': 3}\n"
     ]
    }
   ],
   "source": [
    "def func(**kwargs): #dict\n",
    "    print(kwargs)\n",
    "\n",
    "func(a=1, b=2, c=3)"
   ]
  },
  {
   "cell_type": "code",
   "execution_count": 37,
   "id": "64739d54",
   "metadata": {},
   "outputs": [
    {
     "name": "stdout",
     "output_type": "stream",
     "text": [
      "[5, 3, 1, 6, 2]\n",
      "[6, 5, 3, 2, 1]\n"
     ]
    }
   ],
   "source": [
    "li=[5,3,1,6,2]\n",
    "print(li)\n",
    "li.sort(reverse=True)\n",
    "print(li)"
   ]
  },
  {
   "cell_type": "code",
   "execution_count": 52,
   "id": "844c0d9b",
   "metadata": {},
   "outputs": [
    {
     "name": "stdout",
     "output_type": "stream",
     "text": [
      "AAA!!!\n",
      "AAA!!!\n",
      "AAA!!!\n"
     ]
    }
   ],
   "source": [
    "def a():\n",
    "    print('AAA!!!')\n",
    "result=a  #함수도 자료로 인식 in python\n",
    "result()  #함수는 기능을 해야하므로 () 해줘야 함(실행)\n",
    "    \n",
    "def b():\n",
    "    return a\n",
    "\n",
    "a()\n",
    "b()()"
   ]
  },
  {
   "cell_type": "code",
   "execution_count": 62,
   "id": "eb4900b5",
   "metadata": {},
   "outputs": [
    {
     "name": "stdout",
     "output_type": "stream",
     "text": [
      "수박수"
     ]
    }
   ],
   "source": [
    "n=3 #하드코딩: 값 직접 입력\n",
    "for i in range(n):\n",
    "    if i % 2 ==0:\n",
    "        print('수',end='') #줄바꿈 싫다면!(default:\\n)\n",
    "    else:\n",
    "        print('박',end='')"
   ]
  },
  {
   "cell_type": "code",
   "execution_count": 65,
   "id": "5a84e48f",
   "metadata": {},
   "outputs": [
    {
     "name": "stdout",
     "output_type": "stream",
     "text": [
      "수박수박수\n"
     ]
    }
   ],
   "source": [
    "#효율적 코드-반복문 없이도 해결\n",
    "n=5\n",
    "\n",
    "def soobak(x):\n",
    "    half=x//2\n",
    "    print(half*'수박',end='')\n",
    "\n",
    "    if x%2!=0:\n",
    "        print('수')\n",
    "    \n",
    "soobak(n)"
   ]
  },
  {
   "cell_type": "code",
   "execution_count": 67,
   "id": "6eb94b08",
   "metadata": {},
   "outputs": [
    {
     "name": "stdout",
     "output_type": "stream",
     "text": [
      "원하는 숫자 입력: 6\n"
     ]
    },
    {
     "data": {
      "text/plain": [
       "'수박수박수박'"
      ]
     },
     "execution_count": 67,
     "metadata": {},
     "output_type": "execute_result"
    }
   ],
   "source": [
    "#효율적 코드-반복문 없이도 해결\n",
    "n=int(input('원하는 숫자 입력: '))\n",
    "\n",
    "def soobak(x):\n",
    "    buffer=''  \n",
    "    \n",
    "    half=x//2\n",
    "    buffer += (half*'수박') \n",
    "\n",
    "    if x%2!=0:\n",
    "        buffer += '수'\n",
    "        \n",
    "    return buffer\n",
    "    \n",
    "soobak(n)\n",
    "\n",
    "#buffer: 매번 return 하지 않고 변수로 다 남기고 한다. 장바구니 같은 것. 성능면에서도 좋음. 작업속도 빨라짐."
   ]
  },
  {
   "cell_type": "markdown",
   "id": "9203cae4",
   "metadata": {},
   "source": [
    "리스트 컴프리핸션으로 되나 해보기"
   ]
  },
  {
   "cell_type": "code",
   "execution_count": 71,
   "id": "04bc0a67",
   "metadata": {},
   "outputs": [
    {
     "name": "stdout",
     "output_type": "stream",
     "text": [
      "7\n"
     ]
    }
   ],
   "source": [
    "n=124\n",
    "def sum(x):\n",
    "    sum=0\n",
    "    while True:\n",
    "        unit=x % 10\n",
    "        sum+=unit\n",
    "        x//=10\n",
    "        if x==0: break\n",
    "    print(sum)\n",
    "    \n",
    "sum(n)"
   ]
  },
  {
   "cell_type": "code",
   "execution_count": 72,
   "id": "27018ed1",
   "metadata": {},
   "outputs": [
    {
     "data": {
      "text/plain": [
       "7"
      ]
     },
     "execution_count": 72,
     "metadata": {},
     "output_type": "execute_result"
    }
   ],
   "source": [
    "n=124\n",
    "def sum(x):\n",
    "    sum=0\n",
    "    while True:\n",
    "        unit=x % 10\n",
    "        sum+=unit\n",
    "        x//=10\n",
    "        if x==0: break\n",
    "    return sum\n",
    "    \n",
    "sum(n)"
   ]
  },
  {
   "cell_type": "code",
   "execution_count": 73,
   "id": "21e155fd",
   "metadata": {},
   "outputs": [
    {
     "name": "stdout",
     "output_type": "stream",
     "text": [
      "30\n"
     ]
    }
   ],
   "source": [
    "plus=lambda a, b:a+b\n",
    "result=plus(10,20)\n",
    "\n",
    "print(result)"
   ]
  },
  {
   "cell_type": "code",
   "execution_count": 76,
   "id": "28e03128",
   "metadata": {},
   "outputs": [
    {
     "data": {
      "text/plain": [
       "[<matplotlib.lines.Line2D at 0x251e690d9d0>]"
      ]
     },
     "execution_count": 76,
     "metadata": {},
     "output_type": "execute_result"
    },
    {
     "data": {
      "image/png": "[encoded data removed]",
      "text/plain": [
       "<Figure size 640x480 with 1 Axes>"
      ]
     },
     "metadata": {},
     "output_type": "display_data"
    }
   ],
   "source": [
    "import matplotlib.pyplot as plt\n",
    "data=['1','11','2','21','3','4'] \n",
    "\n",
    "#리스트의 문자를 숫자로 변경\n",
    "# lambda 자체로는 큰 의미 없고, 다른 함수에 부속기능으로 탁월\n",
    "# map은 집합임. 원하는 기능을 막 붙일 수 있음.\n",
    "data=list(map(lambda x: int(x),data)) \n",
    "plt.plot(data)\n"
   ]
  },
  {
   "cell_type": "markdown",
   "id": "845877de",
   "metadata": {},
   "source": [
    "매끄럽게 해주는 세 가지\n",
    "1. 조건부 표현식\n",
    "2. List Comprehension\n",
    "3. Lambda"
   ]
  },
  {
   "cell_type": "code",
   "execution_count": 92,
   "id": "f3f8b8ee",
   "metadata": {},
   "outputs": [
    {
     "name": "stdout",
     "output_type": "stream",
     "text": [
      "1 시간 3 분 5 초\n",
      "1 시간 3 분 5 초\n"
     ]
    }
   ],
   "source": [
    "#시간 구하기\n",
    "problem=3785\n",
    "hour=problem//(60*60)\n",
    "minute=(problem % 3600)//60\n",
    "second=problem % 60\n",
    "print(hour,'시간', minute, '분', second,'초')\n",
    "print('%s 시간 %s 분 %s 초'% (hour, minute, second))\n",
    "\n",
    "#며칠인지 구하기-24시간 개념도 추가"
   ]
  },
  {
   "cell_type": "markdown",
   "id": "82771bfa",
   "metadata": {},
   "source": [
    "추석~오늘 시간 차이 구해보기, d-day기능"
   ]
  },
  {
   "cell_type": "markdown",
   "id": "dd451502",
   "metadata": {},
   "source": [
    "1개 문자=1Byte=2^3bit -> 256개 문자를 1Byte로 나타낼 수 있음/한글은 2~3Byte 정도 됨(4~5만)\n",
    "1024Byte=1kByte\n",
    "1024KByte=1GByte\n",
    "1024GByte=1TByte\n",
    "\n",
    "1,000=>Thousand =~ 2^10\n",
    "1,000,000=>Million =~2^20\n",
    "1,000,000,000=>Bilion =~2^30"
   ]
  },
  {
   "cell_type": "markdown",
   "id": "2202d68d",
   "metadata": {},
   "source": [
    "파일업로드최대용량=1024*1024*100"
   ]
  },
  {
   "cell_type": "markdown",
   "id": "9a8dc301",
   "metadata": {},
   "source": [
    "# 마방진"
   ]
  },
  {
   "cell_type": "code",
   "execution_count": 102,
   "id": "3564d118",
   "metadata": {},
   "outputs": [
    {
     "data": {
      "text/plain": [
       "['suyeon', 'suyeon', 'suyeon', 'suyeon', 'suyeon']"
      ]
     },
     "execution_count": 102,
     "metadata": {},
     "output_type": "execute_result"
    }
   ],
   "source": [
    "['suyeon' for i in range(5)]"
   ]
  },
  {
   "cell_type": "code",
   "execution_count": 104,
   "id": "0ba55e81",
   "metadata": {
    "scrolled": true
   },
   "outputs": [
    {
     "data": {
      "text/plain": [
       "[[0, 0, 1, 0, 0],\n",
       " [0, 0, 0, 0, 0],\n",
       " [0, 0, 0, 0, 0],\n",
       " [0, 0, 0, 0, 0],\n",
       " [0, 0, 0, 0, 0]]"
      ]
     },
     "execution_count": 104,
     "metadata": {},
     "output_type": "execute_result"
    }
   ],
   "source": [
    "m=[[0 for i in range(5)] for j in range(5)] #list comprehension\n",
    "m[0][2]=1\n",
    "m"
   ]
  },
  {
   "cell_type": "markdown",
   "id": "3c0a6aa1",
   "metadata": {},
   "source": [
    "경우의 수\n",
    "1. 행이 음수\n",
    "2. 열이 커지는 경우\n",
    "3. 이동하려는 위치에 값이 이미 있는 경우"
   ]
  },
  {
   "cell_type": "code",
   "execution_count": 146,
   "id": "cd6d5529",
   "metadata": {
    "scrolled": true
   },
   "outputs": [
    {
     "name": "stdout",
     "output_type": "stream",
     "text": [
      "17 24 1 8 15 \n",
      "23 5 7 14 16 \n",
      "4 6 13 20 22 \n",
      "10 12 19 21 3 \n",
      "11 18 25 2 9 \n"
     ]
    }
   ],
   "source": [
    "#'구현' 알고리듬\n",
    "m=[[0 for i in range(5)] for j in range(5)]\n",
    "\n",
    "row=0\n",
    "col=2\n",
    "m[row][col]=1\n",
    "\n",
    "for i in range(2,26): #1 썼으니까 2부터\n",
    "    or_row=row\n",
    "    or_col=col\n",
    "    row-=1\n",
    "    col+=1\n",
    "    if row<0: \n",
    "        row=4\n",
    "    if col>4:\n",
    "        col=0\n",
    "    if m[row][col]!=0:\n",
    "#         row+=2\n",
    "#         col-=1\n",
    "        row=or_row+1\n",
    "        col=or_col\n",
    "#     print('%s %s %s' % (row, col, i)) #error 확인용\n",
    "    m[row][col]=i\n",
    "m\n",
    "\n",
    "\n",
    "#이중 for문 이용한 2차원 data\n",
    "for a in m:\n",
    "    for b in a:\n",
    "        print(b,end=' ')\n",
    "    print()\n"
   ]
  },
  {
   "cell_type": "code",
   "execution_count": 147,
   "id": "f74d4946",
   "metadata": {},
   "outputs": [
    {
     "data": {
      "text/plain": [
       "[15,\n",
       " 16,\n",
       " 21,\n",
       " 2,\n",
       " 24,\n",
       " 9,\n",
       " 10,\n",
       " 11,\n",
       " 17,\n",
       " 8,\n",
       " 12,\n",
       " 5,\n",
       " 19,\n",
       " 25,\n",
       " 18,\n",
       " 22,\n",
       " 3,\n",
       " 4,\n",
       " 7,\n",
       " 13,\n",
       " 23,\n",
       " 14,\n",
       " 6,\n",
       " 20,\n",
       " 1]"
      ]
     },
     "execution_count": 147,
     "metadata": {},
     "output_type": "execute_result"
    }
   ],
   "source": [
    "import random\n",
    "bingo=[i for i in range(1,26)]\n",
    "random.shuffle(bingo)\n",
    "bingo"
   ]
  },
  {
   "cell_type": "markdown",
   "id": "d2443b7b",
   "metadata": {},
   "source": [
    "5개씩 끊어서 줄바꿈하는 빙고판 구해보기"
   ]
  },
  {
   "cell_type": "markdown",
   "id": "c8aeb6cd",
   "metadata": {},
   "source": [
    "다른 위치에서도 시작해보기-가의 중간부분에서만 가능함 "
   ]
  },
  {
   "cell_type": "markdown",
   "id": "c7d621ad",
   "metadata": {},
   "source": [
    "프로젝트 참고: ggoreb.com/portfolio \n",
    "quality도 중요하지만 idea 도출이 더 중요하기도"
   ]
  },
  {
   "cell_type": "markdown",
   "id": "0f63c864",
   "metadata": {},
   "source": [
    "#python challenge"
   ]
  }
 ],
 "metadata": {
  "kernelspec": {
   "display_name": "Python 3 (ipykernel)",
   "language": "python",
   "name": "python3"
  },
  "language_info": {
   "codemirror_mode": {
    "name": "ipython",
    "version": 3
   },
   "file_extension": ".py",
   "mimetype": "text/x-python",
   "name": "python",
   "nbconvert_exporter": "python",
   "pygments_lexer": "ipython3",
   "version": "3.11.1"
  }
 },
 "nbformat": 4,
 "nbformat_minor": 5
}
