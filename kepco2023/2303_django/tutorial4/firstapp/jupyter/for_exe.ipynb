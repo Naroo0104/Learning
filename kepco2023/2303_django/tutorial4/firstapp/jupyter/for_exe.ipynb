{
 "cells": [
  {
   "cell_type": "markdown",
   "id": "5bb7607a",
   "metadata": {},
   "source": [
    "# 행렬 데이터 형태 생성하기"
   ]
  },
  {
   "cell_type": "code",
   "execution_count": 2,
   "id": "5c9f9684",
   "metadata": {},
   "outputs": [
    {
     "data": {
      "text/plain": [
       "'pwa001'"
      ]
     },
     "execution_count": 2,
     "metadata": {},
     "output_type": "execute_result"
    }
   ],
   "source": [
    "### 한개 행에 컬럼의 데이터 형태 만들기\n",
    "cols = {\"col_nm1\":\"a001\", \n",
    "        \"col_nm2\":\"pwa001\",\n",
    "        \"col_nm3\":100}\n",
    "cols[\"col_nm2\"]\n"
   ]
  },
  {
   "cell_type": "code",
   "execution_count": 3,
   "id": "e43c686c",
   "metadata": {},
   "outputs": [
    {
     "name": "stdout",
     "output_type": "stream",
     "text": [
      "key[col_nm1]=value[a001]\n",
      "key[col_nm2]=value[pwa001]\n",
      "key[col_nm3]=value[100]\n"
     ]
    }
   ],
   "source": [
    "### for문을 이용해서 딕셔너리의 \n",
    "#   값들을 모두 출력해주세요..\n",
    "for k in cols :\n",
    "    print(\"key[{}]=value[{}]\".format(k, \n",
    "                                     cols[k]))"
   ]
  },
  {
   "cell_type": "code",
   "execution_count": 4,
   "id": "4d894a9e",
   "metadata": {},
   "outputs": [
    {
     "name": "stdout",
     "output_type": "stream",
     "text": [
      "value[a001]\n",
      "value[pwa001]\n",
      "value[100]\n"
     ]
    }
   ],
   "source": [
    "for v in cols.values() :\n",
    "    print(\"value[{}]\".format(v))"
   ]
  },
  {
   "cell_type": "code",
   "execution_count": 5,
   "id": "5f5f2b32",
   "metadata": {},
   "outputs": [
    {
     "name": "stdout",
     "output_type": "stream",
     "text": [
      "key[col_nm1]=value[a001]\n",
      "key[col_nm2]=value[pwa001]\n",
      "key[col_nm3]=value[100]\n"
     ]
    }
   ],
   "source": [
    "for k, v in cols.items() :\n",
    "    print(\"key[{}]=value[{}]\".format(k, \n",
    "                                     v))"
   ]
  },
  {
   "cell_type": "code",
   "execution_count": 8,
   "id": "b06ebe81",
   "metadata": {},
   "outputs": [
    {
     "name": "stdout",
     "output_type": "stream",
     "text": [
      "['a001', 'pwa001', 100]\n",
      "a001\n",
      "pwa001\n",
      "100\n",
      "a001\n",
      "pwa001\n",
      "100\n"
     ]
    }
   ],
   "source": [
    "### 리스트 변수 생성 : temp_list\n",
    "temp_list = []\n",
    "# cols의 값들만 리스트 변수에 넣어주세요...\n",
    "for v in cols.values():\n",
    "    temp_list.append(v)\n",
    "print(temp_list)\n",
    "# 넣은 후 for문을 이용해서 출력해주세요\n",
    "# - 리스트 데이터 출력은 \n",
    "#   : 인덱스 번호를 이용한 방식과\n",
    "for i in range(0, len(temp_list), 1):\n",
    "    print(temp_list[i])\n",
    "#   : 값을 이용한 방식 두가지로\n",
    "for v in temp_list :\n",
    "    print(v)"
   ]
  },
  {
   "cell_type": "code",
   "execution_count": 11,
   "id": "a6d5bd7e",
   "metadata": {},
   "outputs": [
    {
     "name": "stdout",
     "output_type": "stream",
     "text": [
      "a001 pwa001\n",
      "b001 pwb001\n",
      "c001 pwc001\n"
     ]
    }
   ],
   "source": [
    "\"\"\"\n",
    "아래의 각 행의 값들은 딕셔너리의 값들입니다.\n",
    " - key는 id, pw \n",
    " - 아래 처럼 행렬로 출력 될 수 있도록 형태를 만들고,\n",
    " - 출력까지 해보세요.. (자유롭게 형태를 생성해 봅니다.)\n",
    "a001 pwa001 --> {\"id\":\"a001\", \"pw\":\"pwa001\"}\n",
    "b001 pwb001\n",
    "c001 pwc001\n",
    "\"\"\"\n",
    "lists = [{\"id\":\"a001\", \"pw\":\"pwa001\"},\n",
    "         {\"id\":\"b001\", \"pw\":\"pwb001\"},\n",
    "         {\"id\":\"c001\", \"pw\":\"pwc001\"}]\n",
    "for datas in lists:\n",
    "    # print(datas)\n",
    "    # for k in datas:\n",
    "        #print(k, datas[k])\n",
    "    print(datas[\"id\"], datas[\"pw\"])"
   ]
  },
  {
   "cell_type": "code",
   "execution_count": null,
   "id": "a010ee8f",
   "metadata": {},
   "outputs": [],
   "source": []
  }
 ],
 "metadata": {
  "kernelspec": {
   "display_name": "venv_django_kernel",
   "language": "python",
   "name": "venv_django"
  },
  "language_info": {
   "codemirror_mode": {
    "name": "ipython",
    "version": 3
   },
   "file_extension": ".py",
   "mimetype": "text/x-python",
   "name": "python",
   "nbconvert_exporter": "python",
   "pygments_lexer": "ipython3",
   "version": "3.11.1"
  }
 },
 "nbformat": 4,
 "nbformat_minor": 5
}
