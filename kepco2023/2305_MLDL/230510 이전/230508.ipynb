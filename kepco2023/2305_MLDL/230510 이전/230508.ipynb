{
 "cells": [
  {
   "cell_type": "code",
   "execution_count": 1,
   "id": "5e086533-2b0b-44fd-bb8d-57e01037e278",
   "metadata": {},
   "outputs": [],
   "source": [
    "import numpy as np"
   ]
  },
  {
   "cell_type": "code",
   "execution_count": 19,
   "id": "9458f057-a9a3-4a1b-9e45-5542a812d131",
   "metadata": {},
   "outputs": [],
   "source": [
    "## X,y\n",
    "X = np.random.randn(100,1)\n",
    "a = 500\n",
    "y = X*a"
   ]
  },
  {
   "cell_type": "code",
   "execution_count": 20,
   "id": "4e60df6e-560b-494e-a757-b7021b4d0ece",
   "metadata": {},
   "outputs": [],
   "source": [
    "a_hat = np.random.randn(1)"
   ]
  },
  {
   "cell_type": "code",
   "execution_count": 22,
   "id": "18ab2cd4-f243-42d0-8667-dc450c78e70a",
   "metadata": {},
   "outputs": [
    {
     "name": "stdout",
     "output_type": "stream",
     "text": [
      " a_hat : [498.31279106]  err : 4.049984999609389 -> 미분값 -4.799445007455048\n"
     ]
    }
   ],
   "source": [
    "for _ in range(10000):\n",
    "    y_hat = a_hat * X # 가설함수\n",
    "    err = np.mean((y-y_hat)**2)\n",
    "    diff_err = np.mean(2*X*(y_hat-y))\n",
    "    a_hat -= diff_err*1e-4\n",
    "\n",
    "print(f' a_hat : {a_hat}  err : {err} -> 미분값 {diff_err}')"
   ]
  },
  {
   "cell_type": "code",
   "execution_count": 23,
   "id": "6a117b7a-9b45-499e-b733-fbc788573a2e",
   "metadata": {},
   "outputs": [],
   "source": [
    "X = np.random.randn(1000,1)\n",
    "a = 18\n",
    "b = 1800\n",
    "y = X*a + b"
   ]
  },
  {
   "cell_type": "code",
   "execution_count": 25,
   "id": "c2ca4582-4900-49b5-b79b-fad8e0f74eb5",
   "metadata": {},
   "outputs": [],
   "source": [
    "# 초기값\n",
    "a_hat = np.random.randn(1)\n",
    "b_hat = 0"
   ]
  },
  {
   "cell_type": "code",
   "execution_count": 26,
   "id": "76b3db6c-d37c-4436-b24a-502cd59102db",
   "metadata": {},
   "outputs": [],
   "source": [
    "epochs = 10000\n",
    "learning_rate = 1e-3\n",
    "for _ in range(epochs):\n",
    "    ## 가설 함수\n",
    "    y_hat = a_hat*X + b_hat\n",
    "    ##  err (cost)\n",
    "    err = np.mean((y_hat - y)**2)\n",
    "    ## 미분값\n",
    "    diff_a_err = np.mean(2*X*(y_hat - y))\n",
    "    diff_b_err = np.mean(2*(y_hat-y))\n",
    "    ## 미분값을 적용해서 경사하강(Gradient Decsent)\n",
    "    a_hat -= diff_a_err*learning_rate\n",
    "    b_hat -= diff_b_err*learning_rate\n"
   ]
  },
  {
   "cell_type": "code",
   "execution_count": 48,
   "id": "ea6fb9dd-22fa-4fa6-838d-af9b63f4c493",
   "metadata": {},
   "outputs": [],
   "source": [
    "x1 = np.random.randn(1000,1)\n",
    "x2 = np.random.randn(1000,1)\n",
    "a1 = 115\n",
    "a2 = -70\n",
    "b = 60\n",
    "y = x1*a1 + x2*a2 + b"
   ]
  },
  {
   "cell_type": "code",
   "execution_count": 49,
   "id": "24ea2d26-aad4-4390-9732-a39ef52bda38",
   "metadata": {},
   "outputs": [],
   "source": [
    "a1_hat = -150\n",
    "a2_hat = 100\n",
    "b_hat = 0"
   ]
  },
  {
   "cell_type": "code",
   "execution_count": 50,
   "id": "823af0ef-ffc7-4f7a-83e1-e9aaecadf2c2",
   "metadata": {},
   "outputs": [],
   "source": [
    "epochs = 10000\n",
    "learning_rate = 1e-3\n",
    "for _ in range(epochs):\n",
    "    y_hat = x1*a1_hat + x2*a2_hat + b_hat\n",
    "    err = np.mean((y - y_hat)**2)\n",
    "    diff_a1 = np.mean(2*x1*(y_hat - y))\n",
    "    diff_a2 = np.mean(2*x2*(y_hat - y))\n",
    "    diff_b = np.mean(2*(y_hat-y))\n",
    "    a1_hat -= diff_a1*learning_rate\n",
    "    a2_hat -= diff_a2*learning_rate\n",
    "    b_hat -= diff_b*learning_rate"
   ]
  },
  {
   "cell_type": "code",
   "execution_count": 69,
   "id": "03d44b2c-dd7f-4d51-9cb2-8e90fcfd124e",
   "metadata": {},
   "outputs": [],
   "source": [
    "a1 = 10\n",
    "a2 = 20\n",
    "a3 = 30\n",
    "a4 = 40\n",
    "x1 = np.random.randn(100)\n",
    "x2 = np.random.randn(100)\n",
    "x3 = np.random.randn(100)\n",
    "x4 = np.random.randn(100)\n",
    "y = x1*a1 + x2*a2 + x3*a3 + x4*a4"
   ]
  },
  {
   "cell_type": "code",
   "execution_count": 70,
   "id": "a685bf53-47b4-4cc2-957c-49e09f5760b0",
   "metadata": {},
   "outputs": [
    {
     "data": {
      "text/plain": [
       "470.3752942933732"
      ]
     },
     "execution_count": 70,
     "metadata": {},
     "output_type": "execute_result"
    }
   ],
   "source": [
    "np.sum(y)"
   ]
  },
  {
   "cell_type": "code",
   "execution_count": 71,
   "id": "2cdacf23-34e4-4489-9606-ede72c259238",
   "metadata": {},
   "outputs": [],
   "source": [
    "X = np.c_[x1,x2,x3,x4]"
   ]
  },
  {
   "cell_type": "code",
   "execution_count": 72,
   "id": "4b3a52c8-4802-4833-84f4-43fefb7d41dd",
   "metadata": {},
   "outputs": [
    {
     "data": {
      "text/plain": [
       "(4, 1)"
      ]
     },
     "execution_count": 72,
     "metadata": {},
     "output_type": "execute_result"
    }
   ],
   "source": [
    "W = np.r_[[[a1],[a2],[a3],[a4]]]\n",
    "W.shape"
   ]
  },
  {
   "cell_type": "code",
   "execution_count": 73,
   "id": "1a004024-03a6-4e3f-b055-f2b3699a67c5",
   "metadata": {},
   "outputs": [
    {
     "data": {
      "text/plain": [
       "470.3752942933732"
      ]
     },
     "execution_count": 73,
     "metadata": {},
     "output_type": "execute_result"
    }
   ],
   "source": [
    "np.sum(np.dot(X,W))"
   ]
  },
  {
   "cell_type": "code",
   "execution_count": 79,
   "id": "eff8d512-2efe-49d7-8b7d-90d829b03b63",
   "metadata": {},
   "outputs": [],
   "source": [
    "X = np.random.randn(100,4)\n",
    "W = np.array([[10],[20],[30],[40]])\n",
    "b = 1000\n",
    "y = np.dot(X,W) + b"
   ]
  },
  {
   "cell_type": "code",
   "execution_count": 80,
   "id": "e1fb06a2-5094-4637-8ce3-03dda199ac64",
   "metadata": {},
   "outputs": [],
   "source": [
    "W_hat = np.random.randn(4,1)\n",
    "b_hat = 0"
   ]
  },
  {
   "cell_type": "code",
   "execution_count": 83,
   "id": "3a8b1049-cb5b-4cef-b1de-ef627fdb778f",
   "metadata": {},
   "outputs": [
    {
     "data": {
      "text/plain": [
       "array([-11.44567305,   3.64591793,   3.33460031])"
      ]
     },
     "execution_count": 83,
     "metadata": {},
     "output_type": "execute_result"
    }
   ],
   "source": [
    "np.sum(np.random.randn(100,3),axis=0)"
   ]
  },
  {
   "cell_type": "code",
   "execution_count": 94,
   "id": "ba091053-589d-48e4-bc7c-a3652559430c",
   "metadata": {},
   "outputs": [],
   "source": [
    "epochs = 1000\n",
    "learning_rate = 1e-3\n",
    "for _ in range(epochs):\n",
    "    y_hat = np.dot(X,W_hat) + b_hat\n",
    "    err = np.mean((y - y_hat)**2)\n",
    "    diff_w = np.dot(X.T,(y_hat - y))\n",
    "    diff_b = np.mean(2*(y_hat - y))\n",
    "    W_hat -= diff_w*learning_rate\n",
    "    b_hat -= diff_b*learning_rate"
   ]
  },
  {
   "cell_type": "code",
   "execution_count": 95,
   "id": "8def517c-4d96-4c38-9fed-6fdd773b533d",
   "metadata": {},
   "outputs": [
    {
     "data": {
      "text/plain": [
       "999.6391386377272"
      ]
     },
     "execution_count": 95,
     "metadata": {},
     "output_type": "execute_result"
    }
   ],
   "source": [
    "b_hat"
   ]
  },
  {
   "cell_type": "code",
   "execution_count": 96,
   "id": "8cd69327-53e4-410d-a2ef-302095a5ebba",
   "metadata": {},
   "outputs": [
    {
     "data": {
      "text/plain": [
       "array([[ 9.97874051],\n",
       "       [19.99862629],\n",
       "       [29.98747076],\n",
       "       [39.97615581]])"
      ]
     },
     "execution_count": 96,
     "metadata": {},
     "output_type": "execute_result"
    }
   ],
   "source": [
    "W_hat"
   ]
  },
  {
   "cell_type": "code",
   "execution_count": 97,
   "id": "eee1e83a-c585-4981-b411-5e5ef71387f4",
   "metadata": {},
   "outputs": [],
   "source": [
    "X = np.random.randn(100,1)\n",
    "W = 1100\n",
    "y = X*W"
   ]
  },
  {
   "cell_type": "code",
   "execution_count": 100,
   "id": "e03f42bd-a15c-4f3d-81c2-a32f0c051dda",
   "metadata": {},
   "outputs": [],
   "source": [
    "def diff(f,x):\n",
    "    h = 1e-7\n",
    "    fx = f(x)\n",
    "    fxh = f(x+h)\n",
    "    return (fxh - fx)/h"
   ]
  },
  {
   "cell_type": "code",
   "execution_count": 101,
   "id": "8fe97018-6dfb-4e77-b6cc-305824d0b340",
   "metadata": {},
   "outputs": [
    {
     "data": {
      "text/plain": [
       "20.999999890136678"
      ]
     },
     "execution_count": 101,
     "metadata": {},
     "output_type": "execute_result"
    }
   ],
   "source": [
    "f = lambda x :x**2 + x\n",
    "diff(f,10)"
   ]
  },
  {
   "cell_type": "code",
   "execution_count": 103,
   "id": "fdbb5d3f-0cfd-4eff-b73e-5217cab3401a",
   "metadata": {},
   "outputs": [],
   "source": [
    "W_hat = np.random.randn(1)"
   ]
  },
  {
   "cell_type": "code",
   "execution_count": 104,
   "id": "3dadc144-73d5-4ebb-b3c1-db1f492c9097",
   "metadata": {},
   "outputs": [
    {
     "data": {
      "text/plain": [
       "array([-0.48539141])"
      ]
     },
     "execution_count": 104,
     "metadata": {},
     "output_type": "execute_result"
    }
   ],
   "source": [
    "W_hat"
   ]
  },
  {
   "cell_type": "code",
   "execution_count": 105,
   "id": "582c33ee-16d6-4a60-a901-c6907132560b",
   "metadata": {},
   "outputs": [],
   "source": [
    "def err(W_hat):\n",
    "    y_hat = X*W_hat\n",
    "    return np.sum((y_hat-y)**2)\n",
    "epochs = 10000\n",
    "learning_rate = 1e-3\n",
    "for _ in range(epochs):\n",
    "    y_hat = X*W_hat\n",
    "    W_hat -= diff(err,W_hat)*learning_rate"
   ]
  },
  {
   "cell_type": "code",
   "execution_count": 157,
   "id": "571e4b67-7d18-4d0a-9763-83dd222f3992",
   "metadata": {},
   "outputs": [],
   "source": [
    "X = np.random.randn(100,1)\n",
    "W = 100\n",
    "b = -100\n",
    "y = X*W + b"
   ]
  },
  {
   "cell_type": "code",
   "execution_count": 158,
   "id": "c3bedfcb-aeda-451a-9885-c97bcda718e9",
   "metadata": {},
   "outputs": [],
   "source": [
    "W_hat = np.random.randn(1)\n",
    "b_hat = 0"
   ]
  },
  {
   "cell_type": "code",
   "execution_count": 172,
   "id": "509262af-6182-4b83-a228-bce6b774ecad",
   "metadata": {},
   "outputs": [],
   "source": [
    "def diff(f,x):\n",
    "    h = 1e-4\n",
    "    fx = f(x)\n",
    "    fxh = f(x+h)\n",
    "    return (fxh-fx)/h"
   ]
  },
  {
   "cell_type": "code",
   "execution_count": 162,
   "id": "728aac88-4898-46b0-b43f-b1e7e92e3cb9",
   "metadata": {},
   "outputs": [],
   "source": [
    "W_hat = 0"
   ]
  },
  {
   "cell_type": "code",
   "execution_count": 163,
   "id": "f500c8ab-c980-46d2-8718-85384c82bc63",
   "metadata": {},
   "outputs": [],
   "source": [
    "b_hat = 0"
   ]
  },
  {
   "cell_type": "code",
   "execution_count": 173,
   "id": "0a7a27d7-b57d-4ed9-83af-acd79715a55d",
   "metadata": {},
   "outputs": [],
   "source": [
    "def err(W_hat):\n",
    "    y_hat = X*W_hat + b_hat\n",
    "    return np.sum((y_hat-y)**2)\n",
    "learning_rate = 1e-3\n",
    "epochs = 10000\n",
    "for _ in range(epochs):\n",
    "    y_hat = X*W_hat + b_hat\n",
    "    W_hat -= diff(err,y_hat)*learning_rate\n",
    "\n",
    "for _ in range(epochs):\n",
    "    y_hat = X*W_hat + b_hat\n",
    "    b_hat -= diff(err,y_hat)*learning_rate"
   ]
  },
  {
   "cell_type": "code",
   "execution_count": 174,
   "id": "0e25fcd1-bfc3-406f-ac7e-0d974ce6fb62",
   "metadata": {},
   "outputs": [
    {
     "data": {
      "text/plain": [
       "30839973491.731426"
      ]
     },
     "execution_count": 174,
     "metadata": {},
     "output_type": "execute_result"
    }
   ],
   "source": [
    "W_hat"
   ]
  },
  {
   "cell_type": "code",
   "execution_count": 168,
   "id": "058dd815-dbad-45b8-b6ca-4ba7109b1bd4",
   "metadata": {},
   "outputs": [
    {
     "data": {
      "text/plain": [
       "1006632960.0"
      ]
     },
     "execution_count": 168,
     "metadata": {},
     "output_type": "execute_result"
    }
   ],
   "source": [
    "b_hat"
   ]
  },
  {
   "cell_type": "code",
   "execution_count": 175,
   "id": "b6e3fff6-8776-4d6b-b5a9-4cae01c7abb1",
   "metadata": {},
   "outputs": [],
   "source": [
    "X = np.random.randn(100,1)\n",
    "W = 100\n",
    "b = -100\n",
    "y = X*W + b"
   ]
  },
  {
   "cell_type": "code",
   "execution_count": 184,
   "id": "14f41898-b843-4699-aac0-faf9416ae96e",
   "metadata": {},
   "outputs": [],
   "source": [
    "def error(y_hat):\n",
    "    return np.mean((y_hat-y)**2)"
   ]
  },
  {
   "cell_type": "code",
   "execution_count": 222,
   "id": "6a03ae67-b6e6-4da0-82e2-3da118acbbc1",
   "metadata": {},
   "outputs": [],
   "source": [
    "W_hat = 0\n",
    "b_hat = 0"
   ]
  },
  {
   "cell_type": "code",
   "execution_count": 223,
   "id": "12b1fa37-96ac-489b-874d-a5cc5482b549",
   "metadata": {
    "tags": []
   },
   "outputs": [],
   "source": [
    "epochs = 10000\n",
    "lr = 1e-3\n",
    "for _ in range(epochs):\n",
    "    y_hat = X*W_hat + b_hat\n",
    "    W_hat -= diff(error, W_hat)*lr\n",
    "    b_hat -= diff(error2,b_hat)*lr"
   ]
  },
  {
   "cell_type": "code",
   "execution_count": 224,
   "id": "d6434629-b49a-4155-b09f-d54b8e454dbe",
   "metadata": {},
   "outputs": [
    {
     "data": {
      "text/plain": [
       "99.99994904009694"
      ]
     },
     "execution_count": 224,
     "metadata": {},
     "output_type": "execute_result"
    }
   ],
   "source": [
    "W_hat"
   ]
  },
  {
   "cell_type": "code",
   "execution_count": 225,
   "id": "1aaa01ad-5b19-455d-b6c4-ccb56e72b9d5",
   "metadata": {},
   "outputs": [
    {
     "data": {
      "text/plain": [
       "-100.0000504823447"
      ]
     },
     "execution_count": 225,
     "metadata": {},
     "output_type": "execute_result"
    }
   ],
   "source": [
    "b_hat"
   ]
  },
  {
   "cell_type": "code",
   "execution_count": null,
   "id": "06c96726-7a4e-41ed-859c-8be71aeb9361",
   "metadata": {},
   "outputs": [],
   "source": []
  },
  {
   "cell_type": "code",
   "execution_count": 220,
   "id": "a761c6fd-4d7c-4adc-b00b-0c559ce0b0e1",
   "metadata": {},
   "outputs": [],
   "source": [
    "def error(W_hat):\n",
    "    y_hat = X*W_hat + b_hat\n",
    "    return np.mean((y_hat-y)**2)"
   ]
  },
  {
   "cell_type": "code",
   "execution_count": 221,
   "id": "0c239e82-5afa-4f90-a547-b04b257f60bc",
   "metadata": {},
   "outputs": [],
   "source": [
    "def error2(b_hat):\n",
    "    y_hat = X*W_hat + b_hat\n",
    "    return np.mean((y_hat-y)**2)"
   ]
  },
  {
   "cell_type": "code",
   "execution_count": 198,
   "id": "2b29ef62-dc40-4bd9-b329-899aac04a1eb",
   "metadata": {},
   "outputs": [],
   "source": [
    "def diff(f,w,b):\n",
    "    h = 1e-4\n",
    "    fx = f(x)\n",
    "    fxh = f(x+h)\n",
    "    return (fxh-fx)/h"
   ]
  },
  {
   "cell_type": "code",
   "execution_count": 227,
   "id": "a1743906-9d4c-41e3-8909-1a547d0c20f2",
   "metadata": {},
   "outputs": [],
   "source": [
    "## 초기값\n",
    "X = np.random.randn(1000,1)\n",
    "W = 100\n",
    "b = 150\n",
    "y = X*W + b\n",
    "## 학습을 위한 초기값\n",
    "W_hat = np.random.randn(1)\n",
    "b_hat = np.random.randn(1)\n",
    "## cost 함수(error)\n",
    "\n",
    "def cost_a(W_hat):\n",
    "    y_hat = X*W_hat + b_hat\n",
    "    return np.mean((y-y_hat)**2)\n",
    "def cost_b(b_hat):\n",
    "    y_hat = X*W_hat + b_hat\n",
    "    return np.mean((y-y_hat)**2)\n",
    "\n",
    "## 미분함수\n",
    "def diff(f,x):\n",
    "    h = 1e-4\n",
    "    fx = f(x)\n",
    "    fxh = f(x+h)\n",
    "    return (fxh - fx)/h"
   ]
  },
  {
   "cell_type": "code",
   "execution_count": 228,
   "id": "f13d1549-eb53-4b24-ab5a-3dd7aa0e5301",
   "metadata": {},
   "outputs": [],
   "source": [
    "epochs = 10000\n",
    "lr = 1e-3\n",
    "for _ in range(epochs):\n",
    "    y_hat = X*W_hat + b_hat\n",
    "    W_hat -= diff(cost_a,W_hat)*lr\n",
    "    b_hat -= diff(cost_b,b_hat)*lr"
   ]
  },
  {
   "cell_type": "code",
   "execution_count": 231,
   "id": "5f181ff7-d43a-4542-8505-8287d4b39f84",
   "metadata": {},
   "outputs": [],
   "source": [
    "def cost(W,b):\n",
    "    y_hat = X*W + b\n",
    "    return np.mean((y_hat - y)**2)\n",
    "\n",
    "def diff(f,W,b):\n",
    "    h = 1e-4\n",
    "    fx_w = f(W,b)\n",
    "    fxh_w = f(W+h,b)\n",
    "    fx_b = f(W,b)\n",
    "    fxh_b = f(W,b+h)\n",
    "    dW = (fxh_w - fx_w)/h\n",
    "    db = (fxh_b-fx_b)/h\n",
    "    return dW, db"
   ]
  },
  {
   "cell_type": "code",
   "execution_count": 233,
   "id": "21f71141-d3a9-467f-8b61-5afd983e3e01",
   "metadata": {},
   "outputs": [],
   "source": [
    "X = np.random.randn(1000,1)\n",
    "W = 1230\n",
    "b = -19\n",
    "y = X*W + b"
   ]
  },
  {
   "cell_type": "code",
   "execution_count": 239,
   "id": "8de4f610-997a-45df-a387-011b42bf971c",
   "metadata": {},
   "outputs": [],
   "source": [
    "W_hat = np.random.randn(1)\n",
    "b_hat = 0"
   ]
  },
  {
   "cell_type": "code",
   "execution_count": 240,
   "id": "099afd94-f68d-418d-b167-2198380091bd",
   "metadata": {},
   "outputs": [
    {
     "data": {
      "text/plain": [
       "(array([1.68758727]), 0)"
      ]
     },
     "execution_count": 240,
     "metadata": {},
     "output_type": "execute_result"
    }
   ],
   "source": [
    "W_hat, b_hat"
   ]
  },
  {
   "cell_type": "code",
   "execution_count": 243,
   "id": "41779f2c-9e29-4cc1-863e-0a8b4500f127",
   "metadata": {},
   "outputs": [
    {
     "name": "stdout",
     "output_type": "stream",
     "text": [
      "[1229.99994169] -19.000050210805515\n"
     ]
    }
   ],
   "source": [
    "lr = 1e-3\n",
    "epochs = 10000\n",
    "for _ in range(epochs):\n",
    "    W_hat -= diff(cost,W_hat,b_hat)[0]*lr\n",
    "    b_hat -= diff(cost,W_hat,b_hat)[1]*lr\n",
    "print(W_hat, b_hat)"
   ]
  },
  {
   "cell_type": "code",
   "execution_count": 287,
   "id": "8dd291b8-c842-40da-a923-9a2706d62d6d",
   "metadata": {},
   "outputs": [],
   "source": [
    "W = np.array([[7],[17],[8],[5]])"
   ]
  },
  {
   "cell_type": "code",
   "execution_count": 288,
   "id": "257ee53b-189d-4dbe-b330-842fa9f6a57c",
   "metadata": {},
   "outputs": [],
   "source": [
    "b = 22"
   ]
  },
  {
   "cell_type": "code",
   "execution_count": 289,
   "id": "b1d0f951-d90c-4c21-b1f3-56fa0115d137",
   "metadata": {},
   "outputs": [],
   "source": [
    "X = np.random.randn(1000,4)\n",
    "y = np.dot(X,W) + b"
   ]
  },
  {
   "cell_type": "code",
   "execution_count": 290,
   "id": "92f052ae-e8db-48fb-9648-a4661739c2ba",
   "metadata": {},
   "outputs": [],
   "source": [
    "W_hat = np.random.randn(4,1)\n",
    "b_hat = 0"
   ]
  },
  {
   "cell_type": "code",
   "execution_count": 252,
   "id": "d950834e-c6a2-45e4-b5ea-e0a3b154c3bd",
   "metadata": {},
   "outputs": [],
   "source": [
    "y_hat = np.dot(X,W_hat) + b_hat"
   ]
  },
  {
   "cell_type": "code",
   "execution_count": 291,
   "id": "af130595-4a2c-4ac4-9ede-24b9b2559b48",
   "metadata": {},
   "outputs": [],
   "source": [
    "def cost(W_hat,b_hat):\n",
    "    y_hat = np.dot(X,W_hat) + b_hat\n",
    "    return np.mean((y_hat-y)**2)"
   ]
  },
  {
   "cell_type": "code",
   "execution_count": 292,
   "id": "536f095d-a5a4-4a73-b3bb-64f0173d4b1b",
   "metadata": {},
   "outputs": [
    {
     "data": {
      "text/plain": [
       "(array([[-10.4440557 ],\n",
       "        [-33.84509715],\n",
       "        [-13.78658735],\n",
       "        [ -8.87618104]]),\n",
       " -42.63925403847679)"
      ]
     },
     "execution_count": 292,
     "metadata": {},
     "output_type": "execute_result"
    }
   ],
   "source": [
    "def diff(f,W_hat,b_hat):\n",
    "    h = 1e-4\n",
    "    dW = np.zeros_like(W_hat)\n",
    "    for i in range(W_hat.shape[0]):\n",
    "        for j in range(W_hat.shape[1]):\n",
    "            fx = f(W_hat,b_hat)\n",
    "            tmp = W_hat[i,j]\n",
    "            W_hat[i,j] = tmp + h\n",
    "            fxh = f(W_hat,b_hat)\n",
    "            dW[i,j] = (fxh - fx)/h\n",
    "            W_hat[i,j] = tmp\n",
    "    fx = f(W_hat,b_hat)\n",
    "    fxh = f(W_hat,b_hat+h)\n",
    "    db = (fxh - fx)/h       \n",
    "    return dW, db"
   ]
  },
  {
   "cell_type": "code",
   "execution_count": 293,
   "id": "d1a52004-721a-43ec-9668-f6e31fc7688e",
   "metadata": {},
   "outputs": [],
   "source": [
    "lr = 1e-3\n",
    "for _ in range(10000):\n",
    "    W_hat -= diff(cost,W_hat,b_hat)[0]*lr\n",
    "    b_hat -= diff(cost,W_hat,b_hat)[1]*lr"
   ]
  },
  {
   "cell_type": "code",
   "execution_count": 280,
   "id": "9c9cd7ae-8c48-484b-a8b0-0356a4ec1368",
   "metadata": {},
   "outputs": [
    {
     "data": {
      "text/plain": [
       "(4, 1)"
      ]
     },
     "execution_count": 280,
     "metadata": {},
     "output_type": "execute_result"
    }
   ],
   "source": [
    "## 1. 가설함수 설정\n",
    "## 2. 가설함수를 사용하여 예측값을 구한다.\n",
    "## 3. 예측값과 실제값을 오차함수를 통해 오차를 구한다.\n",
    "## 4. 오차함수를 미분\n",
    "## 5. 미분값을 lr 곱해서 빼준후 파라메터를 업데이트한다\n",
    "## 6. 1 ~5번을 반복\n"
   ]
  },
  {
   "cell_type": "code",
   "execution_count": 294,
   "id": "385e301d-6424-43d7-8724-c4d6ce52ba87",
   "metadata": {},
   "outputs": [
    {
     "data": {
      "text/plain": [
       "array([[ 6.99994886],\n",
       "       [16.99994988],\n",
       "       [ 7.9999473 ],\n",
       "       [ 4.99994783]])"
      ]
     },
     "execution_count": 294,
     "metadata": {},
     "output_type": "execute_result"
    }
   ],
   "source": [
    "W_hat"
   ]
  },
  {
   "cell_type": "code",
   "execution_count": 295,
   "id": "6201bb43-8349-4da0-969f-bf6107b96661",
   "metadata": {},
   "outputs": [
    {
     "data": {
      "text/plain": [
       "21.9999466752486"
      ]
     },
     "execution_count": 295,
     "metadata": {},
     "output_type": "execute_result"
    }
   ],
   "source": [
    "b_hat"
   ]
  },
  {
   "cell_type": "code",
   "execution_count": 296,
   "id": "3b746fa6-d8c3-48b9-aee5-06d9c028adbc",
   "metadata": {},
   "outputs": [],
   "source": [
    "def sigmoid(x):\n",
    "    return 1/(1+np.exp(-x))"
   ]
  },
  {
   "cell_type": "code",
   "execution_count": 297,
   "id": "f3a24b81-a46f-4707-ac5c-a473bcc4cd82",
   "metadata": {},
   "outputs": [],
   "source": [
    "x = np.linspace(-5,5,100)"
   ]
  },
  {
   "cell_type": "code",
   "execution_count": 298,
   "id": "5f593723-0138-4bb3-929d-8e2e6382a633",
   "metadata": {},
   "outputs": [],
   "source": [
    "y = sigmoid(x)"
   ]
  },
  {
   "cell_type": "code",
   "execution_count": 299,
   "id": "1fa5479b-ef9d-41ba-892b-0e788f74bf6e",
   "metadata": {},
   "outputs": [],
   "source": [
    "import matplotlib.pyplot as plt"
   ]
  },
  {
   "cell_type": "code",
   "execution_count": 300,
   "id": "f2d52d57-d5b4-4e73-a323-935d18b2045a",
   "metadata": {},
   "outputs": [
    {
     "data": {
      "text/plain": [
       "[<matplotlib.lines.Line2D at 0x19ce58b1fa0>]"
      ]
     },
     "execution_count": 300,
     "metadata": {},
     "output_type": "execute_result"
    },
    {
     "data": {
      "image/png": "[encoded data removed]",
      "text/plain": [
       "<Figure size 640x480 with 1 Axes>"
      ]
     },
     "metadata": {},
     "output_type": "display_data"
    }
   ],
   "source": [
    "plt.plot(x,y)"
   ]
  },
  {
   "cell_type": "code",
   "execution_count": 311,
   "id": "bac54ecc-2c1b-49dd-af86-b83ce8bfc16a",
   "metadata": {},
   "outputs": [],
   "source": [
    "x = np.arange(1,101)"
   ]
  },
  {
   "cell_type": "code",
   "execution_count": 312,
   "id": "c2311129-e4cf-47fb-9c20-7a83c53770b8",
   "metadata": {},
   "outputs": [
    {
     "data": {
      "text/plain": [
       "[<matplotlib.lines.Line2D at 0x19ce58f6d90>]"
      ]
     },
     "execution_count": 312,
     "metadata": {},
     "output_type": "execute_result"
    },
    {
     "data": {
      "image/png": "[encoded data removed]",
      "text/plain": [
       "<Figure size 640x480 with 1 Axes>"
      ]
     },
     "metadata": {},
     "output_type": "display_data"
    }
   ],
   "source": [
    "prob = lambda x : (x*(100-x))/(100)**2\n",
    "plt.plot(x, prob(x))"
   ]
  },
  {
   "cell_type": "code",
   "execution_count": 313,
   "id": "1854a17d-5baa-4004-a1dc-4523b0272165",
   "metadata": {},
   "outputs": [],
   "source": [
    "\n",
    "def monti():\n",
    "    choice = np.random.choice([0,1,2],1)  \n",
    "    real = np.random.choice([0,1,2],1)\n",
    "    return choice,real"
   ]
  },
  {
   "cell_type": "code",
   "execution_count": 316,
   "id": "4c6c4025-3a4c-49c7-99b9-b849c11ddae0",
   "metadata": {},
   "outputs": [
    {
     "data": {
      "text/plain": [
       "(array([2]), array([0]))"
      ]
     },
     "execution_count": 316,
     "metadata": {},
     "output_type": "execute_result"
    }
   ],
   "source": [
    "monti()"
   ]
  },
  {
   "cell_type": "code",
   "execution_count": null,
   "id": "0f7b7590-7582-4e45-93da-d683b7464e40",
   "metadata": {},
   "outputs": [],
   "source": []
  }
 ],
 "metadata": {
  "kernelspec": {
   "display_name": "bteam",
   "language": "python",
   "name": "bteam"
  },
  "language_info": {
   "codemirror_mode": {
    "name": "ipython",
    "version": 3
   },
   "file_extension": ".py",
   "mimetype": "text/x-python",
   "name": "python",
   "nbconvert_exporter": "python",
   "pygments_lexer": "ipython3",
   "version": "3.9.16"
  }
 },
 "nbformat": 4,
 "nbformat_minor": 5
}
