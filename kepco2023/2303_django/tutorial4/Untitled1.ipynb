{
 "cells": [
  {
   "cell_type": "code",
   "execution_count": null,
   "id": "e826c438",
   "metadata": {},
   "outputs": [],
   "source": []
  }
 ],
 "metadata": {
  "kernelspec": {
   "display_name": "venv_django2_kernel",
   "language": "python",
   "name": "venv_django2"
  }
 },
 "nbformat": 4,
 "nbformat_minor": 5
}
