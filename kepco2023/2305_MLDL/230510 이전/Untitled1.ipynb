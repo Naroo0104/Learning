{
 "cells": [
  {
   "cell_type": "code",
   "execution_count": 1,
   "id": "87586bf8-d489-44e3-9e1f-70f9f89535e4",
   "metadata": {
    "tags": []
   },
   "outputs": [],
   "source": [
    "from machine_learning import Leejunyoung"
   ]
  },
  {
   "cell_type": "code",
   "execution_count": 2,
   "id": "f61c79f3-2e82-4d55-8c7d-f88e74c75795",
   "metadata": {
    "tags": []
   },
   "outputs": [],
   "source": [
    "import machine_learning\n",
    "import numpy as np"
   ]
  },
  {
   "cell_type": "code",
   "execution_count": 3,
   "id": "2a2e3997-058a-437f-a049-215cb29b3714",
   "metadata": {
    "tags": []
   },
   "outputs": [],
   "source": [
    "rng=np.random.RandomState(seed=100) #전역변수로 쓰는 법"
   ]
  },
  {
   "cell_type": "code",
   "execution_count": 4,
   "id": "03aed2b8-7bdf-48da-9266-146868c65327",
   "metadata": {
    "tags": []
   },
   "outputs": [
    {
     "data": {
      "text/plain": [
       "array([[-1.74976547,  0.3426804 ,  1.1530358 , -0.25243604],\n",
       "       [ 0.98132079,  0.51421884,  0.22117967, -1.07004333],\n",
       "       [-0.18949583,  0.25500144, -0.45802699,  0.43516349]])"
      ]
     },
     "execution_count": 4,
     "metadata": {},
     "output_type": "execute_result"
    }
   ],
   "source": [
    "rng.randn(3,4) #지역변수로 쓰는 법 =>이 방법이 더 좋음"
   ]
  },
  {
   "cell_type": "code",
   "execution_count": 5,
   "id": "a478432c-c2bb-4c0b-8c5c-4ba02d065670",
   "metadata": {
    "tags": []
   },
   "outputs": [
    {
     "data": {
      "text/plain": [
       "array([[-0.20898877,  0.56653789,  0.4454166 , -0.04948262],\n",
       "       [-0.19668972,  0.75877302, -0.17183035, -0.27546791],\n",
       "       [ 1.35129056,  1.26981702, -0.11016212, -0.25359172]])"
      ]
     },
     "execution_count": 5,
     "metadata": {},
     "output_type": "execute_result"
    }
   ],
   "source": [
    "machine_learning.sigmoid(rng.randn(3,4))"
   ]
  },
  {
   "cell_type": "code",
   "execution_count": 6,
   "id": "e1f83cd6-c248-48dd-95e6-fb3718743e1e",
   "metadata": {
    "tags": []
   },
   "outputs": [],
   "source": [
    "from sklearn.datasets import load_iris\n",
    "X=load_iris()['data']\n",
    "y=load_iris()['target']"
   ]
  },
  {
   "cell_type": "code",
   "execution_count": 7,
   "id": "9314c9b0-a38a-4784-bc76-bbba71ce427c",
   "metadata": {
    "tags": []
   },
   "outputs": [],
   "source": [
    "model=Leejunyoung(X,y)"
   ]
  },
  {
   "cell_type": "code",
   "execution_count": 8,
   "id": "4c877f59-21de-4765-b88e-45a3c7cc38d2",
   "metadata": {
    "tags": []
   },
   "outputs": [
    {
     "name": "stdout",
     "output_type": "stream",
     "text": [
      "Loss : ==================> 394.2088121783396\n",
      "Loss : ==================> 122.16448418231462\n",
      "Loss : ==================> 38.051094673618984\n"
     ]
    },
    {
     "ename": "KeyboardInterrupt",
     "evalue": "",
     "output_type": "error",
     "traceback": [
      "\u001b[1;31m---------------------------------------------------------------------------\u001b[0m",
      "\u001b[1;31mKeyboardInterrupt\u001b[0m                         Traceback (most recent call last)",
      "Cell \u001b[1;32mIn[8], line 1\u001b[0m\n\u001b[1;32m----> 1\u001b[0m model\u001b[39m.\u001b[39;49mfit(epochs\u001b[39m=\u001b[39;49m\u001b[39m1000\u001b[39;49m, lr\u001b[39m=\u001b[39;49m\u001b[39m1e-3\u001b[39;49m)\n",
      "File \u001b[1;32mc:\\work2023\\machine_learning.py:35\u001b[0m, in \u001b[0;36mLeejunyoung.fit\u001b[1;34m(self, epochs, lr)\u001b[0m\n\u001b[0;32m     33\u001b[0m \u001b[39mfor\u001b[39;00m epoch \u001b[39min\u001b[39;00m \u001b[39mrange\u001b[39m(epochs):\n\u001b[0;32m     34\u001b[0m     \u001b[39mself\u001b[39m\u001b[39m.\u001b[39mw \u001b[39m-\u001b[39m\u001b[39m=\u001b[39m \u001b[39mself\u001b[39m\u001b[39m.\u001b[39mdiff()[\u001b[39m0\u001b[39m]\u001b[39m*\u001b[39mlr\n\u001b[1;32m---> 35\u001b[0m     \u001b[39mself\u001b[39m\u001b[39m.\u001b[39mb \u001b[39m-\u001b[39m\u001b[39m=\u001b[39m \u001b[39mself\u001b[39;49m\u001b[39m.\u001b[39;49mdiff()[\u001b[39m1\u001b[39m]\u001b[39m*\u001b[39mlr\n\u001b[0;32m     36\u001b[0m     \u001b[39mif\u001b[39;00m epoch \u001b[39m%\u001b[39m \u001b[39m100\u001b[39m \u001b[39m==\u001b[39m \u001b[39m0\u001b[39m:\n\u001b[0;32m     37\u001b[0m         \u001b[39mprint\u001b[39m(\u001b[39mf\u001b[39m\u001b[39m'\u001b[39m\u001b[39mLoss : ==================> \u001b[39m\u001b[39m{\u001b[39;00m\u001b[39mself\u001b[39m\u001b[39m.\u001b[39mcost()\u001b[39m}\u001b[39;00m\u001b[39m'\u001b[39m)\n",
      "File \u001b[1;32mc:\\work2023\\machine_learning.py:57\u001b[0m, in \u001b[0;36mLeejunyoung.diff\u001b[1;34m(self)\u001b[0m\n\u001b[0;32m     55\u001b[0m fx \u001b[39m=\u001b[39m \u001b[39mself\u001b[39m\u001b[39m.\u001b[39mcost()\n\u001b[0;32m     56\u001b[0m \u001b[39mself\u001b[39m\u001b[39m.\u001b[39mw[i,j] \u001b[39m+\u001b[39m\u001b[39m=\u001b[39m h\n\u001b[1;32m---> 57\u001b[0m fxh \u001b[39m=\u001b[39m \u001b[39mself\u001b[39;49m\u001b[39m.\u001b[39;49mcost()\n\u001b[0;32m     58\u001b[0m \u001b[39mself\u001b[39m\u001b[39m.\u001b[39mgrad_a[i,j] \u001b[39m=\u001b[39m (fxh\u001b[39m-\u001b[39mfx)\u001b[39m/\u001b[39mh\n\u001b[0;32m     59\u001b[0m \u001b[39mself\u001b[39m\u001b[39m.\u001b[39mw[i,j] \u001b[39m=\u001b[39m tmp\n",
      "File \u001b[1;32mc:\\work2023\\machine_learning.py:45\u001b[0m, in \u001b[0;36mLeejunyoung.cost\u001b[1;34m(self)\u001b[0m\n\u001b[0;32m     44\u001b[0m \u001b[39mdef\u001b[39;00m \u001b[39mcost\u001b[39m(\u001b[39mself\u001b[39m):\n\u001b[1;32m---> 45\u001b[0m     \u001b[39mself\u001b[39;49m\u001b[39m.\u001b[39;49mpredict()\n\u001b[0;32m     46\u001b[0m     epsilon \u001b[39m=\u001b[39m \u001b[39m1e-7\u001b[39m\n\u001b[0;32m     47\u001b[0m     \u001b[39mreturn\u001b[39;00m \u001b[39m-\u001b[39mnp\u001b[39m.\u001b[39msum(\u001b[39mself\u001b[39m\u001b[39m.\u001b[39my\u001b[39m*\u001b[39mnp\u001b[39m.\u001b[39mlog(\u001b[39mself\u001b[39m\u001b[39m.\u001b[39my_hat\u001b[39m+\u001b[39mepsilon))\n",
      "File \u001b[1;32mc:\\work2023\\machine_learning.py:40\u001b[0m, in \u001b[0;36mLeejunyoung.predict\u001b[1;34m(self)\u001b[0m\n\u001b[0;32m     39\u001b[0m \u001b[39mdef\u001b[39;00m \u001b[39mpredict\u001b[39m(\u001b[39mself\u001b[39m):\n\u001b[1;32m---> 40\u001b[0m     \u001b[39mself\u001b[39m\u001b[39m.\u001b[39my_hat \u001b[39m=\u001b[39m np\u001b[39m.\u001b[39;49mdot(\u001b[39mself\u001b[39;49m\u001b[39m.\u001b[39;49mx,\u001b[39mself\u001b[39;49m\u001b[39m.\u001b[39;49mw) \u001b[39m+\u001b[39m \u001b[39mself\u001b[39m\u001b[39m.\u001b[39mb\n\u001b[0;32m     41\u001b[0m     \u001b[39mself\u001b[39m\u001b[39m.\u001b[39my_hat \u001b[39m=\u001b[39m np\u001b[39m.\u001b[39mapply_along_axis(softmax,\u001b[39m1\u001b[39m,\u001b[39mself\u001b[39m\u001b[39m.\u001b[39my_hat)\n\u001b[0;32m     42\u001b[0m     \u001b[39mreturn\u001b[39;00m \u001b[39mself\u001b[39m\u001b[39m.\u001b[39my_hat\n",
      "File \u001b[1;32m<__array_function__ internals>:200\u001b[0m, in \u001b[0;36mdot\u001b[1;34m(*args, **kwargs)\u001b[0m\n",
      "\u001b[1;31mKeyboardInterrupt\u001b[0m: "
     ]
    }
   ],
   "source": [
    "model.fit(epochs=1000, lr=1e-3)"
   ]
  },
  {
   "cell_type": "code",
   "execution_count": 9,
   "id": "a4335215-c947-49a1-b3bd-705fc99bdde7",
   "metadata": {
    "tags": []
   },
   "outputs": [
    {
     "data": {
      "text/plain": [
       "0.92"
      ]
     },
     "execution_count": 9,
     "metadata": {},
     "output_type": "execute_result"
    }
   ],
   "source": [
    "model.score(X,y)"
   ]
  },
  {
   "cell_type": "code",
   "execution_count": 10,
   "id": "eb127907-69c6-4418-9b00-02383016b406",
   "metadata": {
    "tags": []
   },
   "outputs": [],
   "source": [
    "import pickle"
   ]
  },
  {
   "cell_type": "code",
   "execution_count": 11,
   "id": "e07a47fc-4f1d-4c72-8af6-cdec1a7e4561",
   "metadata": {
    "tags": []
   },
   "outputs": [],
   "source": [
    "with open('../www/app/model.pickle', 'wb') as f: #원래 파일 이름(실제 이름)은 '파일경로+파일명+확장자명' 임. 그래서 unique함.\n",
    "    pickle.dump(model, f)"
   ]
  },
  {
   "cell_type": "code",
   "execution_count": null,
   "id": "db98ec76-21b5-4592-9847-b3413bdbeff1",
   "metadata": {},
   "outputs": [],
   "source": []
  }
 ],
 "metadata": {
  "kernelspec": {
   "display_name": "Python 3 (ipykernel)",
   "language": "python",
   "name": "python3"
  },
  "language_info": {
   "codemirror_mode": {
    "name": "ipython",
    "version": 3
   },
   "file_extension": ".py",
   "mimetype": "text/x-python",
   "name": "python",
   "nbconvert_exporter": "python",
   "pygments_lexer": "ipython3",
   "version": "3.9.16"
  }
 },
 "nbformat": 4,
 "nbformat_minor": 5
}
