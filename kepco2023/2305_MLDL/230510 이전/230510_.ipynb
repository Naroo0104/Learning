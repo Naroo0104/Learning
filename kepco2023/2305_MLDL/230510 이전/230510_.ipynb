{
 "cells": [
  {
   "cell_type": "code",
   "execution_count": 1,
   "id": "5e086533-2b0b-44fd-bb8d-57e01037e278",
   "metadata": {},
   "outputs": [],
   "source": [
    "import numpy as np"
   ]
  },
  {
   "cell_type": "code",
   "execution_count": 2,
   "id": "9458f057-a9a3-4a1b-9e45-5542a812d131",
   "metadata": {},
   "outputs": [],
   "source": [
    "## X,y\n",
    "X = np.random.randn(100,1)\n",
    "a = 500\n",
    "y = X*a"
   ]
  },
  {
   "cell_type": "code",
   "execution_count": 3,
   "id": "4e60df6e-560b-494e-a757-b7021b4d0ece",
   "metadata": {},
   "outputs": [],
   "source": [
    "a_hat = np.random.randn(1)"
   ]
  },
  {
   "cell_type": "code",
   "execution_count": 4,
   "id": "18ab2cd4-f243-42d0-8667-dc450c78e70a",
   "metadata": {},
   "outputs": [
    {
     "name": "stdout",
     "output_type": "stream",
     "text": [
      " a_hat : [441.50726213]  err : 3669.640995363896 -> 미분값 -125.4464840497311\n"
     ]
    }
   ],
   "source": [
    "for _ in range(10000):\n",
    "    y_hat = a_hat * X # 가설함수\n",
    "    err = np.mean((y-y_hat)**2)\n",
    "    diff_err = np.mean(2*X*(y_hat-y))\n",
    "    a_hat -= diff_err*1e-4\n",
    "\n",
    "print(f' a_hat : {a_hat}  err : {err} -> 미분값 {diff_err}')"
   ]
  },
  {
   "cell_type": "code",
   "execution_count": 5,
   "id": "6a117b7a-9b45-499e-b733-fbc788573a2e",
   "metadata": {},
   "outputs": [],
   "source": [
    "X = np.random.randn(1000,1)\n",
    "a = 18\n",
    "b = 1800\n",
    "y = X*a + b"
   ]
  },
  {
   "cell_type": "code",
   "execution_count": 6,
   "id": "c2ca4582-4900-49b5-b79b-fad8e0f74eb5",
   "metadata": {},
   "outputs": [],
   "source": [
    "# 초기값\n",
    "a_hat = np.random.randn(1)\n",
    "b_hat = 0"
   ]
  },
  {
   "cell_type": "code",
   "execution_count": 7,
   "id": "76b3db6c-d37c-4436-b24a-502cd59102db",
   "metadata": {},
   "outputs": [],
   "source": [
    "epochs = 10000\n",
    "learning_rate = 1e-3\n",
    "for _ in range(epochs):\n",
    "    ## 가설 함수\n",
    "    y_hat = a_hat*X + b_hat\n",
    "    ##  err (cost)\n",
    "    err = np.mean((y_hat - y)**2)\n",
    "    ## 미분값\n",
    "    diff_a_err = np.mean(2*X*(y_hat - y))\n",
    "    diff_b_err = np.mean(2*(y_hat-y))\n",
    "    ## 미분값을 적용해서 경사하강(Gradient Decsent)\n",
    "    a_hat -= diff_a_err*learning_rate\n",
    "    b_hat -= diff_b_err*learning_rate\n"
   ]
  },
  {
   "cell_type": "code",
   "execution_count": 8,
   "id": "ea6fb9dd-22fa-4fa6-838d-af9b63f4c493",
   "metadata": {},
   "outputs": [],
   "source": [
    "x1 = np.random.randn(1000,1)\n",
    "x2 = np.random.randn(1000,1)\n",
    "a1 = 115\n",
    "a2 = -70\n",
    "b = 60\n",
    "y = x1*a1 + x2*a2 + b"
   ]
  },
  {
   "cell_type": "code",
   "execution_count": 9,
   "id": "24ea2d26-aad4-4390-9732-a39ef52bda38",
   "metadata": {},
   "outputs": [],
   "source": [
    "a1_hat = -150\n",
    "a2_hat = 100\n",
    "b_hat = 0"
   ]
  },
  {
   "cell_type": "code",
   "execution_count": 10,
   "id": "823af0ef-ffc7-4f7a-83e1-e9aaecadf2c2",
   "metadata": {},
   "outputs": [],
   "source": [
    "epochs = 10000\n",
    "learning_rate = 1e-3\n",
    "for _ in range(epochs):\n",
    "    y_hat = x1*a1_hat + x2*a2_hat + b_hat\n",
    "    err = np.mean((y - y_hat)**2)\n",
    "    diff_a1 = np.mean(2*x1*(y_hat - y))\n",
    "    diff_a2 = np.mean(2*x2*(y_hat - y))\n",
    "    diff_b = np.mean(2*(y_hat-y))\n",
    "    a1_hat -= diff_a1*learning_rate\n",
    "    a2_hat -= diff_a2*learning_rate\n",
    "    b_hat -= diff_b*learning_rate"
   ]
  },
  {
   "cell_type": "code",
   "execution_count": 11,
   "id": "03d44b2c-dd7f-4d51-9cb2-8e90fcfd124e",
   "metadata": {},
   "outputs": [],
   "source": [
    "a1 = 10\n",
    "a2 = 20\n",
    "a3 = 30\n",
    "a4 = 40\n",
    "x1 = np.random.randn(100)\n",
    "x2 = np.random.randn(100)\n",
    "x3 = np.random.randn(100)\n",
    "x4 = np.random.randn(100)\n",
    "y = x1*a1 + x2*a2 + x3*a3 + x4*a4"
   ]
  },
  {
   "cell_type": "code",
   "execution_count": 12,
   "id": "a685bf53-47b4-4cc2-957c-49e09f5760b0",
   "metadata": {},
   "outputs": [
    {
     "data": {
      "text/plain": [
       "398.10979650296633"
      ]
     },
     "execution_count": 12,
     "metadata": {},
     "output_type": "execute_result"
    }
   ],
   "source": [
    "np.sum(y)"
   ]
  },
  {
   "cell_type": "code",
   "execution_count": 13,
   "id": "2cdacf23-34e4-4489-9606-ede72c259238",
   "metadata": {},
   "outputs": [],
   "source": [
    "X = np.c_[x1,x2,x3,x4]"
   ]
  },
  {
   "cell_type": "code",
   "execution_count": 14,
   "id": "4b3a52c8-4802-4833-84f4-43fefb7d41dd",
   "metadata": {},
   "outputs": [
    {
     "data": {
      "text/plain": [
       "(4, 1)"
      ]
     },
     "execution_count": 14,
     "metadata": {},
     "output_type": "execute_result"
    }
   ],
   "source": [
    "W = np.r_[[[a1],[a2],[a3],[a4]]]\n",
    "W.shape"
   ]
  },
  {
   "cell_type": "code",
   "execution_count": 15,
   "id": "1a004024-03a6-4e3f-b055-f2b3699a67c5",
   "metadata": {},
   "outputs": [
    {
     "data": {
      "text/plain": [
       "398.10979650296633"
      ]
     },
     "execution_count": 15,
     "metadata": {},
     "output_type": "execute_result"
    }
   ],
   "source": [
    "np.sum(np.dot(X,W))"
   ]
  },
  {
   "cell_type": "code",
   "execution_count": 16,
   "id": "eff8d512-2efe-49d7-8b7d-90d829b03b63",
   "metadata": {},
   "outputs": [],
   "source": [
    "X = np.random.randn(100,4)\n",
    "W = np.array([[10],[20],[30],[40]])\n",
    "b = 1000\n",
    "y = np.dot(X,W) + b"
   ]
  },
  {
   "cell_type": "code",
   "execution_count": 17,
   "id": "e1fb06a2-5094-4637-8ce3-03dda199ac64",
   "metadata": {},
   "outputs": [],
   "source": [
    "W_hat = np.random.randn(4,1)\n",
    "b_hat = 0"
   ]
  },
  {
   "cell_type": "code",
   "execution_count": 18,
   "id": "3a8b1049-cb5b-4cef-b1de-ef627fdb778f",
   "metadata": {},
   "outputs": [
    {
     "data": {
      "text/plain": [
       "array([-1.43757034,  3.42513149,  2.35439505])"
      ]
     },
     "execution_count": 18,
     "metadata": {},
     "output_type": "execute_result"
    }
   ],
   "source": [
    "np.sum(np.random.randn(100,3),axis=0)"
   ]
  },
  {
   "cell_type": "code",
   "execution_count": 19,
   "id": "ba091053-589d-48e4-bc7c-a3652559430c",
   "metadata": {},
   "outputs": [],
   "source": [
    "epochs = 1000\n",
    "learning_rate = 1e-3\n",
    "for _ in range(epochs):\n",
    "    y_hat = np.dot(X,W_hat) + b_hat\n",
    "    err = np.mean((y - y_hat)**2)\n",
    "    diff_w = np.dot(X.T,(y_hat - y))\n",
    "    diff_b = np.mean(2*(y_hat - y))\n",
    "    W_hat -= diff_w*learning_rate\n",
    "    b_hat -= diff_b*learning_rate"
   ]
  },
  {
   "cell_type": "code",
   "execution_count": 20,
   "id": "8def517c-4d96-4c38-9fed-6fdd773b533d",
   "metadata": {},
   "outputs": [
    {
     "data": {
      "text/plain": [
       "837.3214592206281"
      ]
     },
     "execution_count": 20,
     "metadata": {},
     "output_type": "execute_result"
    }
   ],
   "source": [
    "b_hat"
   ]
  },
  {
   "cell_type": "code",
   "execution_count": 21,
   "id": "8cd69327-53e4-410d-a2ef-302095a5ebba",
   "metadata": {},
   "outputs": [
    {
     "data": {
      "text/plain": [
       "array([[-27.70612171],\n",
       "       [ 59.74494206],\n",
       "       [ 28.33457914],\n",
       "       [ 60.49635922]])"
      ]
     },
     "execution_count": 21,
     "metadata": {},
     "output_type": "execute_result"
    }
   ],
   "source": [
    "W_hat"
   ]
  },
  {
   "cell_type": "code",
   "execution_count": 22,
   "id": "eee1e83a-c585-4981-b411-5e5ef71387f4",
   "metadata": {},
   "outputs": [],
   "source": [
    "X = np.random.randn(100,1)\n",
    "W = 1100\n",
    "y = X*W"
   ]
  },
  {
   "cell_type": "code",
   "execution_count": 23,
   "id": "e03f42bd-a15c-4f3d-81c2-a32f0c051dda",
   "metadata": {},
   "outputs": [],
   "source": [
    "def diff(f,x):\n",
    "    h = 1e-7\n",
    "    fx = f(x)\n",
    "    fxh = f(x+h)\n",
    "    return (fxh - fx)/h"
   ]
  },
  {
   "cell_type": "code",
   "execution_count": 24,
   "id": "8fe97018-6dfb-4e77-b6cc-305824d0b340",
   "metadata": {},
   "outputs": [
    {
     "data": {
      "text/plain": [
       "20.999999890136678"
      ]
     },
     "execution_count": 24,
     "metadata": {},
     "output_type": "execute_result"
    }
   ],
   "source": [
    "f = lambda x :x**2 + x\n",
    "diff(f,10)"
   ]
  },
  {
   "cell_type": "code",
   "execution_count": 25,
   "id": "fdbb5d3f-0cfd-4eff-b73e-5217cab3401a",
   "metadata": {},
   "outputs": [],
   "source": [
    "W_hat = np.random.randn(1)"
   ]
  },
  {
   "cell_type": "code",
   "execution_count": 26,
   "id": "3dadc144-73d5-4ebb-b3c1-db1f492c9097",
   "metadata": {},
   "outputs": [
    {
     "data": {
      "text/plain": [
       "array([-0.42209593])"
      ]
     },
     "execution_count": 26,
     "metadata": {},
     "output_type": "execute_result"
    }
   ],
   "source": [
    "W_hat"
   ]
  },
  {
   "cell_type": "code",
   "execution_count": 27,
   "id": "582c33ee-16d6-4a60-a901-c6907132560b",
   "metadata": {},
   "outputs": [],
   "source": [
    "def err(W_hat):\n",
    "    y_hat = X*W_hat\n",
    "    return np.sum((y_hat-y)**2)\n",
    "epochs = 10000\n",
    "learning_rate = 1e-3\n",
    "for _ in range(epochs):\n",
    "    y_hat = X*W_hat\n",
    "    W_hat -= diff(err,W_hat)*learning_rate"
   ]
  },
  {
   "cell_type": "code",
   "execution_count": 28,
   "id": "571e4b67-7d18-4d0a-9763-83dd222f3992",
   "metadata": {},
   "outputs": [],
   "source": [
    "X = np.random.randn(100,1)\n",
    "W = 100\n",
    "b = -100\n",
    "y = X*W + b"
   ]
  },
  {
   "cell_type": "code",
   "execution_count": 29,
   "id": "c3bedfcb-aeda-451a-9885-c97bcda718e9",
   "metadata": {},
   "outputs": [],
   "source": [
    "W_hat = np.random.randn(1)\n",
    "b_hat = 0"
   ]
  },
  {
   "cell_type": "code",
   "execution_count": 30,
   "id": "509262af-6182-4b83-a228-bce6b774ecad",
   "metadata": {},
   "outputs": [],
   "source": [
    "def diff(f,x):\n",
    "    h = 1e-4\n",
    "    fx = f(x)\n",
    "    fxh = f(x+h)\n",
    "    return (fxh-fx)/h"
   ]
  },
  {
   "cell_type": "code",
   "execution_count": 31,
   "id": "728aac88-4898-46b0-b43f-b1e7e92e3cb9",
   "metadata": {},
   "outputs": [],
   "source": [
    "W_hat = 0"
   ]
  },
  {
   "cell_type": "code",
   "execution_count": 32,
   "id": "f500c8ab-c980-46d2-8718-85384c82bc63",
   "metadata": {},
   "outputs": [],
   "source": [
    "b_hat = 0"
   ]
  },
  {
   "cell_type": "code",
   "execution_count": 33,
   "id": "0a7a27d7-b57d-4ed9-83af-acd79715a55d",
   "metadata": {},
   "outputs": [],
   "source": [
    "def err(W_hat):\n",
    "    y_hat = X*W_hat + b_hat\n",
    "    return np.sum((y_hat-y)**2)\n",
    "learning_rate = 1e-3\n",
    "epochs = 10000\n",
    "for _ in range(epochs):\n",
    "    y_hat = X*W_hat + b_hat\n",
    "    W_hat -= diff(err,y_hat)*learning_rate\n",
    "\n",
    "for _ in range(epochs):\n",
    "    y_hat = X*W_hat + b_hat\n",
    "    b_hat -= diff(err,y_hat)*learning_rate"
   ]
  },
  {
   "cell_type": "code",
   "execution_count": 34,
   "id": "0e25fcd1-bfc3-406f-ac7e-0d974ce6fb62",
   "metadata": {},
   "outputs": [
    {
     "data": {
      "text/plain": [
       "346.8852319661528"
      ]
     },
     "execution_count": 34,
     "metadata": {},
     "output_type": "execute_result"
    }
   ],
   "source": [
    "W_hat"
   ]
  },
  {
   "cell_type": "code",
   "execution_count": 35,
   "id": "058dd815-dbad-45b8-b6ca-4ba7109b1bd4",
   "metadata": {},
   "outputs": [
    {
     "data": {
      "text/plain": [
       "0.0"
      ]
     },
     "execution_count": 35,
     "metadata": {},
     "output_type": "execute_result"
    }
   ],
   "source": [
    "b_hat"
   ]
  },
  {
   "cell_type": "code",
   "execution_count": 36,
   "id": "b6e3fff6-8776-4d6b-b5a9-4cae01c7abb1",
   "metadata": {},
   "outputs": [],
   "source": [
    "X = np.random.randn(100,1)\n",
    "W = 100\n",
    "b = -100\n",
    "y = X*W + b"
   ]
  },
  {
   "cell_type": "code",
   "execution_count": 37,
   "id": "14f41898-b843-4699-aac0-faf9416ae96e",
   "metadata": {},
   "outputs": [],
   "source": [
    "def error(y_hat):\n",
    "    return np.mean((y_hat-y)**2)"
   ]
  },
  {
   "cell_type": "code",
   "execution_count": 38,
   "id": "6a03ae67-b6e6-4da0-82e2-3da118acbbc1",
   "metadata": {},
   "outputs": [],
   "source": [
    "W_hat = 0\n",
    "b_hat = 0"
   ]
  },
  {
   "cell_type": "code",
   "execution_count": 39,
   "id": "d6434629-b49a-4155-b09f-d54b8e454dbe",
   "metadata": {},
   "outputs": [
    {
     "data": {
      "text/plain": [
       "0"
      ]
     },
     "execution_count": 39,
     "metadata": {},
     "output_type": "execute_result"
    }
   ],
   "source": [
    "W_hat"
   ]
  },
  {
   "cell_type": "code",
   "execution_count": 40,
   "id": "1aaa01ad-5b19-455d-b6c4-ccb56e72b9d5",
   "metadata": {},
   "outputs": [
    {
     "data": {
      "text/plain": [
       "0"
      ]
     },
     "execution_count": 40,
     "metadata": {},
     "output_type": "execute_result"
    }
   ],
   "source": [
    "b_hat"
   ]
  },
  {
   "cell_type": "code",
   "execution_count": 41,
   "id": "a761c6fd-4d7c-4adc-b00b-0c559ce0b0e1",
   "metadata": {},
   "outputs": [],
   "source": [
    "def error(W_hat):\n",
    "    y_hat = X*W_hat + b_hat\n",
    "    return np.mean((y_hat-y)**2)"
   ]
  },
  {
   "cell_type": "code",
   "execution_count": 42,
   "id": "0c239e82-5afa-4f90-a547-b04b257f60bc",
   "metadata": {},
   "outputs": [],
   "source": [
    "def error2(b_hat):\n",
    "    y_hat = X*W_hat + b_hat\n",
    "    return np.mean((y_hat-y)**2)"
   ]
  },
  {
   "cell_type": "code",
   "execution_count": 43,
   "id": "2b29ef62-dc40-4bd9-b329-899aac04a1eb",
   "metadata": {},
   "outputs": [],
   "source": [
    "def diff(f,w,b):\n",
    "    h = 1e-4\n",
    "    fx = f(x)\n",
    "    fxh = f(x+h)\n",
    "    return (fxh-fx)/h"
   ]
  },
  {
   "cell_type": "code",
   "execution_count": 44,
   "id": "a1743906-9d4c-41e3-8909-1a547d0c20f2",
   "metadata": {},
   "outputs": [],
   "source": [
    "## 초기값\n",
    "X = np.random.randn(1000,1)\n",
    "W = 100\n",
    "b = 150\n",
    "y = X*W + b\n",
    "## 학습을 위한 초기값\n",
    "W_hat = np.random.randn(1)\n",
    "b_hat = np.random.randn(1)\n",
    "## cost 함수(error)\n",
    "\n",
    "def cost_a(W_hat):\n",
    "    y_hat = X*W_hat + b_hat\n",
    "    return np.mean((y-y_hat)**2)\n",
    "def cost_b(b_hat):\n",
    "    y_hat = X*W_hat + b_hat\n",
    "    return np.mean((y-y_hat)**2)\n",
    "\n",
    "## 미분함수\n",
    "def diff(f,x):\n",
    "    h = 1e-4\n",
    "    fx = f(x)\n",
    "    fxh = f(x+h)\n",
    "    return (fxh - fx)/h"
   ]
  },
  {
   "cell_type": "code",
   "execution_count": 45,
   "id": "f13d1549-eb53-4b24-ab5a-3dd7aa0e5301",
   "metadata": {},
   "outputs": [],
   "source": [
    "epochs = 10000\n",
    "lr = 1e-3\n",
    "for _ in range(epochs):\n",
    "    y_hat = X*W_hat + b_hat\n",
    "    W_hat -= diff(cost_a,W_hat)*lr\n",
    "    b_hat -= diff(cost_b,b_hat)*lr"
   ]
  },
  {
   "cell_type": "code",
   "execution_count": 46,
   "id": "5f181ff7-d43a-4542-8505-8287d4b39f84",
   "metadata": {},
   "outputs": [],
   "source": [
    "def cost(W,b):\n",
    "    y_hat = X*W + b\n",
    "    return np.mean((y_hat - y)**2)\n",
    "\n",
    "def diff(f,W,b):\n",
    "    h = 1e-4\n",
    "    fx_w = f(W,b)\n",
    "    fxh_w = f(W+h,b)\n",
    "    fx_b = f(W,b)\n",
    "    fxh_b = f(W,b+h)\n",
    "    dW = (fxh_w - fx_w)/h\n",
    "    db = (fxh_b-fx_b)/h\n",
    "    return dW, db"
   ]
  },
  {
   "cell_type": "code",
   "execution_count": 47,
   "id": "21f71141-d3a9-467f-8b61-5afd983e3e01",
   "metadata": {},
   "outputs": [],
   "source": [
    "X = np.random.randn(1000,1)\n",
    "W = 1230\n",
    "b = -19\n",
    "y = X*W + b"
   ]
  },
  {
   "cell_type": "code",
   "execution_count": 48,
   "id": "8de4f610-997a-45df-a387-011b42bf971c",
   "metadata": {},
   "outputs": [],
   "source": [
    "W_hat = np.random.randn(1)\n",
    "b_hat = 0"
   ]
  },
  {
   "cell_type": "code",
   "execution_count": 49,
   "id": "099afd94-f68d-418d-b167-2198380091bd",
   "metadata": {},
   "outputs": [
    {
     "data": {
      "text/plain": [
       "(array([1.2308058]), 0)"
      ]
     },
     "execution_count": 49,
     "metadata": {},
     "output_type": "execute_result"
    }
   ],
   "source": [
    "W_hat, b_hat"
   ]
  },
  {
   "cell_type": "code",
   "execution_count": 50,
   "id": "41779f2c-9e29-4cc1-863e-0a8b4500f127",
   "metadata": {},
   "outputs": [
    {
     "name": "stdout",
     "output_type": "stream",
     "text": [
      "[1229.99993503] -19.0000519359408\n"
     ]
    }
   ],
   "source": [
    "lr = 1e-3\n",
    "epochs = 10000\n",
    "for _ in range(epochs):\n",
    "    W_hat -= diff(cost,W_hat,b_hat)[0]*lr\n",
    "    b_hat -= diff(cost,W_hat,b_hat)[1]*lr\n",
    "print(W_hat, b_hat)"
   ]
  },
  {
   "cell_type": "code",
   "execution_count": 51,
   "id": "8dd291b8-c842-40da-a923-9a2706d62d6d",
   "metadata": {},
   "outputs": [],
   "source": [
    "W = np.array([[7],[17],[8],[5]])"
   ]
  },
  {
   "cell_type": "code",
   "execution_count": 52,
   "id": "257ee53b-189d-4dbe-b330-842fa9f6a57c",
   "metadata": {},
   "outputs": [],
   "source": [
    "b = 22"
   ]
  },
  {
   "cell_type": "code",
   "execution_count": 53,
   "id": "b1d0f951-d90c-4c21-b1f3-56fa0115d137",
   "metadata": {},
   "outputs": [],
   "source": [
    "X = np.random.randn(1000,4)\n",
    "y = np.dot(X,W) + b"
   ]
  },
  {
   "cell_type": "code",
   "execution_count": 54,
   "id": "92f052ae-e8db-48fb-9648-a4661739c2ba",
   "metadata": {},
   "outputs": [],
   "source": [
    "W_hat = np.random.randn(4,1)\n",
    "b_hat = 0"
   ]
  },
  {
   "cell_type": "code",
   "execution_count": 55,
   "id": "d950834e-c6a2-45e4-b5ea-e0a3b154c3bd",
   "metadata": {},
   "outputs": [],
   "source": [
    "y_hat = np.dot(X,W_hat) + b_hat"
   ]
  },
  {
   "cell_type": "code",
   "execution_count": 56,
   "id": "af130595-4a2c-4ac4-9ede-24b9b2559b48",
   "metadata": {},
   "outputs": [],
   "source": [
    "def cost(W_hat,b_hat):\n",
    "    y_hat = np.dot(X,W_hat) + b_hat\n",
    "    return np.mean((y_hat-y)**2)"
   ]
  },
  {
   "cell_type": "code",
   "execution_count": 57,
   "id": "536f095d-a5a4-4a73-b3bb-64f0173d4b1b",
   "metadata": {},
   "outputs": [],
   "source": [
    "def diff(f,W_hat,b_hat):\n",
    "    h = 1e-4\n",
    "    dW = np.zeros_like(W_hat)\n",
    "    for i in range(W_hat.shape[0]):\n",
    "        for j in range(W_hat.shape[1]):\n",
    "            fx = f(W_hat,b_hat)\n",
    "            tmp = W_hat[i,j]\n",
    "            W_hat[i,j] = tmp + h\n",
    "            fxh = f(W_hat,b_hat)\n",
    "            dW[i,j] = (fxh - fx)/h\n",
    "            W_hat[i,j] = tmp\n",
    "    fx = f(W_hat,b_hat)\n",
    "    fxh = f(W_hat,b_hat+h)\n",
    "    db = (fxh - fx)/h       \n",
    "    return dW, db"
   ]
  },
  {
   "cell_type": "code",
   "execution_count": 58,
   "id": "d1a52004-721a-43ec-9668-f6e31fc7688e",
   "metadata": {},
   "outputs": [],
   "source": [
    "lr = 1e-3\n",
    "for _ in range(10000):\n",
    "    W_hat -= diff(cost,W_hat,b_hat)[0]*lr\n",
    "    b_hat -= diff(cost,W_hat,b_hat)[1]*lr"
   ]
  },
  {
   "cell_type": "code",
   "execution_count": 59,
   "id": "9c9cd7ae-8c48-484b-a8b0-0356a4ec1368",
   "metadata": {},
   "outputs": [],
   "source": [
    "## 1. 가설함수 설정\n",
    "## 2. 가설함수를 사용하여 예측값을 구한다.\n",
    "## 3. 예측값과 실제값을 오차함수를 통해 오차를 구한다.\n",
    "## 4. 오차함수를 미분\n",
    "## 5. 미분값을 lr 곱해서 빼준후 파라메터를 업데이트한다\n",
    "## 6. 1 ~5번을 반복\n"
   ]
  },
  {
   "cell_type": "code",
   "execution_count": 60,
   "id": "385e301d-6424-43d7-8724-c4d6ce52ba87",
   "metadata": {},
   "outputs": [
    {
     "data": {
      "text/plain": [
       "array([[ 6.9999496 ],\n",
       "       [16.99994681],\n",
       "       [ 7.9999511 ],\n",
       "       [ 4.99994653]])"
      ]
     },
     "execution_count": 60,
     "metadata": {},
     "output_type": "execute_result"
    }
   ],
   "source": [
    "W_hat"
   ]
  },
  {
   "cell_type": "code",
   "execution_count": 61,
   "id": "6201bb43-8349-4da0-969f-bf6107b96661",
   "metadata": {},
   "outputs": [
    {
     "data": {
      "text/plain": [
       "21.999945499204124"
      ]
     },
     "execution_count": 61,
     "metadata": {},
     "output_type": "execute_result"
    }
   ],
   "source": [
    "b_hat"
   ]
  },
  {
   "cell_type": "code",
   "execution_count": 62,
   "id": "3b746fa6-d8c3-48b9-aee5-06d9c028adbc",
   "metadata": {},
   "outputs": [],
   "source": [
    "def sigmoid(x):\n",
    "    return 1/(1+np.exp(-x))"
   ]
  },
  {
   "cell_type": "code",
   "execution_count": 63,
   "id": "f3a24b81-a46f-4707-ac5c-a473bcc4cd82",
   "metadata": {},
   "outputs": [],
   "source": [
    "x = np.linspace(-5,5,100)"
   ]
  },
  {
   "cell_type": "code",
   "execution_count": 64,
   "id": "5f593723-0138-4bb3-929d-8e2e6382a633",
   "metadata": {},
   "outputs": [],
   "source": [
    "y = sigmoid(x)"
   ]
  },
  {
   "cell_type": "code",
   "execution_count": 65,
   "id": "1fa5479b-ef9d-41ba-892b-0e788f74bf6e",
   "metadata": {},
   "outputs": [],
   "source": [
    "import matplotlib.pyplot as plt"
   ]
  },
  {
   "cell_type": "code",
   "execution_count": 66,
   "id": "f2d52d57-d5b4-4e73-a323-935d18b2045a",
   "metadata": {},
   "outputs": [
    {
     "data": {
      "text/plain": [
       "[<matplotlib.lines.Line2D at 0x17c7fb9cb50>]"
      ]
     },
     "execution_count": 66,
     "metadata": {},
     "output_type": "execute_result"
    },
    {
     "name": "stderr",
     "output_type": "stream",
     "text": [
      "C:\\Users\\admin\\AppData\\Roaming\\Python\\Python311\\site-packages\\IPython\\core\\events.py:89: UserWarning: Glyph 8722 (\\N{MINUS SIGN}) missing from current font.\n",
      "  func(*args, **kwargs)\n",
      "C:\\Users\\admin\\AppData\\Roaming\\Python\\Python311\\site-packages\\IPython\\core\\pylabtools.py:152: UserWarning: Glyph 8722 (\\N{MINUS SIGN}) missing from current font.\n",
      "  fig.canvas.print_figure(bytes_io, **kw)\n"
     ]
    },
    {
     "data": {
      "image/png": "[encoded data removed]",
      "text/plain": [
       "<Figure size 640x480 with 1 Axes>"
      ]
     },
     "metadata": {},
     "output_type": "display_data"
    }
   ],
   "source": [
    "plt.plot(x,y)"
   ]
  },
  {
   "cell_type": "code",
   "execution_count": 67,
   "id": "bac54ecc-2c1b-49dd-af86-b83ce8bfc16a",
   "metadata": {},
   "outputs": [],
   "source": [
    "x = np.arange(1,101)"
   ]
  },
  {
   "cell_type": "code",
   "execution_count": 68,
   "id": "c2311129-e4cf-47fb-9c20-7a83c53770b8",
   "metadata": {},
   "outputs": [
    {
     "data": {
      "text/plain": [
       "[<matplotlib.lines.Line2D at 0x17c7fddedd0>]"
      ]
     },
     "execution_count": 68,
     "metadata": {},
     "output_type": "execute_result"
    },
    {
     "data": {
      "image/png": "[encoded data removed]",
      "text/plain": [
       "<Figure size 640x480 with 1 Axes>"
      ]
     },
     "metadata": {},
     "output_type": "display_data"
    }
   ],
   "source": [
    "prob = lambda x : (x*(100-x))/(100)**2\n",
    "plt.plot(x, prob(x))"
   ]
  },
  {
   "cell_type": "code",
   "execution_count": 69,
   "id": "1854a17d-5baa-4004-a1dc-4523b0272165",
   "metadata": {},
   "outputs": [],
   "source": [
    "import numpy as np\n",
    "def monti(stratage):\n",
    "    windows = np.arange(3)\n",
    "    win_window = np.random.choice(windows,1)\n",
    "    user_window = np.random.choice(windows,1)\n",
    "    if win_window == user_window:\n",
    "        open_window = windows[windows != user_window][0]\n",
    "    else:\n",
    "        open_window = windows[(windows != user_window) & (windows != win_window)]\n",
    "    if stratage == 'change':\n",
    "        choice_window = windows[(windows != user_window) & (windows != open_window)]\n",
    "    elif stratage == 'random':\n",
    "        choice_window = np.random.choice(windows[windows != open_window],1)\n",
    "    else:\n",
    "        choice_window = user_window\n",
    "    return choice_window == win_window"
   ]
  },
  {
   "cell_type": "code",
   "execution_count": 70,
   "id": "f501505b-a0d3-46b7-bb14-b85b7934f2fa",
   "metadata": {},
   "outputs": [
    {
     "data": {
      "text/plain": [
       "array([0.358])"
      ]
     },
     "execution_count": 70,
     "metadata": {},
     "output_type": "execute_result"
    }
   ],
   "source": [
    "s = 0\n",
    "for _ in range(1000):\n",
    "    s += monti('jgh')\n",
    "s/1000"
   ]
  },
  {
   "cell_type": "code",
   "execution_count": 71,
   "id": "85f471fa-5326-4720-8e9a-204c70875228",
   "metadata": {},
   "outputs": [],
   "source": [
    "score = np.random.randint(50,101,1000)"
   ]
  },
  {
   "cell_type": "code",
   "execution_count": 72,
   "id": "cc57921a-b75c-4a3f-8555-0bb843e581b4",
   "metadata": {},
   "outputs": [],
   "source": [
    "## 90 이상이면 A\n",
    "## 89 ~ 80 이면 B\n",
    "## 79 ~ 70 C\n",
    "## 69 이하면 D\n",
    "score_class = []\n",
    "for s in score:\n",
    "    if s >= 90:\n",
    "        score_class.append('A')\n",
    "    elif s >= 80:\n",
    "        score_class.append('B')\n",
    "    elif s >= 70:\n",
    "        score_class.append('C')\n",
    "    else:\n",
    "        score_class.append('D')"
   ]
  },
  {
   "cell_type": "code",
   "execution_count": 73,
   "id": "02f17a8a-e9bf-468f-9d2b-dc6bf056b56b",
   "metadata": {},
   "outputs": [],
   "source": [
    "x = np.random.choice([0,1],100)"
   ]
  },
  {
   "cell_type": "code",
   "execution_count": 74,
   "id": "f5854ffe-3c9c-460e-93b2-88c97e47bd91",
   "metadata": {},
   "outputs": [],
   "source": [
    "bool_x = []\n",
    "for i in x:\n",
    "    if i == 0:\n",
    "        bool_x.append(False)\n",
    "    else:\n",
    "        bool_x.append(True)"
   ]
  },
  {
   "cell_type": "code",
   "execution_count": 75,
   "id": "bc744bec-789e-4dd4-ab96-0e1435e93f61",
   "metadata": {},
   "outputs": [],
   "source": [
    "bool_x = np.where(x == 0,False,True)"
   ]
  },
  {
   "cell_type": "code",
   "execution_count": 76,
   "id": "39aac81b-6030-452f-a2d2-f0c2321618ae",
   "metadata": {},
   "outputs": [],
   "source": [
    "score_class = np.where(score >=90,'A',\n",
    "                       np.where(score >= 80,'B',np.where(score >= 70,'C','D')))"
   ]
  },
  {
   "cell_type": "code",
   "execution_count": 77,
   "id": "f60aa3a0-6684-4768-bf39-1a2b23d80df5",
   "metadata": {},
   "outputs": [
    {
     "data": {
      "text/plain": [
       "array(['C', 'A', 'B', 'A', 'A', 'B', 'C', 'D', 'A', 'C', 'A', 'A', 'D',\n",
       "       'D', 'D', 'A', 'D', 'D', 'D', 'B', 'B', 'D', 'C', 'D', 'C', 'D',\n",
       "       'D', 'C', 'B', 'C', 'D', 'D', 'A', 'D', 'D', 'C', 'D', 'C', 'A',\n",
       "       'D', 'A', 'B', 'B', 'D', 'D', 'C', 'B', 'B', 'A', 'C', 'B', 'D',\n",
       "       'C', 'D', 'B', 'C', 'A', 'A', 'B', 'C', 'D', 'A', 'A', 'C', 'A',\n",
       "       'D', 'A', 'C', 'B', 'A', 'C', 'B', 'D', 'A', 'B', 'D', 'B', 'C',\n",
       "       'D', 'D', 'D', 'D', 'C', 'D', 'B', 'A', 'D', 'B', 'B', 'C', 'D',\n",
       "       'A', 'D', 'D', 'B', 'C', 'A', 'B', 'C', 'A', 'D', 'D', 'C', 'C',\n",
       "       'B', 'D', 'D', 'C', 'D', 'A', 'D', 'B', 'C', 'C', 'D', 'D', 'B',\n",
       "       'A', 'D', 'B', 'D', 'A', 'C', 'D', 'A', 'B', 'B', 'C', 'D', 'D',\n",
       "       'C', 'D', 'B', 'D', 'B', 'D', 'D', 'A', 'D', 'D', 'D', 'C', 'B',\n",
       "       'D', 'A', 'A', 'D', 'A', 'D', 'D', 'A', 'D', 'A', 'C', 'D', 'B',\n",
       "       'D', 'B', 'B', 'B', 'A', 'D', 'C', 'D', 'A', 'B', 'D', 'C', 'B',\n",
       "       'A', 'B', 'C', 'D', 'D', 'D', 'C', 'D', 'C', 'A', 'B', 'A', 'D',\n",
       "       'D', 'C', 'C', 'C', 'D', 'D', 'A', 'D', 'A', 'A', 'A', 'D', 'C',\n",
       "       'C', 'C', 'D', 'A', 'B', 'D', 'B', 'A', 'D', 'D', 'D', 'A', 'C',\n",
       "       'D', 'B', 'B', 'A', 'D', 'A', 'B', 'A', 'C', 'C', 'A', 'A', 'A',\n",
       "       'B', 'A', 'A', 'D', 'D', 'D', 'A', 'B', 'A', 'A', 'A', 'C', 'A',\n",
       "       'D', 'D', 'C', 'D', 'D', 'C', 'D', 'C', 'D', 'D', 'B', 'D', 'A',\n",
       "       'A', 'B', 'A', 'D', 'D', 'A', 'B', 'B', 'D', 'D', 'A', 'A', 'D',\n",
       "       'D', 'D', 'D', 'A', 'B', 'C', 'D', 'D', 'D', 'D', 'A', 'D', 'B',\n",
       "       'D', 'A', 'C', 'C', 'A', 'A', 'C', 'B', 'B', 'A', 'B', 'A', 'C',\n",
       "       'B', 'D', 'B', 'D', 'D', 'B', 'D', 'D', 'A', 'A', 'C', 'D', 'C',\n",
       "       'A', 'D', 'B', 'D', 'A', 'C', 'D', 'B', 'A', 'C', 'A', 'B', 'D',\n",
       "       'A', 'A', 'D', 'B', 'A', 'A', 'D', 'A', 'A', 'D', 'C', 'D', 'B',\n",
       "       'C', 'B', 'D', 'D', 'D', 'B', 'B', 'C', 'D', 'D', 'B', 'C', 'C',\n",
       "       'D', 'C', 'C', 'B', 'C', 'B', 'D', 'D', 'D', 'A', 'D', 'B', 'A',\n",
       "       'C', 'D', 'D', 'B', 'C', 'C', 'D', 'B', 'C', 'D', 'D', 'D', 'D',\n",
       "       'A', 'C', 'C', 'D', 'D', 'A', 'C', 'D', 'C', 'C', 'C', 'A', 'B',\n",
       "       'D', 'C', 'B', 'D', 'B', 'D', 'A', 'D', 'A', 'B', 'B', 'A', 'D',\n",
       "       'A', 'B', 'D', 'B', 'C', 'D', 'C', 'D', 'A', 'B', 'D', 'D', 'A',\n",
       "       'C', 'C', 'C', 'A', 'D', 'D', 'C', 'A', 'A', 'A', 'C', 'C', 'C',\n",
       "       'B', 'C', 'B', 'B', 'D', 'D', 'D', 'B', 'B', 'D', 'B', 'A', 'A',\n",
       "       'B', 'C', 'A', 'A', 'B', 'D', 'C', 'D', 'D', 'C', 'B', 'D', 'D',\n",
       "       'C', 'A', 'D', 'A', 'C', 'D', 'D', 'B', 'C', 'D', 'A', 'D', 'B',\n",
       "       'A', 'D', 'A', 'C', 'C', 'D', 'D', 'C', 'A', 'D', 'B', 'A', 'B',\n",
       "       'B', 'B', 'D', 'C', 'B', 'D', 'D', 'D', 'C', 'A', 'D', 'B', 'B',\n",
       "       'A', 'D', 'A', 'D', 'D', 'D', 'D', 'D', 'B', 'A', 'C', 'B', 'D',\n",
       "       'A', 'B', 'D', 'D', 'A', 'C', 'D', 'D', 'D', 'A', 'B', 'D', 'D',\n",
       "       'D', 'B', 'C', 'A', 'D', 'A', 'A', 'D', 'D', 'A', 'C', 'B', 'D',\n",
       "       'D', 'D', 'B', 'D', 'D', 'A', 'C', 'A', 'D', 'D', 'B', 'D', 'D',\n",
       "       'D', 'D', 'A', 'C', 'D', 'C', 'B', 'D', 'C', 'C', 'B', 'B', 'C',\n",
       "       'A', 'D', 'C', 'D', 'D', 'C', 'D', 'A', 'B', 'B', 'C', 'D', 'D',\n",
       "       'D', 'D', 'A', 'C', 'D', 'D', 'C', 'D', 'B', 'D', 'D', 'C', 'D',\n",
       "       'A', 'D', 'B', 'A', 'D', 'D', 'B', 'A', 'B', 'D', 'D', 'D', 'D',\n",
       "       'B', 'C', 'D', 'B', 'D', 'A', 'B', 'C', 'B', 'D', 'C', 'D', 'D',\n",
       "       'C', 'B', 'D', 'B', 'D', 'D', 'B', 'A', 'D', 'C', 'A', 'A', 'D',\n",
       "       'D', 'D', 'C', 'D', 'C', 'D', 'D', 'B', 'A', 'A', 'C', 'D', 'B',\n",
       "       'D', 'A', 'D', 'C', 'B', 'D', 'A', 'D', 'C', 'B', 'B', 'A', 'A',\n",
       "       'B', 'B', 'D', 'C', 'C', 'B', 'A', 'A', 'D', 'A', 'C', 'D', 'C',\n",
       "       'C', 'D', 'D', 'A', 'B', 'A', 'C', 'B', 'C', 'D', 'C', 'C', 'B',\n",
       "       'A', 'B', 'B', 'D', 'D', 'D', 'A', 'C', 'A', 'A', 'C', 'D', 'D',\n",
       "       'A', 'D', 'C', 'D', 'C', 'D', 'D', 'D', 'A', 'D', 'D', 'D', 'C',\n",
       "       'D', 'C', 'C', 'D', 'B', 'D', 'B', 'C', 'D', 'D', 'A', 'C', 'C',\n",
       "       'C', 'B', 'D', 'D', 'D', 'A', 'D', 'C', 'C', 'D', 'D', 'C', 'C',\n",
       "       'A', 'A', 'D', 'A', 'A', 'C', 'D', 'D', 'A', 'D', 'B', 'A', 'D',\n",
       "       'A', 'B', 'D', 'C', 'A', 'A', 'C', 'C', 'D', 'D', 'C', 'A', 'D',\n",
       "       'D', 'D', 'B', 'C', 'D', 'C', 'D', 'A', 'D', 'A', 'B', 'C', 'B',\n",
       "       'D', 'B', 'D', 'A', 'B', 'D', 'D', 'B', 'D', 'A', 'D', 'B', 'D',\n",
       "       'C', 'C', 'B', 'D', 'B', 'A', 'D', 'C', 'D', 'D', 'A', 'A', 'A',\n",
       "       'C', 'A', 'D', 'D', 'D', 'A', 'B', 'B', 'D', 'D', 'A', 'A', 'C',\n",
       "       'A', 'A', 'B', 'C', 'B', 'A', 'B', 'A', 'A', 'B', 'D', 'D', 'D',\n",
       "       'D', 'D', 'A', 'A', 'A', 'C', 'B', 'B', 'C', 'B', 'B', 'C', 'D',\n",
       "       'B', 'D', 'B', 'B', 'C', 'B', 'D', 'C', 'B', 'D', 'D', 'A', 'C',\n",
       "       'B', 'C', 'B', 'D', 'D', 'D', 'A', 'B', 'C', 'D', 'D', 'D', 'C',\n",
       "       'D', 'A', 'B', 'A', 'B', 'A', 'D', 'B', 'C', 'B', 'D', 'D', 'B',\n",
       "       'A', 'D', 'D', 'C', 'A', 'D', 'D', 'B', 'B', 'D', 'D', 'D', 'D',\n",
       "       'D', 'B', 'D', 'C', 'D', 'D', 'A', 'A', 'C', 'C', 'D', 'D', 'C',\n",
       "       'D', 'D', 'B', 'C', 'A', 'D', 'A', 'C', 'D', 'C', 'C', 'D', 'B',\n",
       "       'C', 'C', 'A', 'D', 'D', 'A', 'D', 'C', 'D', 'D', 'A', 'D', 'A',\n",
       "       'C', 'A', 'A', 'C', 'D', 'B', 'C', 'B', 'B', 'D', 'D', 'D', 'C',\n",
       "       'A', 'A', 'C', 'A', 'A', 'D', 'A', 'B', 'D', 'D', 'C', 'D', 'A',\n",
       "       'C', 'D', 'A', 'C', 'D', 'B', 'D', 'A', 'A', 'D', 'A', 'D', 'D',\n",
       "       'D', 'A', 'D', 'A', 'D', 'D', 'A', 'B', 'D', 'D', 'A', 'D', 'D',\n",
       "       'B', 'A', 'D', 'C', 'B', 'C', 'A', 'D', 'D', 'C', 'D', 'B', 'D',\n",
       "       'C', 'B', 'A', 'D', 'B', 'D', 'D', 'D', 'D', 'B', 'D', 'C', 'B',\n",
       "       'A', 'C', 'D', 'D', 'B', 'D', 'B', 'B', 'B', 'D', 'D', 'A'],\n",
       "      dtype='<U1')"
      ]
     },
     "execution_count": 77,
     "metadata": {},
     "output_type": "execute_result"
    }
   ],
   "source": [
    "score_class"
   ]
  },
  {
   "cell_type": "code",
   "execution_count": 78,
   "id": "903a46d1-f61b-492f-89cd-45b7db849831",
   "metadata": {},
   "outputs": [],
   "source": [
    "from functools import cache"
   ]
  },
  {
   "cell_type": "code",
   "execution_count": null,
   "id": "2fe91f4a-0a3e-41e7-94af-e0cdc9c18645",
   "metadata": {},
   "outputs": [],
   "source": []
  },
  {
   "cell_type": "code",
   "execution_count": 79,
   "id": "85639def-7ed1-439a-8897-7e33d12b84e6",
   "metadata": {},
   "outputs": [],
   "source": [
    "@cache\n",
    "def fibo(n):\n",
    "    if  n <= 1:\n",
    "        return n   \n",
    "    return fibo(n-1) + fibo(n-2)"
   ]
  },
  {
   "cell_type": "code",
   "execution_count": 80,
   "id": "52368fb0-1891-4886-873d-563075b08c70",
   "metadata": {
    "collapsed": true,
    "jupyter": {
     "outputs_hidden": true
    },
    "tags": []
   },
   "outputs": [
    {
     "name": "stdout",
     "output_type": "stream",
     "text": [
      "1번째 ===> 0\n",
      "2번째 ===> 1\n",
      "3번째 ===> 1\n",
      "4번째 ===> 2\n",
      "5번째 ===> 3\n",
      "6번째 ===> 5\n",
      "7번째 ===> 8\n",
      "8번째 ===> 13\n",
      "9번째 ===> 21\n",
      "10번째 ===> 34\n",
      "11번째 ===> 55\n",
      "12번째 ===> 89\n",
      "13번째 ===> 144\n",
      "14번째 ===> 233\n",
      "15번째 ===> 377\n",
      "16번째 ===> 610\n",
      "17번째 ===> 987\n",
      "18번째 ===> 1597\n",
      "19번째 ===> 2584\n",
      "20번째 ===> 4181\n",
      "21번째 ===> 6765\n",
      "22번째 ===> 10946\n",
      "23번째 ===> 17711\n",
      "24번째 ===> 28657\n",
      "25번째 ===> 46368\n",
      "26번째 ===> 75025\n",
      "27번째 ===> 121393\n",
      "28번째 ===> 196418\n",
      "29번째 ===> 317811\n",
      "30번째 ===> 514229\n",
      "31번째 ===> 832040\n",
      "32번째 ===> 1346269\n",
      "33번째 ===> 2178309\n",
      "34번째 ===> 3524578\n",
      "35번째 ===> 5702887\n",
      "36번째 ===> 9227465\n",
      "37번째 ===> 14930352\n",
      "38번째 ===> 24157817\n",
      "39번째 ===> 39088169\n",
      "40번째 ===> 63245986\n",
      "41번째 ===> 102334155\n",
      "42번째 ===> 165580141\n",
      "43번째 ===> 267914296\n",
      "44번째 ===> 433494437\n",
      "45번째 ===> 701408733\n",
      "46번째 ===> 1134903170\n",
      "47번째 ===> 1836311903\n",
      "48번째 ===> 2971215073\n",
      "49번째 ===> 4807526976\n",
      "50번째 ===> 7778742049\n",
      "51번째 ===> 12586269025\n",
      "52번째 ===> 20365011074\n",
      "53번째 ===> 32951280099\n",
      "54번째 ===> 53316291173\n",
      "55번째 ===> 86267571272\n",
      "56번째 ===> 139583862445\n",
      "57번째 ===> 225851433717\n",
      "58번째 ===> 365435296162\n",
      "59번째 ===> 591286729879\n",
      "60번째 ===> 956722026041\n",
      "61번째 ===> 1548008755920\n",
      "62번째 ===> 2504730781961\n",
      "63번째 ===> 4052739537881\n",
      "64번째 ===> 6557470319842\n",
      "65번째 ===> 10610209857723\n",
      "66번째 ===> 17167680177565\n",
      "67번째 ===> 27777890035288\n",
      "68번째 ===> 44945570212853\n",
      "69번째 ===> 72723460248141\n",
      "70번째 ===> 117669030460994\n",
      "71번째 ===> 190392490709135\n",
      "72번째 ===> 308061521170129\n",
      "73번째 ===> 498454011879264\n",
      "74번째 ===> 806515533049393\n",
      "75번째 ===> 1304969544928657\n",
      "76번째 ===> 2111485077978050\n",
      "77번째 ===> 3416454622906707\n",
      "78번째 ===> 5527939700884757\n",
      "79번째 ===> 8944394323791464\n",
      "80번째 ===> 14472334024676221\n",
      "81번째 ===> 23416728348467685\n",
      "82번째 ===> 37889062373143906\n",
      "83번째 ===> 61305790721611591\n",
      "84번째 ===> 99194853094755497\n",
      "85번째 ===> 160500643816367088\n",
      "86번째 ===> 259695496911122585\n",
      "87번째 ===> 420196140727489673\n",
      "88번째 ===> 679891637638612258\n",
      "89번째 ===> 1100087778366101931\n",
      "90번째 ===> 1779979416004714189\n",
      "91번째 ===> 2880067194370816120\n",
      "92번째 ===> 4660046610375530309\n",
      "93번째 ===> 7540113804746346429\n",
      "94번째 ===> 12200160415121876738\n",
      "95번째 ===> 19740274219868223167\n",
      "96번째 ===> 31940434634990099905\n",
      "97번째 ===> 51680708854858323072\n",
      "98번째 ===> 83621143489848422977\n",
      "99번째 ===> 135301852344706746049\n",
      "100번째 ===> 218922995834555169026\n",
      "101번째 ===> 354224848179261915075\n",
      "102번째 ===> 573147844013817084101\n",
      "103번째 ===> 927372692193078999176\n",
      "104번째 ===> 1500520536206896083277\n",
      "105번째 ===> 2427893228399975082453\n",
      "106번째 ===> 3928413764606871165730\n",
      "107번째 ===> 6356306993006846248183\n",
      "108번째 ===> 10284720757613717413913\n",
      "109번째 ===> 16641027750620563662096\n",
      "110번째 ===> 26925748508234281076009\n",
      "111번째 ===> 43566776258854844738105\n",
      "112번째 ===> 70492524767089125814114\n",
      "113번째 ===> 114059301025943970552219\n",
      "114번째 ===> 184551825793033096366333\n",
      "115번째 ===> 298611126818977066918552\n",
      "116번째 ===> 483162952612010163284885\n",
      "117번째 ===> 781774079430987230203437\n",
      "118번째 ===> 1264937032042997393488322\n",
      "119번째 ===> 2046711111473984623691759\n",
      "120번째 ===> 3311648143516982017180081\n",
      "121번째 ===> 5358359254990966640871840\n",
      "122번째 ===> 8670007398507948658051921\n",
      "123번째 ===> 14028366653498915298923761\n",
      "124번째 ===> 22698374052006863956975682\n",
      "125번째 ===> 36726740705505779255899443\n",
      "126번째 ===> 59425114757512643212875125\n",
      "127번째 ===> 96151855463018422468774568\n",
      "128번째 ===> 155576970220531065681649693\n",
      "129번째 ===> 251728825683549488150424261\n",
      "130번째 ===> 407305795904080553832073954\n",
      "131번째 ===> 659034621587630041982498215\n",
      "132번째 ===> 1066340417491710595814572169\n",
      "133번째 ===> 1725375039079340637797070384\n",
      "134번째 ===> 2791715456571051233611642553\n",
      "135번째 ===> 4517090495650391871408712937\n",
      "136번째 ===> 7308805952221443105020355490\n",
      "137번째 ===> 11825896447871834976429068427\n",
      "138번째 ===> 19134702400093278081449423917\n",
      "139번째 ===> 30960598847965113057878492344\n",
      "140번째 ===> 50095301248058391139327916261\n",
      "141번째 ===> 81055900096023504197206408605\n",
      "142번째 ===> 131151201344081895336534324866\n",
      "143번째 ===> 212207101440105399533740733471\n",
      "144번째 ===> 343358302784187294870275058337\n",
      "145번째 ===> 555565404224292694404015791808\n",
      "146번째 ===> 898923707008479989274290850145\n",
      "147번째 ===> 1454489111232772683678306641953\n",
      "148번째 ===> 2353412818241252672952597492098\n",
      "149번째 ===> 3807901929474025356630904134051\n",
      "150번째 ===> 6161314747715278029583501626149\n",
      "151번째 ===> 9969216677189303386214405760200\n",
      "152번째 ===> 16130531424904581415797907386349\n",
      "153번째 ===> 26099748102093884802012313146549\n",
      "154번째 ===> 42230279526998466217810220532898\n",
      "155번째 ===> 68330027629092351019822533679447\n",
      "156번째 ===> 110560307156090817237632754212345\n",
      "157번째 ===> 178890334785183168257455287891792\n",
      "158번째 ===> 289450641941273985495088042104137\n",
      "159번째 ===> 468340976726457153752543329995929\n",
      "160번째 ===> 757791618667731139247631372100066\n",
      "161번째 ===> 1226132595394188293000174702095995\n",
      "162번째 ===> 1983924214061919432247806074196061\n",
      "163번째 ===> 3210056809456107725247980776292056\n",
      "164번째 ===> 5193981023518027157495786850488117\n",
      "165번째 ===> 8404037832974134882743767626780173\n",
      "166번째 ===> 13598018856492162040239554477268290\n",
      "167번째 ===> 22002056689466296922983322104048463\n",
      "168번째 ===> 35600075545958458963222876581316753\n",
      "169번째 ===> 57602132235424755886206198685365216\n",
      "170번째 ===> 93202207781383214849429075266681969\n",
      "171번째 ===> 150804340016807970735635273952047185\n",
      "172번째 ===> 244006547798191185585064349218729154\n",
      "173번째 ===> 394810887814999156320699623170776339\n",
      "174번째 ===> 638817435613190341905763972389505493\n",
      "175번째 ===> 1033628323428189498226463595560281832\n",
      "176번째 ===> 1672445759041379840132227567949787325\n",
      "177번째 ===> 2706074082469569338358691163510069157\n",
      "178번째 ===> 4378519841510949178490918731459856482\n",
      "179번째 ===> 7084593923980518516849609894969925639\n",
      "180번째 ===> 11463113765491467695340528626429782121\n",
      "181번째 ===> 18547707689471986212190138521399707760\n",
      "182번째 ===> 30010821454963453907530667147829489881\n",
      "183번째 ===> 48558529144435440119720805669229197641\n",
      "184번째 ===> 78569350599398894027251472817058687522\n",
      "185번째 ===> 127127879743834334146972278486287885163\n",
      "186번째 ===> 205697230343233228174223751303346572685\n",
      "187번째 ===> 332825110087067562321196029789634457848\n",
      "188번째 ===> 538522340430300790495419781092981030533\n",
      "189번째 ===> 871347450517368352816615810882615488381\n",
      "190번째 ===> 1409869790947669143312035591975596518914\n",
      "191번째 ===> 2281217241465037496128651402858212007295\n",
      "192번째 ===> 3691087032412706639440686994833808526209\n",
      "193번째 ===> 5972304273877744135569338397692020533504\n",
      "194번째 ===> 9663391306290450775010025392525829059713\n",
      "195번째 ===> 15635695580168194910579363790217849593217\n",
      "196번째 ===> 25299086886458645685589389182743678652930\n",
      "197번째 ===> 40934782466626840596168752972961528246147\n",
      "198번째 ===> 66233869353085486281758142155705206899077\n",
      "199번째 ===> 107168651819712326877926895128666735145224\n",
      "200번째 ===> 173402521172797813159685037284371942044301\n",
      "201번째 ===> 280571172992510140037611932413038677189525\n",
      "202번째 ===> 453973694165307953197296969697410619233826\n",
      "203번째 ===> 734544867157818093234908902110449296423351\n",
      "204번째 ===> 1188518561323126046432205871807859915657177\n",
      "205번째 ===> 1923063428480944139667114773918309212080528\n",
      "206번째 ===> 3111581989804070186099320645726169127737705\n",
      "207번째 ===> 5034645418285014325766435419644478339818233\n",
      "208번째 ===> 8146227408089084511865756065370647467555938\n",
      "209번째 ===> 13180872826374098837632191485015125807374171\n",
      "210번째 ===> 21327100234463183349497947550385773274930109\n",
      "211번째 ===> 34507973060837282187130139035400899082304280\n",
      "212번째 ===> 55835073295300465536628086585786672357234389\n",
      "213번째 ===> 90343046356137747723758225621187571439538669\n",
      "214번째 ===> 146178119651438213260386312206974243796773058\n",
      "215번째 ===> 236521166007575960984144537828161815236311727\n",
      "216번째 ===> 382699285659014174244530850035136059033084785\n",
      "217번째 ===> 619220451666590135228675387863297874269396512\n",
      "218번째 ===> 1001919737325604309473206237898433933302481297\n",
      "219번째 ===> 1621140188992194444701881625761731807571877809\n",
      "220번째 ===> 2623059926317798754175087863660165740874359106\n",
      "221번째 ===> 4244200115309993198876969489421897548446236915\n",
      "222번째 ===> 6867260041627791953052057353082063289320596021\n",
      "223번째 ===> 11111460156937785151929026842503960837766832936\n",
      "224번째 ===> 17978720198565577104981084195586024127087428957\n",
      "225번째 ===> 29090180355503362256910111038089984964854261893\n",
      "226번째 ===> 47068900554068939361891195233676009091941690850\n",
      "227번째 ===> 76159080909572301618801306271765994056795952743\n",
      "228번째 ===> 123227981463641240980692501505442003148737643593\n",
      "229번째 ===> 199387062373213542599493807777207997205533596336\n",
      "230번째 ===> 322615043836854783580186309282650000354271239929\n",
      "231번째 ===> 522002106210068326179680117059857997559804836265\n",
      "232번째 ===> 844617150046923109759866426342507997914076076194\n",
      "233번째 ===> 1366619256256991435939546543402365995473880912459\n",
      "234번째 ===> 2211236406303914545699412969744873993387956988653\n",
      "235번째 ===> 3577855662560905981638959513147239988861837901112\n",
      "236번째 ===> 5789092068864820527338372482892113982249794889765\n",
      "237번째 ===> 9366947731425726508977331996039353971111632790877\n",
      "238번째 ===> 15156039800290547036315704478931467953361427680642\n",
      "239번째 ===> 24522987531716273545293036474970821924473060471519\n",
      "240번째 ===> 39679027332006820581608740953902289877834488152161\n",
      "241번째 ===> 64202014863723094126901777428873111802307548623680\n",
      "242번째 ===> 103881042195729914708510518382775401680142036775841\n",
      "243번째 ===> 168083057059453008835412295811648513482449585399521\n",
      "244번째 ===> 271964099255182923543922814194423915162591622175362\n",
      "245번째 ===> 440047156314635932379335110006072428645041207574883\n",
      "246번째 ===> 712011255569818855923257924200496343807632829750245\n",
      "247번째 ===> 1152058411884454788302593034206568772452674037325128\n",
      "248번째 ===> 1864069667454273644225850958407065116260306867075373\n",
      "249번째 ===> 3016128079338728432528443992613633888712980904400501\n",
      "250번째 ===> 4880197746793002076754294951020699004973287771475874\n",
      "251번째 ===> 7896325826131730509282738943634332893686268675876375\n",
      "252번째 ===> 12776523572924732586037033894655031898659556447352249\n",
      "253번째 ===> 20672849399056463095319772838289364792345825123228624\n",
      "254번째 ===> 33449372971981195681356806732944396691005381570580873\n",
      "255번째 ===> 54122222371037658776676579571233761483351206693809497\n",
      "256번째 ===> 87571595343018854458033386304178158174356588264390370\n",
      "257번째 ===> 141693817714056513234709965875411919657707794958199867\n",
      "258번째 ===> 229265413057075367692743352179590077832064383222590237\n",
      "259번째 ===> 370959230771131880927453318055001997489772178180790104\n",
      "260번째 ===> 600224643828207248620196670234592075321836561403380341\n",
      "261번째 ===> 971183874599339129547649988289594072811608739584170445\n",
      "262번째 ===> 1571408518427546378167846658524186148133445300987550786\n",
      "263번째 ===> 2542592393026885507715496646813780220945054040571721231\n",
      "264번째 ===> 4114000911454431885883343305337966369078499341559272017\n",
      "265번째 ===> 6656593304481317393598839952151746590023553382130993248\n",
      "266번째 ===> 10770594215935749279482183257489712959102052723690265265\n",
      "267번째 ===> 17427187520417066673081023209641459549125606105821258513\n",
      "268번째 ===> 28197781736352815952563206467131172508227658829511523778\n",
      "269번째 ===> 45624969256769882625644229676772632057353264935332782291\n",
      "270번째 ===> 73822750993122698578207436143903804565580923764844306069\n",
      "271번째 ===> 119447720249892581203851665820676436622934188700177088360\n",
      "272번째 ===> 193270471243015279782059101964580241188515112465021394429\n",
      "273번째 ===> 312718191492907860985910767785256677811449301165198482789\n",
      "274번째 ===> 505988662735923140767969869749836918999964413630219877218\n",
      "275번째 ===> 818706854228831001753880637535093596811413714795418360007\n",
      "276번째 ===> 1324695516964754142521850507284930515811378128425638237225\n",
      "277번째 ===> 2143402371193585144275731144820024112622791843221056597232\n",
      "278번째 ===> 3468097888158339286797581652104954628434169971646694834457\n",
      "279번째 ===> 5611500259351924431073312796924978741056961814867751431689\n",
      "280번째 ===> 9079598147510263717870894449029933369491131786514446266146\n",
      "281번째 ===> 14691098406862188148944207245954912110548093601382197697835\n",
      "282번째 ===> 23770696554372451866815101694984845480039225387896643963981\n",
      "283번째 ===> 38461794961234640015759308940939757590587318989278841661816\n",
      "284번째 ===> 62232491515607091882574410635924603070626544377175485625797\n",
      "285번째 ===> 100694286476841731898333719576864360661213863366454327287613\n",
      "286번째 ===> 162926777992448823780908130212788963731840407743629812913410\n",
      "287번째 ===> 263621064469290555679241849789653324393054271110084140201023\n",
      "288번째 ===> 426547842461739379460149980002442288124894678853713953114433\n",
      "289번째 ===> 690168906931029935139391829792095612517948949963798093315456\n",
      "290번째 ===> 1116716749392769314599541809794537900642843628817512046429889\n",
      "291번째 ===> 1806885656323799249738933639586633513160792578781310139745345\n",
      "292번째 ===> 2923602405716568564338475449381171413803636207598822186175234\n",
      "293번째 ===> 4730488062040367814077409088967804926964428786380132325920579\n",
      "294번째 ===> 7654090467756936378415884538348976340768064993978954512095813\n",
      "295번째 ===> 12384578529797304192493293627316781267732493780359086838016392\n",
      "296번째 ===> 20038668997554240570909178165665757608500558774338041350112205\n",
      "297번째 ===> 32423247527351544763402471792982538876233052554697128188128597\n",
      "298번째 ===> 52461916524905785334311649958648296484733611329035169538240802\n",
      "299번째 ===> 84885164052257330097714121751630835360966663883732297726369399\n",
      "300번째 ===> 137347080577163115432025771710279131845700275212767467264610201\n",
      "301번째 ===> 222232244629420445529739893461909967206666939096499764990979600\n",
      "302번째 ===> 359579325206583560961765665172189099052367214309267232255589801\n",
      "303번째 ===> 581811569836004006491505558634099066259034153405766997246569401\n",
      "304번째 ===> 941390895042587567453271223806288165311401367715034229502159202\n",
      "305번째 ===> 1523202464878591573944776782440387231570435521120801226748728603\n",
      "306번째 ===> 2464593359921179141398048006246675396881836888835835456250887805\n",
      "307번째 ===> 3987795824799770715342824788687062628452272409956636682999616408\n",
      "308번째 ===> 6452389184720949856740872794933738025334109298792472139250504213\n",
      "309번째 ===> 10440185009520720572083697583620800653786381708749108822250120621\n",
      "310번째 ===> 16892574194241670428824570378554538679120491007541580961500624834\n",
      "311번째 ===> 27332759203762391000908267962175339332906872716290689783750745455\n",
      "312번째 ===> 44225333398004061429732838340729878012027363723832270745251370289\n",
      "313번째 ===> 71558092601766452430641106302905217344934236440122960529002115744\n",
      "314번째 ===> 115783425999770513860373944643635095356961600163955231274253486033\n",
      "315번째 ===> 187341518601536966291015050946540312701895836604078191803255601777\n",
      "316번째 ===> 303124944601307480151388995590175408058857436768033423077509087810\n",
      "317번째 ===> 490466463202844446442404046536715720760753273372111614880764689587\n",
      "318번째 ===> 793591407804151926593793042126891128819610710140145037958273777397\n",
      "319번째 ===> 1284057871006996373036197088663606849580363983512256652839038466984\n",
      "320번째 ===> 2077649278811148299629990130790497978399974693652401690797312244381\n",
      "321번째 ===> 3361707149818144672666187219454104827980338677164658343636350711365\n",
      "322번째 ===> 5439356428629292972296177350244602806380313370817060034433662955746\n",
      "323번째 ===> 8801063578447437644962364569698707634360652047981718378070013667111\n",
      "324번째 ===> 14240420007076730617258541919943310440740965418798778412503676622857\n",
      "325번째 ===> 23041483585524168262220906489642018075101617466780496790573690289968\n",
      "326번째 ===> 37281903592600898879479448409585328515842582885579275203077366912825\n",
      "327번째 ===> 60323387178125067141700354899227346590944200352359771993651057202793\n",
      "328번째 ===> 97605290770725966021179803308812675106786783237939047196728424115618\n",
      "329번째 ===> 157928677948851033162880158208040021697730983590298819190379481318411\n",
      "330번째 ===> 255533968719576999184059961516852696804517766828237866387107905434029\n",
      "331번째 ===> 413462646668428032346940119724892718502248750418536685577487386752440\n",
      "332번째 ===> 668996615388005031531000081241745415306766517246774551964595292186469\n",
      "333번째 ===> 1082459262056433063877940200966638133809015267665311237542082678938909\n",
      "334번째 ===> 1751455877444438095408940282208383549115781784912085789506677971125378\n",
      "335번째 ===> 2833915139500871159286880483175021682924797052577397027048760650064287\n",
      "336번째 ===> 4585371016945309254695820765383405232040578837489482816555438621189665\n",
      "337번째 ===> 7419286156446180413982701248558426914965375890066879843604199271253952\n",
      "338번째 ===> 12004657173391489668678522013941832147005954727556362660159637892443617\n",
      "339번째 ===> 19423943329837670082661223262500259061971330617623242503763837163697569\n",
      "340번째 ===> 31428600503229159751339745276442091208977285345179605163923475056141186\n",
      "341번째 ===> 50852543833066829834000968538942350270948615962802847667687312219838755\n",
      "342번째 ===> 82281144336295989585340713815384441479925901307982452831610787275979941\n",
      "343번째 ===> 133133688169362819419341682354326791750874517270785300499298099495818696\n",
      "344번째 ===> 215414832505658809004682396169711233230800418578767753330908886771798637\n",
      "345번째 ===> 348548520675021628424024078524038024981674935849553053830206986267617333\n",
      "346번째 ===> 563963353180680437428706474693749258212475354428320807161115873039415970\n",
      "347번째 ===> 912511873855702065852730553217787283194150290277873860991322859307033303\n",
      "348번째 ===> 1476475227036382503281437027911536541406625644706194668152438732346449273\n",
      "349번째 ===> 2388987100892084569134167581129323824600775934984068529143761591653482576\n",
      "350번째 ===> 3865462327928467072415604609040860366007401579690263197296200323999931849\n",
      "351번째 ===> 6254449428820551641549772190170184190608177514674331726439961915653414425\n",
      "352번째 ===> 10119911756749018713965376799211044556615579094364594923736162239653346274\n",
      "353번째 ===> 16374361185569570355515148989381228747223756609038926650176124155306760699\n",
      "354번째 ===> 26494272942318589069480525788592273303839335703403521573912286394960106973\n",
      "355번째 ===> 42868634127888159424995674777973502051063092312442448224088410550266867672\n",
      "356번째 ===> 69362907070206748494476200566565775354902428015845969798000696945226974645\n",
      "357번째 ===> 112231541198094907919471875344539277405965520328288418022089107495493842317\n",
      "358번째 ===> 181594448268301656413948075911105052760867948344134387820089804440720816962\n",
      "359번째 ===> 293825989466396564333419951255644330166833468672422805842178911936214659279\n",
      "360번째 ===> 475420437734698220747368027166749382927701417016557193662268716376935476241\n",
      "361번째 ===> 769246427201094785080787978422393713094534885688979999504447628313150135520\n",
      "362번째 ===> 1244666864935793005828156005589143096022236302705537193166716344690085611761\n",
      "363번째 ===> 2013913292136887790908943984011536809116771188394517192671163973003235747281\n",
      "364번째 ===> 3258580157072680796737099989600679905139007491100054385837880317693321359042\n",
      "365번째 ===> 5272493449209568587646043973612216714255778679494571578509044290696557106323\n",
      "366번째 ===> 8531073606282249384383143963212896619394786170594625964346924608389878465365\n",
      "367번째 ===> 13803567055491817972029187936825113333650564850089197542855968899086435571688\n",
      "368번째 ===> 22334640661774067356412331900038009953045351020683823507202893507476314037053\n",
      "369번째 ===> 36138207717265885328441519836863123286695915870773021050058862406562749608741\n",
      "370번째 ===> 58472848379039952684853851736901133239741266891456844557261755914039063645794\n",
      "371번째 ===> 94611056096305838013295371573764256526437182762229865607320618320601813254535\n",
      "372번째 ===> 153083904475345790698149223310665389766178449653686710164582374234640876900329\n",
      "373번째 ===> 247694960571651628711444594884429646292615632415916575771902992555242690154864\n",
      "374번째 ===> 400778865046997419409593818195095036058794082069603285936485366789883567055193\n",
      "375번째 ===> 648473825618649048121038413079524682351409714485519861708388359345126257210057\n",
      "376번째 ===> 1049252690665646467530632231274619718410203796555123147644873726135009824265250\n",
      "377번째 ===> 1697726516284295515651670644354144400761613511040643009353262085480136081475307\n",
      "378번째 ===> 2746979206949941983182302875628764119171817307595766156998135811615145905740557\n",
      "379번째 ===> 4444705723234237498833973519982908519933430818636409166351397897095281987215864\n",
      "380번째 ===> 7191684930184179482016276395611672639105248126232175323349533708710427892956421\n",
      "381번째 ===> 11636390653418416980850249915594581159038678944868584489700931605805709880172285\n",
      "382번째 ===> 18828075583602596462866526311206253798143927071100759813050465314516137773128706\n",
      "383번째 ===> 30464466237021013443716776226800834957182606015969344302751396920321847653300991\n",
      "384번째 ===> 49292541820623609906583302538007088755326533087070104115801862234837985426429697\n",
      "385번째 ===> 79757008057644623350300078764807923712509139103039448418553259155159833079730688\n",
      "386번째 ===> 129049549878268233256883381302815012467835672190109552534355121389997818506160385\n",
      "387번째 ===> 208806557935912856607183460067622936180344811293149000952908380545157651585891073\n",
      "388번째 ===> 337856107814181089864066841370437948648180483483258553487263501935155470092051458\n",
      "389번째 ===> 546662665750093946471250301438060884828525294776407554440171882480313121677942531\n",
      "390번째 ===> 884518773564275036335317142808498833476705778259666107927435384415468591769993989\n",
      "391번째 ===> 1431181439314368982806567444246559718305231073036073662367607266895781713447936520\n",
      "392번째 ===> 2315700212878644019141884587055058551781936851295739770295042651311250305217930509\n",
      "393번째 ===> 3746881652193013001948452031301618270087167924331813432662649918207032018665867029\n",
      "394번째 ===> 6062581865071657021090336618356676821869104775627553202957692569518282323883797538\n",
      "395번째 ===> 9809463517264670023038788649658295091956272699959366635620342487725314342549664567\n",
      "396번째 ===> 15872045382336327044129125268014971913825377475586919838578035057243596666433462105\n",
      "397번째 ===> 25681508899600997067167913917673267005781650175546286474198377544968911008983126672\n",
      "398번째 ===> 41553554281937324111297039185688238919607027651133206312776412602212507675416588777\n",
      "399번째 ===> 67235063181538321178464953103361505925388677826679492786974790147181418684399715449\n",
      "400번째 ===> 108788617463475645289761992289049744844995705477812699099751202749393926359816304226\n"
     ]
    }
   ],
   "source": [
    "for i in range(400):\n",
    "    print(f'{i+1}번째 ===> {fibo(i)}')"
   ]
  },
  {
   "cell_type": "code",
   "execution_count": 81,
   "id": "883915eb-2918-494e-8094-e2b89214cecd",
   "metadata": {},
   "outputs": [],
   "source": [
    "from functools import lru_cache"
   ]
  },
  {
   "cell_type": "code",
   "execution_count": 82,
   "id": "b8210966-1db3-4fb0-9710-a761275ff539",
   "metadata": {},
   "outputs": [],
   "source": [
    "@lru_cache(maxsize=10)\n",
    "def fibo(n):\n",
    "    if n <= 1:\n",
    "        return 1\n",
    "    return fibo(n-1) + fibo(n-2)"
   ]
  },
  {
   "cell_type": "code",
   "execution_count": 83,
   "id": "7c166f74-1b1c-44bb-918d-f72ae73300ac",
   "metadata": {},
   "outputs": [],
   "source": [
    "from sklearn import datasets"
   ]
  },
  {
   "cell_type": "code",
   "execution_count": 84,
   "id": "d080c879-89e6-4160-ae5b-1fd6f4bb8ce8",
   "metadata": {},
   "outputs": [],
   "source": [
    "from sklearn.datasets import load_iris"
   ]
  },
  {
   "cell_type": "code",
   "execution_count": 85,
   "id": "59f0d481-8099-48b9-bf42-6f48f4662d48",
   "metadata": {},
   "outputs": [],
   "source": [
    "X = load_iris()['data']"
   ]
  },
  {
   "cell_type": "code",
   "execution_count": 86,
   "id": "d831c88b-fcd1-440c-b244-5d0a422cb221",
   "metadata": {},
   "outputs": [],
   "source": [
    "from sklearn.cluster import KMeans"
   ]
  },
  {
   "cell_type": "code",
   "execution_count": 87,
   "id": "1d419082-2b2e-4cd8-9cd8-547235a6a1d8",
   "metadata": {},
   "outputs": [
    {
     "name": "stderr",
     "output_type": "stream",
     "text": [
      "C:\\Users\\admin\\AppData\\Local\\Programs\\Python\\Python311\\Lib\\site-packages\\sklearn\\cluster\\_kmeans.py:870: FutureWarning: The default value of `n_init` will change from 10 to 'auto' in 1.4. Set the value of `n_init` explicitly to suppress the warning\n",
      "  warnings.warn(\n"
     ]
    },
    {
     "data": {
      "text/html": [
       "<style>#sk-container-id-1 {color: black;background-color: white;}#sk-container-id-1 pre{padding: 0;}#sk-container-id-1 div.sk-toggleable {background-color: white;}#sk-container-id-1 label.sk-toggleable__label {cursor: pointer;display: block;width: 100%;margin-bottom: 0;padding: 0.3em;box-sizing: border-box;text-align: center;}#sk-container-id-1 label.sk-toggleable__label-arrow:before {content: \"▸\";float: left;margin-right: 0.25em;color: #696969;}#sk-container-id-1 label.sk-toggleable__label-arrow:hover:before {color: black;}#sk-container-id-1 div.sk-estimator:hover label.sk-toggleable__label-arrow:before {color: black;}#sk-container-id-1 div.sk-toggleable__content {max-height: 0;max-width: 0;overflow: hidden;text-align: left;background-color: #f0f8ff;}#sk-container-id-1 div.sk-toggleable__content pre {margin: 0.2em;color: black;border-radius: 0.25em;background-color: #f0f8ff;}#sk-container-id-1 input.sk-toggleable__control:checked~div.sk-toggleable__content {max-height: 200px;max-width: 100%;overflow: auto;}#sk-container-id-1 input.sk-toggleable__control:checked~label.sk-toggleable__label-arrow:before {content: \"▾\";}#sk-container-id-1 div.sk-estimator input.sk-toggleable__control:checked~label.sk-toggleable__label {background-color: #d4ebff;}#sk-container-id-1 div.sk-label input.sk-toggleable__control:checked~label.sk-toggleable__label {background-color: #d4ebff;}#sk-container-id-1 input.sk-hidden--visually {border: 0;clip: rect(1px 1px 1px 1px);clip: rect(1px, 1px, 1px, 1px);height: 1px;margin: -1px;overflow: hidden;padding: 0;position: absolute;width: 1px;}#sk-container-id-1 div.sk-estimator {font-family: monospace;background-color: #f0f8ff;border: 1px dotted black;border-radius: 0.25em;box-sizing: border-box;margin-bottom: 0.5em;}#sk-container-id-1 div.sk-estimator:hover {background-color: #d4ebff;}#sk-container-id-1 div.sk-parallel-item::after {content: \"\";width: 100%;border-bottom: 1px solid gray;flex-grow: 1;}#sk-container-id-1 div.sk-label:hover label.sk-toggleable__label {background-color: #d4ebff;}#sk-container-id-1 div.sk-serial::before {content: \"\";position: absolute;border-left: 1px solid gray;box-sizing: border-box;top: 0;bottom: 0;left: 50%;z-index: 0;}#sk-container-id-1 div.sk-serial {display: flex;flex-direction: column;align-items: center;background-color: white;padding-right: 0.2em;padding-left: 0.2em;position: relative;}#sk-container-id-1 div.sk-item {position: relative;z-index: 1;}#sk-container-id-1 div.sk-parallel {display: flex;align-items: stretch;justify-content: center;background-color: white;position: relative;}#sk-container-id-1 div.sk-item::before, #sk-container-id-1 div.sk-parallel-item::before {content: \"\";position: absolute;border-left: 1px solid gray;box-sizing: border-box;top: 0;bottom: 0;left: 50%;z-index: -1;}#sk-container-id-1 div.sk-parallel-item {display: flex;flex-direction: column;z-index: 1;position: relative;background-color: white;}#sk-container-id-1 div.sk-parallel-item:first-child::after {align-self: flex-end;width: 50%;}#sk-container-id-1 div.sk-parallel-item:last-child::after {align-self: flex-start;width: 50%;}#sk-container-id-1 div.sk-parallel-item:only-child::after {width: 0;}#sk-container-id-1 div.sk-dashed-wrapped {border: 1px dashed gray;margin: 0 0.4em 0.5em 0.4em;box-sizing: border-box;padding-bottom: 0.4em;background-color: white;}#sk-container-id-1 div.sk-label label {font-family: monospace;font-weight: bold;display: inline-block;line-height: 1.2em;}#sk-container-id-1 div.sk-label-container {text-align: center;}#sk-container-id-1 div.sk-container {/* jupyter's `normalize.less` sets `[hidden] { display: none; }` but bootstrap.min.css set `[hidden] { display: none !important; }` so we also need the `!important` here to be able to override the default hidden behavior on the sphinx rendered scikit-learn.org. See: https://github.com/scikit-learn/scikit-learn/issues/21755 */display: inline-block !important;position: relative;}#sk-container-id-1 div.sk-text-repr-fallback {display: none;}</style><div id=\"sk-container-id-1\" class=\"sk-top-container\"><div class=\"sk-text-repr-fallback\"><pre>KMeans(n_clusters=2)</pre><b>In a Jupyter environment, please rerun this cell to show the HTML representation or trust the notebook. <br />On GitHub, the HTML representation is unable to render, please try loading this page with nbviewer.org.</b></div><div class=\"sk-container\" hidden><div class=\"sk-item\"><div class=\"sk-estimator sk-toggleable\"><input class=\"sk-toggleable__control sk-hidden--visually\" id=\"sk-estimator-id-1\" type=\"checkbox\" checked><label for=\"sk-estimator-id-1\" class=\"sk-toggleable__label sk-toggleable__label-arrow\">KMeans</label><div class=\"sk-toggleable__content\"><pre>KMeans(n_clusters=2)</pre></div></div></div></div></div>"
      ],
      "text/plain": [
       "KMeans(n_clusters=2)"
      ]
     },
     "execution_count": 87,
     "metadata": {},
     "output_type": "execute_result"
    }
   ],
   "source": [
    "km = KMeans(2)\n",
    "km.fit(X)"
   ]
  },
  {
   "cell_type": "code",
   "execution_count": 88,
   "id": "08b1687e-fa65-4653-baa0-cb7ec2dd92d5",
   "metadata": {},
   "outputs": [],
   "source": [
    "y = km.labels_"
   ]
  },
  {
   "cell_type": "code",
   "execution_count": 89,
   "id": "29faddb4-9611-461f-8d5d-4d805fba5ea0",
   "metadata": {},
   "outputs": [],
   "source": [
    "from sklearn.linear_model import LogisticRegression"
   ]
  },
  {
   "cell_type": "code",
   "execution_count": 90,
   "id": "b144a082-4f8f-40c4-97f3-27e591edbddd",
   "metadata": {},
   "outputs": [],
   "source": [
    "from sklearn.ensemble import RandomForestRegressor"
   ]
  },
  {
   "cell_type": "code",
   "execution_count": 91,
   "id": "4ae6315e-49c3-4246-bd4c-5b45a4a1302f",
   "metadata": {},
   "outputs": [
    {
     "data": {
      "text/plain": [
       "(150, 4)"
      ]
     },
     "execution_count": 91,
     "metadata": {},
     "output_type": "execute_result"
    }
   ],
   "source": [
    "X.shape"
   ]
  },
  {
   "cell_type": "code",
   "execution_count": 92,
   "id": "2178dbaf-e28d-487e-9377-4e7d45ad437f",
   "metadata": {},
   "outputs": [],
   "source": [
    "def sigmoid(x):\n",
    "    return 1/(1+np.exp(-x))"
   ]
  },
  {
   "cell_type": "code",
   "execution_count": 93,
   "id": "ef3a6eeb-8542-41d0-91fd-5785f71d7d0e",
   "metadata": {},
   "outputs": [
    {
     "data": {
      "text/plain": [
       "5.148200222412014e-131"
      ]
     },
     "execution_count": 93,
     "metadata": {},
     "output_type": "execute_result"
    }
   ],
   "source": [
    "sigmoid(-300)"
   ]
  },
  {
   "cell_type": "code",
   "execution_count": 94,
   "id": "ba02a8e6-251c-4265-9318-a2f325c04cce",
   "metadata": {},
   "outputs": [],
   "source": [
    "## 1. 가설함수 \n",
    "## 2. 예측값\n",
    "## 3. 비용함수 정의\n",
    "## 4. 미분(수치)\n",
    "## 5. 경사하강\n",
    "## 6. 1~5반복\n"
   ]
  },
  {
   "cell_type": "code",
   "execution_count": 95,
   "id": "6d85375a-0bd6-442c-8723-7134cd3ef3ca",
   "metadata": {},
   "outputs": [],
   "source": [
    "import numpy as np\n",
    "W = np.random.uniform(0.1,0.5,size=(4,1))\n",
    "b = 0\n",
    "y_hat = sigmoid(np.dot(X,W)+b)"
   ]
  },
  {
   "cell_type": "code",
   "execution_count": 96,
   "id": "e2140a52-859d-4740-8e08-ecd952e015a9",
   "metadata": {},
   "outputs": [
    {
     "data": {
      "text/plain": [
       "(150, 1)"
      ]
     },
     "execution_count": 96,
     "metadata": {},
     "output_type": "execute_result"
    }
   ],
   "source": [
    "y_hat.shape"
   ]
  },
  {
   "cell_type": "code",
   "execution_count": 97,
   "id": "6224e3ea-f353-4781-98b1-4ba6928f0293",
   "metadata": {},
   "outputs": [],
   "source": [
    "def cost(W,b):\n",
    "    y_hat = sigmoid(np.dot(X,W)+b)\n",
    "    return -np.sum(y*np.log(y_hat) + (1-y)*np.log(1-y_hat))"
   ]
  },
  {
   "cell_type": "code",
   "execution_count": 98,
   "id": "3692b652-d84a-4b30-90d5-f63e25c8c157",
   "metadata": {},
   "outputs": [],
   "source": [
    "def diff(func,W,b):\n",
    "    h = 1e-4\n",
    "    grad_a = np.zeros_like(W)\n",
    "    for i in range(W.shape[0]):\n",
    "        for j in range(W.shape[1]):\n",
    "            tmp = W[i,j]\n",
    "            fx = func(W,b)\n",
    "            W[i,j] = tmp+h\n",
    "            fxh = func(W,b)\n",
    "            grad_a[i,j] = (fxh-fx)/h\n",
    "            W[i,j] = tmp\n",
    "    fx = func(W,b)\n",
    "    fxh = func(W,b+h)\n",
    "    grad_b = (fxh-fx)/h\n",
    "    return grad_a, grad_b"
   ]
  },
  {
   "cell_type": "code",
   "execution_count": 99,
   "id": "44ffd5e7-a072-477a-84c8-06184af7ad4a",
   "metadata": {
    "tags": []
   },
   "outputs": [
    {
     "name": "stderr",
     "output_type": "stream",
     "text": [
      "C:\\Users\\admin\\AppData\\Local\\Temp\\ipykernel_28852\\4033946986.py:2: RuntimeWarning: overflow encountered in exp\n",
      "  return 1/(1+np.exp(-x))\n",
      "C:\\Users\\admin\\AppData\\Local\\Temp\\ipykernel_28852\\3649928851.py:3: RuntimeWarning: divide by zero encountered in log\n",
      "  return -np.sum(y*np.log(y_hat) + (1-y)*np.log(1-y_hat))\n",
      "C:\\Users\\admin\\AppData\\Local\\Temp\\ipykernel_28852\\3649928851.py:3: RuntimeWarning: invalid value encountered in multiply\n",
      "  return -np.sum(y*np.log(y_hat) + (1-y)*np.log(1-y_hat))\n"
     ]
    }
   ],
   "source": [
    "lr = 1e-3\n",
    "epochs = 10000\n",
    "for i in range(epochs):\n",
    "    W -= diff(cost,W,b)[0]*lr\n",
    "    b -= diff(cost,W,b)[1]*lr\n"
   ]
  },
  {
   "cell_type": "code",
   "execution_count": 100,
   "id": "d0250085-9c08-4ec4-8754-52ece902b90b",
   "metadata": {},
   "outputs": [],
   "source": [
    "from sklearn.metrics import accuracy_score"
   ]
  },
  {
   "cell_type": "code",
   "execution_count": 101,
   "id": "66aeefb9-5773-4045-915e-c06d14c5dd21",
   "metadata": {},
   "outputs": [
    {
     "data": {
      "text/plain": [
       "0.6466666666666666"
      ]
     },
     "execution_count": 101,
     "metadata": {},
     "output_type": "execute_result"
    }
   ],
   "source": [
    "accuracy_score(np.where(sigmoid(np.dot(X,W)+b) > .5,1,0),y)"
   ]
  },
  {
   "cell_type": "code",
   "execution_count": 102,
   "id": "cd91eb0d-34e9-412f-a7e6-6ceb587a66b5",
   "metadata": {},
   "outputs": [],
   "source": [
    "from sklearn.linear_model import LogisticRegression"
   ]
  },
  {
   "cell_type": "code",
   "execution_count": 103,
   "id": "1d0de74a-c3b3-4c44-b260-3efce9826976",
   "metadata": {},
   "outputs": [],
   "source": [
    "model = LogisticRegression().fit(X,y)"
   ]
  },
  {
   "cell_type": "code",
   "execution_count": 104,
   "id": "f0243311-b963-4544-a4f2-6fcf17c29849",
   "metadata": {},
   "outputs": [
    {
     "data": {
      "text/plain": [
       "0.9866666666666667"
      ]
     },
     "execution_count": 104,
     "metadata": {},
     "output_type": "execute_result"
    }
   ],
   "source": [
    "model.score(X,y)"
   ]
  },
  {
   "cell_type": "code",
   "execution_count": 105,
   "id": "55c2be52-bbc6-4ba0-9c33-6c0197edfeb4",
   "metadata": {},
   "outputs": [],
   "source": [
    "def cost(W,b):\n",
    "    y_hat = sigmoid(np.dot(X,W)+b)\n",
    "    return -np.sum(y*np.log(y_hat) + (1-y)*np.log(1-y_hat))\n",
    "\n",
    "def diff(func,W,b):\n",
    "    h = 1e-4\n",
    "    grad_a = np.zeros_like(W)\n",
    "    for i in range(W.shape[0]):\n",
    "        for j in range(W.shape[1]):\n",
    "            tmp = W[i,j]\n",
    "            fx = func(W,b)\n",
    "            W[i,j] = tmp+h\n",
    "            fxh = func(W,b)\n",
    "            grad_a[i,j] = (fxh-fx)/h\n",
    "            W[i,j] = tmp\n",
    "    fx = func(W,b)\n",
    "    fxh = func(W,b+h)\n",
    "    grad_b = (fxh-fx)/h\n",
    "    return grad_a, grad_b\n",
    "\n",
    "def sigmoid(x):\n",
    "    return 1/(1+np.exp(-x))\n",
    "\n",
    "class Leehyunsoo:\n",
    "    def __init__(self):\n",
    "        self.W = None\n",
    "        self.b = None\n",
    "        print('Leehyunsoo')\n",
    "    \n",
    "    def fit(self,x,y):\n",
    "        self.x = x\n",
    "        self.y = y\n",
    "        self.b = 0\n",
    "        lr = 1e-3\n",
    "        self.w = np.random.randn(self.x.shape[1], self.y.shape[1])\n",
    "        y_hat = sigmoid(np.dot(self.x,self.w) + self.b) ## 가설함수 --> 예측\n",
    "        for _ in range(10000):\n",
    "            self.w -= diff(cost,self.w,self.b)[0]*lr\n",
    "            self.b -= diff(cost,self.w,self.b)[1]*lr\n",
    "        \n",
    "        return f'Lee Huyn Soo Model Completed !!'\n",
    "        \n",
    "    def predict(self,x):\n",
    "        return np.where(sigmoid(np.dot(x,self.w)+self.b) > .5, 1,0)\n",
    "    \n",
    "    def score(self,x,y):\n",
    "        y_hat = np.where(sigmoid(np.dot(x,self.w)+self.b) > .5, 1,0)\n",
    "        return np.around(sum(y_hat ==  y)/y.size,3)[0]\n",
    "    "
   ]
  },
  {
   "cell_type": "code",
   "execution_count": 106,
   "id": "91b5d17d-6c9c-4a5b-9c1d-3186be946180",
   "metadata": {},
   "outputs": [
    {
     "name": "stdout",
     "output_type": "stream",
     "text": [
      "Leehyunsoo\n"
     ]
    }
   ],
   "source": [
    "model = Leehyunsoo()"
   ]
  },
  {
   "cell_type": "code",
   "execution_count": 107,
   "id": "fb1d537d-29ef-4f31-94b6-73c45b59e8bb",
   "metadata": {},
   "outputs": [
    {
     "name": "stderr",
     "output_type": "stream",
     "text": [
      "C:\\Users\\admin\\AppData\\Local\\Temp\\ipykernel_28852\\123909178.py:22: RuntimeWarning: overflow encountered in exp\n",
      "  return 1/(1+np.exp(-x))\n",
      "C:\\Users\\admin\\AppData\\Local\\Temp\\ipykernel_28852\\123909178.py:3: RuntimeWarning: divide by zero encountered in log\n",
      "  return -np.sum(y*np.log(y_hat) + (1-y)*np.log(1-y_hat))\n",
      "C:\\Users\\admin\\AppData\\Local\\Temp\\ipykernel_28852\\123909178.py:3: RuntimeWarning: invalid value encountered in multiply\n",
      "  return -np.sum(y*np.log(y_hat) + (1-y)*np.log(1-y_hat))\n"
     ]
    },
    {
     "data": {
      "text/plain": [
       "'Lee Huyn Soo Model Completed !!'"
      ]
     },
     "execution_count": 107,
     "metadata": {},
     "output_type": "execute_result"
    }
   ],
   "source": [
    "model.fit(load_iris()['data'],km.labels_.reshape(-1,1))"
   ]
  },
  {
   "cell_type": "code",
   "execution_count": 108,
   "id": "e5c9e6cc-da71-4422-b749-b62c1033f712",
   "metadata": {},
   "outputs": [
    {
     "data": {
      "text/plain": [
       "0.647"
      ]
     },
     "execution_count": 108,
     "metadata": {},
     "output_type": "execute_result"
    }
   ],
   "source": [
    "model.score(load_iris()['data'],km.labels_.reshape(-1,1))"
   ]
  },
  {
   "cell_type": "code",
   "execution_count": 109,
   "id": "94a11752-7def-4eca-9ebc-1337b0952235",
   "metadata": {},
   "outputs": [],
   "source": [
    "def a_func():\n",
    "    print('a function')\n",
    "def b_func():\n",
    "    print('b function')"
   ]
  },
  {
   "cell_type": "code",
   "execution_count": 110,
   "id": "9f0494fa-e10e-4ff1-b6e7-4c3ce2905854",
   "metadata": {},
   "outputs": [],
   "source": [
    "def deco(func):\n",
    "    return b_func"
   ]
  },
  {
   "cell_type": "code",
   "execution_count": 111,
   "id": "00bb929b-8523-4778-a0d8-f3dd729b8f30",
   "metadata": {},
   "outputs": [],
   "source": [
    "@deco\n",
    "def a_func():\n",
    "    print('a function')"
   ]
  },
  {
   "cell_type": "code",
   "execution_count": 112,
   "id": "cd182f11-7a05-43ea-af09-bd8e1dccabf4",
   "metadata": {},
   "outputs": [],
   "source": [
    "## 'abc_def' => AbcDef "
   ]
  },
  {
   "cell_type": "code",
   "execution_count": 113,
   "id": "142c79dd-6d2d-4cbf-98cb-08a5917467a6",
   "metadata": {},
   "outputs": [],
   "source": [
    "def camelcase(x):\n",
    "    return ''.join([ word.capitalize()  for word in x.split('_')])"
   ]
  },
  {
   "cell_type": "code",
   "execution_count": 114,
   "id": "34a48fa5-73fa-49bd-a2e7-1fc02e2fbd7e",
   "metadata": {},
   "outputs": [],
   "source": [
    "def mapper(func):\n",
    "    def wrapper(list_arg):\n",
    "        return [func(word) for word in list_arg]\n",
    "    return wrapper\n",
    "@mapper\n",
    "def camelcase(x):\n",
    "    return ''.join([ word.capitalize()  for word in x.split('_')])"
   ]
  },
  {
   "cell_type": "code",
   "execution_count": 115,
   "id": "63416cbf-1fac-41e7-a186-afa8399368f1",
   "metadata": {},
   "outputs": [
    {
     "data": {
      "text/plain": [
       "['AsiaSeoul', 'EuropeParis', 'AmericaUsa']"
      ]
     },
     "execution_count": 115,
     "metadata": {},
     "output_type": "execute_result"
    }
   ],
   "source": [
    "x = ['asia_seoul','europe_paris','america_usa']\n",
    "camelcase(x)"
   ]
  },
  {
   "cell_type": "code",
   "execution_count": 116,
   "id": "3ae48918-4386-4c4c-b8f6-f6169a4bd9d0",
   "metadata": {},
   "outputs": [],
   "source": [
    "import cProfile"
   ]
  },
  {
   "cell_type": "code",
   "execution_count": 117,
   "id": "29bc1a51-d5e6-49a9-a993-d3472c8a0958",
   "metadata": {},
   "outputs": [
    {
     "data": {
      "text/plain": [
       "['Profile',\n",
       " '__all__',\n",
       " '__builtins__',\n",
       " '__cached__',\n",
       " '__doc__',\n",
       " '__file__',\n",
       " '__loader__',\n",
       " '__name__',\n",
       " '__package__',\n",
       " '__spec__',\n",
       " '_lsprof',\n",
       " '_pyprofile',\n",
       " 'label',\n",
       " 'main',\n",
       " 'run',\n",
       " 'runctx']"
      ]
     },
     "execution_count": 117,
     "metadata": {},
     "output_type": "execute_result"
    }
   ],
   "source": [
    "dir(cProfile)"
   ]
  },
  {
   "cell_type": "raw",
   "id": "c4d5a71d-8ae7-44cd-bcf1-e319b0513716",
   "metadata": {},
   "source": [
    "X.shape --> dfd --> (150,3)"
   ]
  },
  {
   "cell_type": "code",
   "execution_count": 119,
   "id": "f8ae771c-7f30-4b36-8d3d-a15019dc54f3",
   "metadata": {},
   "outputs": [],
   "source": [
    "X = load_iris()['data']\n",
    "y = load_iris()['target']"
   ]
  },
  {
   "cell_type": "code",
   "execution_count": 120,
   "id": "a32587bd-8853-49f3-ac34-cd3a6f2526f1",
   "metadata": {},
   "outputs": [],
   "source": [
    "from sklearn.preprocessing import OneHotEncoder"
   ]
  },
  {
   "cell_type": "code",
   "execution_count": 121,
   "id": "17415922-a394-456c-bb1b-0dc8f3d52480",
   "metadata": {},
   "outputs": [
    {
     "data": {
      "text/html": [
       "<style>#sk-container-id-2 {color: black;background-color: white;}#sk-container-id-2 pre{padding: 0;}#sk-container-id-2 div.sk-toggleable {background-color: white;}#sk-container-id-2 label.sk-toggleable__label {cursor: pointer;display: block;width: 100%;margin-bottom: 0;padding: 0.3em;box-sizing: border-box;text-align: center;}#sk-container-id-2 label.sk-toggleable__label-arrow:before {content: \"▸\";float: left;margin-right: 0.25em;color: #696969;}#sk-container-id-2 label.sk-toggleable__label-arrow:hover:before {color: black;}#sk-container-id-2 div.sk-estimator:hover label.sk-toggleable__label-arrow:before {color: black;}#sk-container-id-2 div.sk-toggleable__content {max-height: 0;max-width: 0;overflow: hidden;text-align: left;background-color: #f0f8ff;}#sk-container-id-2 div.sk-toggleable__content pre {margin: 0.2em;color: black;border-radius: 0.25em;background-color: #f0f8ff;}#sk-container-id-2 input.sk-toggleable__control:checked~div.sk-toggleable__content {max-height: 200px;max-width: 100%;overflow: auto;}#sk-container-id-2 input.sk-toggleable__control:checked~label.sk-toggleable__label-arrow:before {content: \"▾\";}#sk-container-id-2 div.sk-estimator input.sk-toggleable__control:checked~label.sk-toggleable__label {background-color: #d4ebff;}#sk-container-id-2 div.sk-label input.sk-toggleable__control:checked~label.sk-toggleable__label {background-color: #d4ebff;}#sk-container-id-2 input.sk-hidden--visually {border: 0;clip: rect(1px 1px 1px 1px);clip: rect(1px, 1px, 1px, 1px);height: 1px;margin: -1px;overflow: hidden;padding: 0;position: absolute;width: 1px;}#sk-container-id-2 div.sk-estimator {font-family: monospace;background-color: #f0f8ff;border: 1px dotted black;border-radius: 0.25em;box-sizing: border-box;margin-bottom: 0.5em;}#sk-container-id-2 div.sk-estimator:hover {background-color: #d4ebff;}#sk-container-id-2 div.sk-parallel-item::after {content: \"\";width: 100%;border-bottom: 1px solid gray;flex-grow: 1;}#sk-container-id-2 div.sk-label:hover label.sk-toggleable__label {background-color: #d4ebff;}#sk-container-id-2 div.sk-serial::before {content: \"\";position: absolute;border-left: 1px solid gray;box-sizing: border-box;top: 0;bottom: 0;left: 50%;z-index: 0;}#sk-container-id-2 div.sk-serial {display: flex;flex-direction: column;align-items: center;background-color: white;padding-right: 0.2em;padding-left: 0.2em;position: relative;}#sk-container-id-2 div.sk-item {position: relative;z-index: 1;}#sk-container-id-2 div.sk-parallel {display: flex;align-items: stretch;justify-content: center;background-color: white;position: relative;}#sk-container-id-2 div.sk-item::before, #sk-container-id-2 div.sk-parallel-item::before {content: \"\";position: absolute;border-left: 1px solid gray;box-sizing: border-box;top: 0;bottom: 0;left: 50%;z-index: -1;}#sk-container-id-2 div.sk-parallel-item {display: flex;flex-direction: column;z-index: 1;position: relative;background-color: white;}#sk-container-id-2 div.sk-parallel-item:first-child::after {align-self: flex-end;width: 50%;}#sk-container-id-2 div.sk-parallel-item:last-child::after {align-self: flex-start;width: 50%;}#sk-container-id-2 div.sk-parallel-item:only-child::after {width: 0;}#sk-container-id-2 div.sk-dashed-wrapped {border: 1px dashed gray;margin: 0 0.4em 0.5em 0.4em;box-sizing: border-box;padding-bottom: 0.4em;background-color: white;}#sk-container-id-2 div.sk-label label {font-family: monospace;font-weight: bold;display: inline-block;line-height: 1.2em;}#sk-container-id-2 div.sk-label-container {text-align: center;}#sk-container-id-2 div.sk-container {/* jupyter's `normalize.less` sets `[hidden] { display: none; }` but bootstrap.min.css set `[hidden] { display: none !important; }` so we also need the `!important` here to be able to override the default hidden behavior on the sphinx rendered scikit-learn.org. See: https://github.com/scikit-learn/scikit-learn/issues/21755 */display: inline-block !important;position: relative;}#sk-container-id-2 div.sk-text-repr-fallback {display: none;}</style><div id=\"sk-container-id-2\" class=\"sk-top-container\"><div class=\"sk-text-repr-fallback\"><pre>OneHotEncoder()</pre><b>In a Jupyter environment, please rerun this cell to show the HTML representation or trust the notebook. <br />On GitHub, the HTML representation is unable to render, please try loading this page with nbviewer.org.</b></div><div class=\"sk-container\" hidden><div class=\"sk-item\"><div class=\"sk-estimator sk-toggleable\"><input class=\"sk-toggleable__control sk-hidden--visually\" id=\"sk-estimator-id-2\" type=\"checkbox\" checked><label for=\"sk-estimator-id-2\" class=\"sk-toggleable__label sk-toggleable__label-arrow\">OneHotEncoder</label><div class=\"sk-toggleable__content\"><pre>OneHotEncoder()</pre></div></div></div></div></div>"
      ],
      "text/plain": [
       "OneHotEncoder()"
      ]
     },
     "execution_count": 121,
     "metadata": {},
     "output_type": "execute_result"
    }
   ],
   "source": [
    "oh = OneHotEncoder()\n",
    "oh.fit(y.reshape(-1,1))"
   ]
  },
  {
   "cell_type": "code",
   "execution_count": 122,
   "id": "d33499c7-ee6e-420b-ac54-4151e89b3643",
   "metadata": {},
   "outputs": [
    {
     "data": {
      "text/plain": [
       "3"
      ]
     },
     "execution_count": 122,
     "metadata": {},
     "output_type": "execute_result"
    }
   ],
   "source": [
    "np.unique(y).size"
   ]
  },
  {
   "cell_type": "code",
   "execution_count": 123,
   "id": "9dc438da-1cef-43b9-a047-11c60a5010f5",
   "metadata": {},
   "outputs": [
    {
     "data": {
      "text/plain": [
       "(150, 3)"
      ]
     },
     "execution_count": 123,
     "metadata": {},
     "output_type": "execute_result"
    }
   ],
   "source": [
    "oh.transform(y.reshape(-1,1)).toarray().shape"
   ]
  },
  {
   "cell_type": "code",
   "execution_count": 124,
   "id": "64c2d2bb-0ac3-4afa-8fce-fc5c7d47059b",
   "metadata": {},
   "outputs": [],
   "source": [
    "def make_onehot(x):\n",
    "    one_hot = np.zeros((x.shape[0],np.unique(x).size))\n",
    "    for idx, val in enumerate(x):\n",
    "        one_hot[idx,val] = 1\n",
    "    return one_hot"
   ]
  },
  {
   "cell_type": "code",
   "execution_count": 125,
   "id": "f01272e3-eee8-43b5-bb35-83ed01f25fca",
   "metadata": {},
   "outputs": [],
   "source": [
    "y_target = make_onehot(y)"
   ]
  },
  {
   "cell_type": "code",
   "execution_count": 126,
   "id": "769ee846-73f3-4701-929e-13f11a33692a",
   "metadata": {},
   "outputs": [],
   "source": [
    "W = np.random.randn(4,3)\n",
    "b = [0]*3"
   ]
  },
  {
   "cell_type": "code",
   "execution_count": 127,
   "id": "51cb8488-ddce-4dbf-80f0-071bee07908d",
   "metadata": {},
   "outputs": [],
   "source": [
    "y_hat = np.dot(X,W) + b"
   ]
  },
  {
   "cell_type": "code",
   "execution_count": 128,
   "id": "5066a70c-d565-4ded-b5af-2de82d89c850",
   "metadata": {},
   "outputs": [],
   "source": [
    "def softmax(x):\n",
    "    m = np.max(x)\n",
    "    x = x - m\n",
    "    return np.exp(x)/np.sum(np.exp(x))"
   ]
  },
  {
   "cell_type": "code",
   "execution_count": 129,
   "id": "1f521cd6-d351-4a4b-8cca-a4f046659216",
   "metadata": {},
   "outputs": [],
   "source": [
    "W = np.random.randn(X.shape[1],y_target.shape[1])\n",
    "b = np.random.randn(y_target.shape[1])"
   ]
  },
  {
   "cell_type": "code",
   "execution_count": 130,
   "id": "5df3bf2f-7830-42ac-aeb5-bcde04a60602",
   "metadata": {},
   "outputs": [],
   "source": [
    "y_hat = np.dot(X,W) + b\n",
    "y_hat_ = np.apply_along_axis(softmax,1,y_hat)"
   ]
  },
  {
   "cell_type": "code",
   "execution_count": 131,
   "id": "876f785e-88e2-4afa-adcc-3f92ccd9eed8",
   "metadata": {},
   "outputs": [],
   "source": [
    "y = make_onehot(y)"
   ]
  },
  {
   "cell_type": "code",
   "execution_count": 132,
   "id": "69fe7170-f8ef-481f-a365-530b3f5f2806",
   "metadata": {},
   "outputs": [],
   "source": [
    "def cost(W,b):\n",
    "    y_hat = np.dot(X,W) + b\n",
    "    y_hat_ = np.apply_along_axis(softmax,1,y_hat)\n",
    "    return -np.sum(y*np.log(y_hat_))"
   ]
  },
  {
   "cell_type": "code",
   "execution_count": 133,
   "id": "a374985b-abd9-4717-9968-8d8e02664ebc",
   "metadata": {},
   "outputs": [],
   "source": [
    "def diff(func,W,b):\n",
    "    h = 1e-4\n",
    "    grad_a = np.zeros_like(W)\n",
    "    for i in range(W.shape[0]):\n",
    "        for j in range(W.shape[1]):\n",
    "            tmp = W[i,j]\n",
    "            fx = func(W,b)\n",
    "            W[i,j] = tmp + h\n",
    "            fxh = func(W,b)\n",
    "            grad_a[i,j] = (fxh - fx)/h\n",
    "            W[i,j] = tmp\n",
    "    grad_b = np.zeros_like(b)\n",
    "    for i in range(b.size):\n",
    "        tmp = b[i]\n",
    "        fx = func(W,b)\n",
    "        b[i] = tmp+h\n",
    "        fxh = func(W,b)\n",
    "        grad_b[i] = (fxh-fx)/h\n",
    "    return grad_a, grad_b"
   ]
  },
  {
   "cell_type": "code",
   "execution_count": 134,
   "id": "b3c4bdad-a2a8-4918-b9e5-7d932fa2d62d",
   "metadata": {},
   "outputs": [
    {
     "data": {
      "text/plain": [
       "((150, 3), (150, 3))"
      ]
     },
     "execution_count": 134,
     "metadata": {},
     "output_type": "execute_result"
    }
   ],
   "source": [
    "y_hat = np.dot(X,W) + b\n",
    "y_hat_ = np.apply_along_axis(softmax,1,y_hat)\n",
    "y_hat_.shape, y_hat.shape"
   ]
  },
  {
   "cell_type": "code",
   "execution_count": 135,
   "id": "ea5ea123-9a3e-4a9c-aae6-838dae91eb9a",
   "metadata": {
    "collapsed": true,
    "jupyter": {
     "outputs_hidden": true
    },
    "tags": []
   },
   "outputs": [
    {
     "name": "stdout",
     "output_type": "stream",
     "text": [
      "0 ===>  528.0388549131067\n",
      "100 ===>  133.9289431736384\n",
      "200 ===>  47.92357450326756\n",
      "300 ===>  24.403406009114782\n",
      "400 ===>  21.962001430557663\n",
      "500 ===>  20.238224241999347\n",
      "600 ===>  18.936619272424103\n",
      "700 ===>  17.912528736641686\n",
      "800 ===>  17.082253169218575\n",
      "900 ===>  16.39324305872332\n",
      "1000 ===>  15.810653206861012\n",
      "1100 ===>  15.310397990479913\n",
      "1200 ===>  14.875263209795136\n",
      "1300 ===>  14.492599924458355\n",
      "1400 ===>  14.15289319948927\n",
      "1500 ===>  13.848840061625465\n",
      "1600 ===>  13.574736436703486\n",
      "1700 ===>  13.326058281149994\n",
      "1800 ===>  13.099168515912035\n",
      "1900 ===>  12.891107641303499\n",
      "2000 ===>  12.699441329116933\n",
      "2100 ===>  12.52214762454038\n",
      "2200 ===>  12.357532202182371\n",
      "2300 ===>  12.204163828608115\n",
      "2400 ===>  12.060824602569134\n",
      "2500 ===>  11.926471153843432\n",
      "2600 ===>  11.800204072558744\n",
      "2700 ===>  11.681243592644556\n",
      "2800 ===>  11.568910079054021\n",
      "2900 ===>  11.462608241677454\n",
      "3000 ===>  11.361814267169136\n",
      "3100 ===>  11.266065255146755\n",
      "3200 ===>  11.17495048885442\n"
     ]
    },
    {
     "ename": "KeyboardInterrupt",
     "evalue": "",
     "output_type": "error",
     "traceback": [
      "\u001b[1;31m---------------------------------------------------------------------------\u001b[0m",
      "\u001b[1;31mKeyboardInterrupt\u001b[0m                         Traceback (most recent call last)",
      "Cell \u001b[1;32mIn[135], line 6\u001b[0m\n\u001b[0;32m      4\u001b[0m y_hat \u001b[38;5;241m=\u001b[39m np\u001b[38;5;241m.\u001b[39mdot(X,W) \u001b[38;5;241m+\u001b[39m b\n\u001b[0;32m      5\u001b[0m y_hat_ \u001b[38;5;241m=\u001b[39m np\u001b[38;5;241m.\u001b[39mapply_along_axis(softmax,\u001b[38;5;241m1\u001b[39m,y_hat)\n\u001b[1;32m----> 6\u001b[0m W \u001b[38;5;241m-\u001b[39m\u001b[38;5;241m=\u001b[39m \u001b[43mdiff\u001b[49m\u001b[43m(\u001b[49m\u001b[43mcost\u001b[49m\u001b[43m,\u001b[49m\u001b[43mW\u001b[49m\u001b[43m,\u001b[49m\u001b[43mb\u001b[49m\u001b[43m)\u001b[49m[\u001b[38;5;241m0\u001b[39m]\u001b[38;5;241m*\u001b[39mlr\n\u001b[0;32m      7\u001b[0m b \u001b[38;5;241m-\u001b[39m\u001b[38;5;241m=\u001b[39m diff(cost,W,b)[\u001b[38;5;241m1\u001b[39m]\u001b[38;5;241m*\u001b[39mlr\n\u001b[0;32m      8\u001b[0m \u001b[38;5;28;01mif\u001b[39;00m epoch \u001b[38;5;241m%\u001b[39m \u001b[38;5;241m100\u001b[39m \u001b[38;5;241m==\u001b[39m \u001b[38;5;241m0\u001b[39m:\n",
      "Cell \u001b[1;32mIn[133], line 9\u001b[0m, in \u001b[0;36mdiff\u001b[1;34m(func, W, b)\u001b[0m\n\u001b[0;32m      7\u001b[0m fx \u001b[38;5;241m=\u001b[39m func(W,b)\n\u001b[0;32m      8\u001b[0m W[i,j] \u001b[38;5;241m=\u001b[39m tmp \u001b[38;5;241m+\u001b[39m h\n\u001b[1;32m----> 9\u001b[0m fxh \u001b[38;5;241m=\u001b[39m \u001b[43mfunc\u001b[49m\u001b[43m(\u001b[49m\u001b[43mW\u001b[49m\u001b[43m,\u001b[49m\u001b[43mb\u001b[49m\u001b[43m)\u001b[49m\n\u001b[0;32m     10\u001b[0m grad_a[i,j] \u001b[38;5;241m=\u001b[39m (fxh \u001b[38;5;241m-\u001b[39m fx)\u001b[38;5;241m/\u001b[39mh\n\u001b[0;32m     11\u001b[0m W[i,j] \u001b[38;5;241m=\u001b[39m tmp\n",
      "Cell \u001b[1;32mIn[132], line 2\u001b[0m, in \u001b[0;36mcost\u001b[1;34m(W, b)\u001b[0m\n\u001b[0;32m      1\u001b[0m \u001b[38;5;28;01mdef\u001b[39;00m \u001b[38;5;21mcost\u001b[39m(W,b):\n\u001b[1;32m----> 2\u001b[0m     y_hat \u001b[38;5;241m=\u001b[39m \u001b[43mnp\u001b[49m\u001b[38;5;241;43m.\u001b[39;49m\u001b[43mdot\u001b[49m\u001b[43m(\u001b[49m\u001b[43mX\u001b[49m\u001b[43m,\u001b[49m\u001b[43mW\u001b[49m\u001b[43m)\u001b[49m \u001b[38;5;241m+\u001b[39m b\n\u001b[0;32m      3\u001b[0m     y_hat_ \u001b[38;5;241m=\u001b[39m np\u001b[38;5;241m.\u001b[39mapply_along_axis(softmax,\u001b[38;5;241m1\u001b[39m,y_hat)\n\u001b[0;32m      4\u001b[0m     \u001b[38;5;28;01mreturn\u001b[39;00m \u001b[38;5;241m-\u001b[39mnp\u001b[38;5;241m.\u001b[39msum(y\u001b[38;5;241m*\u001b[39mnp\u001b[38;5;241m.\u001b[39mlog(y_hat_))\n",
      "File \u001b[1;32m<__array_function__ internals>:200\u001b[0m, in \u001b[0;36mdot\u001b[1;34m(*args, **kwargs)\u001b[0m\n",
      "\u001b[1;31mKeyboardInterrupt\u001b[0m: "
     ]
    }
   ],
   "source": [
    "lr = 1e-3\n",
    "epochs = 10000\n",
    "for epoch in range(epochs):\n",
    "    y_hat = np.dot(X,W) + b\n",
    "    y_hat_ = np.apply_along_axis(softmax,1,y_hat)\n",
    "    W -= diff(cost,W,b)[0]*lr\n",
    "    b -= diff(cost,W,b)[1]*lr\n",
    "    if epoch % 100 == 0:\n",
    "        print(f'{epoch} ===>  {cost(W,b)}')"
   ]
  },
  {
   "cell_type": "code",
   "execution_count": 136,
   "id": "877d940c-7f6b-432d-a7be-c94d595f9bef",
   "metadata": {},
   "outputs": [],
   "source": [
    "y_hat = np.dot(X,W) + b\n",
    "y_hat_ = np.apply_along_axis(softmax,1,y_hat)"
   ]
  },
  {
   "cell_type": "code",
   "execution_count": 137,
   "id": "d088d113-3169-4c82-84db-4175cecbf6ab",
   "metadata": {},
   "outputs": [],
   "source": [
    "predict = np.argmax(y_hat_,1)\n",
    "real_y = np.argmax(y,1)"
   ]
  },
  {
   "cell_type": "code",
   "execution_count": 138,
   "id": "bfb5b3f0-9927-4bf5-8dca-3304570e6447",
   "metadata": {},
   "outputs": [
    {
     "data": {
      "text/plain": [
       "0.9733333333333334"
      ]
     },
     "execution_count": 138,
     "metadata": {},
     "output_type": "execute_result"
    }
   ],
   "source": [
    "np.sum(predict == real_y)/real_y.size"
   ]
  },
  {
   "cell_type": "code",
   "execution_count": 139,
   "id": "e3993208-d6df-44f6-89c2-09a24d6e2995",
   "metadata": {},
   "outputs": [],
   "source": [
    "korea = np.random.randint(60,100,100)\n",
    "math = np.random.randint(60,100,100)\n",
    "english = np.random.randint(60,100,100)"
   ]
  },
  {
   "cell_type": "code",
   "execution_count": 142,
   "id": "ec9070c5-4274-453b-9bf2-bcfde50102d3",
   "metadata": {
    "tags": []
   },
   "outputs": [],
   "source": [
    "import pandas as pd"
   ]
  },
  {
   "cell_type": "code",
   "execution_count": 143,
   "id": "25aff343-f870-4804-8069-73f15f39eff0",
   "metadata": {},
   "outputs": [],
   "source": [
    "dic = {\n",
    "    'korea':korea,\n",
    "    'math':math,\n",
    "    'english':english,\n",
    "}\n",
    "score = pd.DataFrame(dic)"
   ]
  },
  {
   "cell_type": "code",
   "execution_count": 144,
   "id": "41cd680b-57ab-44a1-a093-cfe62115a830",
   "metadata": {},
   "outputs": [],
   "source": [
    "score['mean'] = score.apply(np.mean,1)"
   ]
  },
  {
   "cell_type": "code",
   "execution_count": 145,
   "id": "0f6c2ff6-151d-40c0-94bf-f8fecfbfb035",
   "metadata": {},
   "outputs": [],
   "source": [
    "score['best_subjec']=np.where(np.argmax(score.values,1)==0,score.columns[0],\n",
    "         np.where(np.argmax(score.values,1)==1,score.columns[1],score.columns[2]))"
   ]
  },
  {
   "cell_type": "code",
   "execution_count": 146,
   "id": "19eec8ab-7fff-4e66-a087-5f5ae8f7081f",
   "metadata": {},
   "outputs": [],
   "source": [
    "def find_subjct(x):\n",
    "    return score.columns[np.argmax(x)]"
   ]
  },
  {
   "cell_type": "code",
   "execution_count": 147,
   "id": "4f4a123e-ee2e-47bb-bbfd-e0caddc8cbd1",
   "metadata": {},
   "outputs": [
    {
     "data": {
      "text/plain": [
       "0        math\n",
       "1       korea\n",
       "2       korea\n",
       "3        math\n",
       "4        math\n",
       "       ...   \n",
       "95    english\n",
       "96    english\n",
       "97      korea\n",
       "98    english\n",
       "99    english\n",
       "Length: 100, dtype: object"
      ]
     },
     "execution_count": 147,
     "metadata": {},
     "output_type": "execute_result"
    }
   ],
   "source": [
    "score.iloc[:,:3].apply(find_subjct,1)"
   ]
  },
  {
   "cell_type": "code",
   "execution_count": 148,
   "id": "cd618081-5d92-402e-838d-6ac8fca62261",
   "metadata": {},
   "outputs": [
    {
     "data": {
      "text/html": [
       "<div>\n",
       "<style scoped>\n",
       "    .dataframe tbody tr th:only-of-type {\n",
       "        vertical-align: middle;\n",
       "    }\n",
       "\n",
       "    .dataframe tbody tr th {\n",
       "        vertical-align: top;\n",
       "    }\n",
       "\n",
       "    .dataframe thead th {\n",
       "        text-align: right;\n",
       "    }\n",
       "</style>\n",
       "<table border=\"1\" class=\"dataframe\">\n",
       "  <thead>\n",
       "    <tr style=\"text-align: right;\">\n",
       "      <th></th>\n",
       "      <th>korea</th>\n",
       "      <th>math</th>\n",
       "      <th>english</th>\n",
       "    </tr>\n",
       "  </thead>\n",
       "  <tbody>\n",
       "    <tr>\n",
       "      <th>0</th>\n",
       "      <td>65</td>\n",
       "      <td>81</td>\n",
       "      <td>75</td>\n",
       "    </tr>\n",
       "  </tbody>\n",
       "</table>\n",
       "</div>"
      ],
      "text/plain": [
       "   korea  math  english\n",
       "0     65    81       75"
      ]
     },
     "execution_count": 148,
     "metadata": {},
     "output_type": "execute_result"
    }
   ],
   "source": [
    "score.iloc[0:1,0:3]"
   ]
  },
  {
   "cell_type": "code",
   "execution_count": 149,
   "id": "5009de82-3125-4595-9ab2-c83f7efaf88d",
   "metadata": {
    "tags": []
   },
   "outputs": [
    {
     "data": {
      "text/plain": [
       "['C:\\\\work2023',\n",
       " 'C:\\\\Users\\\\admin\\\\AppData\\\\Local\\\\Programs\\\\Python\\\\Python311\\\\python311.zip',\n",
       " 'C:\\\\Users\\\\admin\\\\AppData\\\\Local\\\\Programs\\\\Python\\\\Python311\\\\Lib',\n",
       " 'C:\\\\Users\\\\admin\\\\AppData\\\\Local\\\\Programs\\\\Python\\\\Python311\\\\DLLs',\n",
       " '',\n",
       " 'C:\\\\Users\\\\admin\\\\AppData\\\\Roaming\\\\Python\\\\Python311\\\\site-packages',\n",
       " 'C:\\\\Users\\\\admin\\\\AppData\\\\Roaming\\\\Python\\\\Python311\\\\site-packages\\\\win32',\n",
       " 'C:\\\\Users\\\\admin\\\\AppData\\\\Roaming\\\\Python\\\\Python311\\\\site-packages\\\\win32\\\\lib',\n",
       " 'C:\\\\Users\\\\admin\\\\AppData\\\\Roaming\\\\Python\\\\Python311\\\\site-packages\\\\Pythonwin',\n",
       " 'C:\\\\Users\\\\admin\\\\AppData\\\\Local\\\\Programs\\\\Python\\\\Python311',\n",
       " 'C:\\\\Users\\\\admin\\\\AppData\\\\Local\\\\Programs\\\\Python\\\\Python311\\\\Lib\\\\site-packages']"
      ]
     },
     "execution_count": 149,
     "metadata": {},
     "output_type": "execute_result"
    }
   ],
   "source": [
    "import sys\n",
    "sys.path"
   ]
  },
  {
   "cell_type": "code",
   "execution_count": 177,
   "id": "419cd443-0d8c-48f2-b8f7-b9b440c43f38",
   "metadata": {
    "tags": []
   },
   "outputs": [],
   "source": [
    "## one hot 작성함수\n",
    "def make_onehot(x):\n",
    "    col = np.unique(x).size\n",
    "    row = len(x) ## x.shape[0]\n",
    "    onehot = np.zeros((row,col))\n",
    "    for idx, val in enumerate(x):\n",
    "        onehot[idx,val] = 1\n",
    "    return onehot\n",
    "## softmax \n",
    "def softmax(x):\n",
    "    m = np.max(x)\n",
    "    x -= m\n",
    "    return np.exp(x)/np.sum(np.exp(x))\n",
    "\n",
    "def sigmoid(x):\n",
    "    return 1/(1+np.exp(-x))\n",
    "\n",
    "class Leejunyoung:\n",
    "    def __init__(self,x,y):\n",
    "        self.x = x\n",
    "        self.y_original = y\n",
    "        self.y = make_onehot(y)\n",
    "        self.w = np.random.randn(self.x.shape[1],self.y.shape[1])\n",
    "        self.b = np.zeros(self.y.shape[1])\n",
    "        \n",
    "    def fit(self, epochs, lr):\n",
    "        for epoch in range(epochs):\n",
    "            self.w -= self.diff()[0]*lr\n",
    "            self.b -= self.diff()[1]*lr\n",
    "        if epoch % 10 == 0:\n",
    "            print(f'Loss: {self.cost()}')\n",
    "    \n",
    "    def predict(self):\n",
    "        self.y_hat = np.dot(self.x,self.w) + self.b\n",
    "        self.y_hat = np.apply_along_axis(softmax,1,y_hat)\n",
    "        return self.y_hat\n",
    "    \n",
    "    def cost(self):\n",
    "        self.predict()\n",
    "        return -np.sum(self.y*np.log(y_hat))\n",
    "    \n",
    "    def diff(self):\n",
    "        h=1e-4\n",
    "        grad_a = np.zeros_like(self.w)\n",
    "        for i in range(self.w.shape[0]):\n",
    "            for j in range(self.w.shape[1]):\n",
    "                self.w[i,j]=tmp\n",
    "                fx=self.cost()\n",
    "                self.w[i,j] += h\n",
    "                fxh=self.cost()\n",
    "                self.grad_a[i,j]=(fxh-fx)/h\n",
    "                self.w[i,j]=tmp\n",
    "        self.grad_b=np.zeros_like(self.b)\n",
    "        for i in range(b.shape[0]):\n",
    "            tmp = self.b[i]\n",
    "            fx=self.cost()\n",
    "            self.b[i] += h\n",
    "            fxh = self.cost()\n",
    "            self.grad_b[i]=(fxh-fx)/h\n",
    "            self.b[i]=tmp\n",
    "        return self.grad_a, self.grad_b"
   ]
  },
  {
   "cell_type": "code",
   "execution_count": 178,
   "id": "bda4273e-874d-40f9-bbf6-e5958e6fbb8b",
   "metadata": {
    "tags": []
   },
   "outputs": [],
   "source": [
    "from sklearn.datasets import load_wine\n",
    "X = load_wine()['data']\n",
    "y = load_wine()['target']\n",
    "x = load_wine()"
   ]
  },
  {
   "cell_type": "code",
   "execution_count": 179,
   "id": "7a6d0773-a566-4493-bb2d-34c6c1cceec2",
   "metadata": {
    "tags": []
   },
   "outputs": [],
   "source": [
    "from sklearn.datasets import load_iris\n",
    "x=load_iris()['data']\n",
    "y=load_iris()['target']"
   ]
  },
  {
   "cell_type": "code",
   "execution_count": 180,
   "id": "dc663b64-67eb-4812-aab5-d20a2dfcc6a6",
   "metadata": {
    "tags": []
   },
   "outputs": [],
   "source": [
    "model = Leejunyoung(X,y)"
   ]
  },
  {
   "cell_type": "code",
   "execution_count": 181,
   "id": "416e0207-924b-4961-9b26-83f3ae728e7c",
   "metadata": {
    "tags": []
   },
   "outputs": [
    {
     "name": "stderr",
     "output_type": "stream",
     "text": [
      "C:\\Users\\admin\\AppData\\Local\\Temp\\ipykernel_28852\\3204294149.py:40: RuntimeWarning: divide by zero encountered in log\n",
      "  return -np.sum(self.y*np.log(y_hat))\n",
      "C:\\Users\\admin\\AppData\\Local\\Temp\\ipykernel_28852\\3204294149.py:40: RuntimeWarning: invalid value encountered in log\n",
      "  return -np.sum(self.y*np.log(y_hat))\n",
      "C:\\Users\\admin\\AppData\\Local\\Temp\\ipykernel_28852\\3204294149.py:40: RuntimeWarning: invalid value encountered in multiply\n",
      "  return -np.sum(self.y*np.log(y_hat))\n"
     ]
    },
    {
     "data": {
      "text/plain": [
       "nan"
      ]
     },
     "execution_count": 181,
     "metadata": {},
     "output_type": "execute_result"
    }
   ],
   "source": [
    "model.cost()"
   ]
  },
  {
   "cell_type": "code",
   "execution_count": 182,
   "id": "113fd84f-5fdc-43d4-a9a5-3f55cf90612b",
   "metadata": {
    "tags": []
   },
   "outputs": [
    {
     "ename": "UnboundLocalError",
     "evalue": "cannot access local variable 'tmp' where it is not associated with a value",
     "output_type": "error",
     "traceback": [
      "\u001b[1;31m---------------------------------------------------------------------------\u001b[0m",
      "\u001b[1;31mUnboundLocalError\u001b[0m                         Traceback (most recent call last)",
      "Cell \u001b[1;32mIn[182], line 1\u001b[0m\n\u001b[1;32m----> 1\u001b[0m \u001b[43mmodel\u001b[49m\u001b[38;5;241;43m.\u001b[39;49m\u001b[43mfit\u001b[49m\u001b[43m(\u001b[49m\u001b[43mepochs\u001b[49m\u001b[38;5;241;43m=\u001b[39;49m\u001b[38;5;241;43m1000\u001b[39;49m\u001b[43m,\u001b[49m\u001b[43m \u001b[49m\u001b[43mlr\u001b[49m\u001b[38;5;241;43m=\u001b[39;49m\u001b[38;5;241;43m1e-3\u001b[39;49m\u001b[43m)\u001b[49m\n",
      "Cell \u001b[1;32mIn[177], line 28\u001b[0m, in \u001b[0;36mLeejunyoung.fit\u001b[1;34m(self, epochs, lr)\u001b[0m\n\u001b[0;32m     26\u001b[0m \u001b[38;5;28;01mdef\u001b[39;00m \u001b[38;5;21mfit\u001b[39m(\u001b[38;5;28mself\u001b[39m, epochs, lr):\n\u001b[0;32m     27\u001b[0m     \u001b[38;5;28;01mfor\u001b[39;00m epoch \u001b[38;5;129;01min\u001b[39;00m \u001b[38;5;28mrange\u001b[39m(epochs):\n\u001b[1;32m---> 28\u001b[0m         \u001b[38;5;28mself\u001b[39m\u001b[38;5;241m.\u001b[39mw \u001b[38;5;241m-\u001b[39m\u001b[38;5;241m=\u001b[39m \u001b[38;5;28;43mself\u001b[39;49m\u001b[38;5;241;43m.\u001b[39;49m\u001b[43mdiff\u001b[49m\u001b[43m(\u001b[49m\u001b[43m)\u001b[49m[\u001b[38;5;241m0\u001b[39m]\u001b[38;5;241m*\u001b[39mlr\n\u001b[0;32m     29\u001b[0m         \u001b[38;5;28mself\u001b[39m\u001b[38;5;241m.\u001b[39mb \u001b[38;5;241m-\u001b[39m\u001b[38;5;241m=\u001b[39m \u001b[38;5;28mself\u001b[39m\u001b[38;5;241m.\u001b[39mdiff()[\u001b[38;5;241m1\u001b[39m]\u001b[38;5;241m*\u001b[39mlr\n\u001b[0;32m     30\u001b[0m     \u001b[38;5;28;01mif\u001b[39;00m epoch \u001b[38;5;241m%\u001b[39m \u001b[38;5;241m10\u001b[39m \u001b[38;5;241m==\u001b[39m \u001b[38;5;241m0\u001b[39m:\n",
      "Cell \u001b[1;32mIn[177], line 47\u001b[0m, in \u001b[0;36mLeejunyoung.diff\u001b[1;34m(self)\u001b[0m\n\u001b[0;32m     45\u001b[0m \u001b[38;5;28;01mfor\u001b[39;00m i \u001b[38;5;129;01min\u001b[39;00m \u001b[38;5;28mrange\u001b[39m(\u001b[38;5;28mself\u001b[39m\u001b[38;5;241m.\u001b[39mw\u001b[38;5;241m.\u001b[39mshape[\u001b[38;5;241m0\u001b[39m]):\n\u001b[0;32m     46\u001b[0m     \u001b[38;5;28;01mfor\u001b[39;00m j \u001b[38;5;129;01min\u001b[39;00m \u001b[38;5;28mrange\u001b[39m(\u001b[38;5;28mself\u001b[39m\u001b[38;5;241m.\u001b[39mw\u001b[38;5;241m.\u001b[39mshape[\u001b[38;5;241m1\u001b[39m]):\n\u001b[1;32m---> 47\u001b[0m         \u001b[38;5;28mself\u001b[39m\u001b[38;5;241m.\u001b[39mw[i,j]\u001b[38;5;241m=\u001b[39m\u001b[43mtmp\u001b[49m\n\u001b[0;32m     48\u001b[0m         fx\u001b[38;5;241m=\u001b[39m\u001b[38;5;28mself\u001b[39m\u001b[38;5;241m.\u001b[39mcost()\n\u001b[0;32m     49\u001b[0m         \u001b[38;5;28mself\u001b[39m\u001b[38;5;241m.\u001b[39mw[i,j] \u001b[38;5;241m+\u001b[39m\u001b[38;5;241m=\u001b[39m h\n",
      "\u001b[1;31mUnboundLocalError\u001b[0m: cannot access local variable 'tmp' where it is not associated with a value"
     ]
    }
   ],
   "source": [
    "model.fit(epochs=1000, lr=1e-3)"
   ]
  },
  {
   "cell_type": "code",
   "execution_count": null,
   "id": "8c25a1b7-0dc9-49c6-8472-eef7ab869ce8",
   "metadata": {},
   "outputs": [],
   "source": []
  }
 ],
 "metadata": {
  "kernelspec": {
   "display_name": "Python 3 (ipykernel)",
   "language": "python",
   "name": "python3"
  },
  "language_info": {
   "codemirror_mode": {
    "name": "ipython",
    "version": 3
   },
   "file_extension": ".py",
   "mimetype": "text/x-python",
   "name": "python",
   "nbconvert_exporter": "python",
   "pygments_lexer": "ipython3",
   "version": "3.11.1"
  }
 },
 "nbformat": 4,
 "nbformat_minor": 5
}
